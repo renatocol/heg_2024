{
 "cells": [
  {
   "cell_type": "markdown",
   "metadata": {
    "editable": true,
    "nbpresent": {
     "id": "452305db-662c-4b4e-aa92-79d92fa4544d"
    },
    "slideshow": {
     "slide_type": "slide"
    },
    "tags": []
   },
   "source": [
    "## <center>História Econômica Geral - FEA-USP</center>\n",
    "\n",
    "### <center>Aula 10 - Expansão da Industrialização e Desenvolvimento Tecnológico</center>\n",
    "\n",
    "#### <center>Renato Perim Colistete</center>\n",
    "\n",
    "\n",
    "#### <center>2024</center>"
   ]
  },
  {
   "cell_type": "markdown",
   "metadata": {
    "editable": true,
    "nbpresent": {
     "id": "1fc7160f-beb4-4997-9c3f-0553e0592605"
    },
    "slideshow": {
     "slide_type": "slide"
    },
    "tags": []
   },
   "source": [
    "## Objetivos\n",
    "\n",
    "Abordaremos hoje o desenvolvimento tecnológico durante a 2a Revolução Industrial.\n",
    "\n",
    "Vamos destacar uma macroinovação de certo modo atípica, o surgimento do chamado “sistema americano de manufaturas”.\n",
    "\n",
    "Ao final, trataremos dos casos da indústria automobilística e da Ford, exemplos das mudanças tecnológicas e organizacionais do período."
   ]
  },
  {
   "cell_type": "markdown",
   "metadata": {
    "nbpresent": {
     "id": "1acbc207-c8bb-4376-a328-421bbf9520c4"
    },
    "slideshow": {
     "slide_type": "slide"
    }
   },
   "source": [
    "## Ciência e tecnologia\n",
    "\n",
    "Joel Mokyr sustenta que a Revolução Industrial Britânica teve “pouca ou nenhuma base científica”."
   ]
  },
  {
   "cell_type": "markdown",
   "metadata": {
    "nbpresent": {
     "id": "f3dfbdf9-fe1d-4356-9ad0-df395911e6f3"
    },
    "slideshow": {
     "slide_type": "fragment"
    }
   },
   "source": [
    "A maior parte das invenções e inovações foi realizada a partir de experiência prática, de tentativa e erro, sem o domínio do conhecimento científico relacionado – p. ex, criou-se uma indústria química sem a ciência química (essa interpretação, porém, tem sido questionada recentemente)."
   ]
  },
  {
   "cell_type": "markdown",
   "metadata": {
    "slideshow": {
     "slide_type": "fragment"
    }
   },
   "source": [
    "Já a 2a Revolução Industrial baseou-se em conhecimento\n",
    "científico sistemático e aplicado."
   ]
  },
  {
   "cell_type": "markdown",
   "metadata": {
    "nbpresent": {
     "id": "13c81a42-221c-45fd-bde2-343bbcc74678"
    },
    "slideshow": {
     "slide_type": "slide"
    }
   },
   "source": [
    "## Grande empresa\n",
    "\n",
    "Outra característica da 2a Revolução Industrial foi o surgimento de\n",
    "grandes unidades produtivas, particularmente em\n",
    "indústrias com potencial de ganhos de *economias de\n",
    "escala e escopo* (ver definições)."
   ]
  },
  {
   "cell_type": "markdown",
   "metadata": {
    "nbpresent": {
     "id": "69b2baa0-ed18-483e-8653-50f0e5c1d94f"
    },
    "slideshow": {
     "slide_type": "fragment"
    }
   },
   "source": [
    "Dois exemplos: química e aço. Tanto nos EUA quanto\n",
    "na Alemanha as grandes empresas predominaram\n",
    "nessas indústrias."
   ]
  },
  {
   "cell_type": "markdown",
   "metadata": {
    "nbpresent": {
     "id": "1674bcc2-8448-4b20-8203-e741d2f6048b"
    },
    "slideshow": {
     "slide_type": "fragment"
    }
   },
   "source": [
    "Mesmo assim, na maioria das indústrias a empresa\n",
    "típica ainda era relativamente pequena, com linha de\n",
    "produção flexível e restrita a espaços regionais."
   ]
  },
  {
   "cell_type": "markdown",
   "metadata": {
    "nbpresent": {
     "id": "8b4f0472-cccb-4d13-abbd-187d93bc9309"
    },
    "slideshow": {
     "slide_type": "slide"
    }
   },
   "source": [
    "## Macroinovações\n",
    "\n",
    "Diversas atividades passaram por macroinovações no\n",
    "período, como p.ex. química, aço e transporte."
   ]
  },
  {
   "cell_type": "markdown",
   "metadata": {
    "nbpresent": {
     "id": "794d2206-833d-419a-b3b9-b12875162c7e"
    },
    "slideshow": {
     "slide_type": "fragment"
    }
   },
   "source": [
    "Vamos destacar aqui uma delas, que embora de natureza\n",
    "organizacional foi tão importante quanto as outras\n",
    "citadas."
   ]
  },
  {
   "cell_type": "markdown",
   "metadata": {
    "slideshow": {
     "slide_type": "fragment"
    }
   },
   "source": [
    "O “sistema americano de manufaturas” foi uma inovação que lançou as bases para a produção em massa que marcou o século XX."
   ]
  },
  {
   "cell_type": "markdown",
   "metadata": {
    "editable": true,
    "slideshow": {
     "slide_type": "slide"
    },
    "tags": []
   },
   "source": [
    "## Definição\n",
    "\n",
    "O *sistema americano de manufaturas* consistiu na\n",
    "“montagem de produtos complexos a partir de\n",
    "componentes individuais produzidos em massa” (Mokyr)."
   ]
  },
  {
   "cell_type": "markdown",
   "metadata": {
    "editable": true,
    "slideshow": {
     "slide_type": "fragment"
    },
    "tags": []
   },
   "source": [
    "Um princípio básico nesse sistema de produção industrial foi a “intercambialidade de peças”, progressivamente aperfeiçoado e adotado em indústrias na fronteira da expansão do período."
   ]
  },
  {
   "cell_type": "markdown",
   "metadata": {
    "editable": true,
    "slideshow": {
     "slide_type": "fragment"
    },
    "tags": []
   },
   "source": [
    "Uma definição simples de intercambialidade de peças: a possibilidade de montagem de produtos variados a partir de peças manufaturadas com alto grau de precisão mecânica."
   ]
  },
  {
   "cell_type": "markdown",
   "metadata": {
    "nbpresent": {
     "id": "1a43feb9-1cad-4162-a6ad-b16662fbb6a4"
    },
    "slideshow": {
     "slide_type": "slide"
    }
   },
   "source": [
    "## Intercambialidade\n",
    "\n",
    "A *intercambialidade de peças* somente tornou-se possível após um longo aperfeiçoamento técnico na indústria mecânica, em particular no setor de máquinas-ferramentas (bens de capital)."
   ]
  },
  {
   "cell_type": "markdown",
   "metadata": {
    "slideshow": {
     "slide_type": "fragment"
    }
   },
   "source": [
    "Máquinas-ferramentas: máquinas fixas para cortar, perfurar ou moldar metais, madeira ou outros materiais - exemplo: tornos mecânicos."
   ]
  },
  {
   "cell_type": "markdown",
   "metadata": {
    "slideshow": {
     "slide_type": "fragment"
    }
   },
   "source": [
    "Com o seu desenvolvimento, a intercambialidade de\n",
    "peças permitiu a introdução de linhas de produção\n",
    "seriada, com peças e componentes padronizados."
   ]
  },
  {
   "cell_type": "markdown",
   "metadata": {
    "slideshow": {
     "slide_type": "subslide"
    }
   },
   "source": [
    "O desenvolvimento foi lento e irregular, porém. E algumas indústrias avançaram mais que outras – p.ex. armas, máquinas de costura e bicicletas no final do século XIX. A Singer, p.ex."
   ]
  },
  {
   "cell_type": "markdown",
   "metadata": {
    "slideshow": {
     "slide_type": "slide"
    }
   },
   "source": [
    "## Fluxo contínuo\n",
    "\n",
    "Um desenvolvimento paralelo, também parte do sistema\n",
    "americano de manufaturas, foi o do *fluxo contínuo de\n",
    "produção*."
   ]
  },
  {
   "cell_type": "markdown",
   "metadata": {
    "nbpresent": {
     "id": "8dde182b-545e-464d-86aa-93633eb83d31"
    },
    "slideshow": {
     "slide_type": "fragment"
    }
   },
   "source": [
    "Nesse sistema, os “trabalhadores permaneciam estacionários e as tarefas eram levadas a eles” – a chamada linha de produção móvel."
   ]
  },
  {
   "cell_type": "markdown",
   "metadata": {
    "slideshow": {
     "slide_type": "fragment"
    }
   },
   "source": [
    "Dois efeitos diretos: i) redução da intervenção e do papel\n",
    "do trabalho qualificado; ii) controle do ritmo da\n",
    "produção pelo gerente/proprietário/engenheiro."
   ]
  },
  {
   "cell_type": "markdown",
   "metadata": {
    "nbpresent": {
     "id": "383dda45-dccb-4fde-a663-f4b4f94a501e"
    },
    "slideshow": {
     "slide_type": "slide"
    }
   },
   "source": [
    "## Ford\n",
    "\n",
    "Um caso representativo e notável do efeito desses desenvolvimentos é a produção automobilística, sobretudo na Ford (1903)."
   ]
  },
  {
   "cell_type": "markdown",
   "metadata": {
    "slideshow": {
     "slide_type": "fragment"
    }
   },
   "source": [
    "Henry Ford e seus engenheiros e mecânicos qualificados combinaram os dois princípios citados: intercambialidade de peças e linha de produção móvel."
   ]
  },
  {
   "cell_type": "markdown",
   "metadata": {
    "slideshow": {
     "slide_type": "fragment"
    }
   },
   "source": [
    "O objetivo foi elaborar *um produto complexo em grande escala e de forma padronizada*, com baixos custos, a fim de atingir o maior número possível de consumidores - o resultado foi o Modelo ou Ford T, lançado em 1908."
   ]
  },
  {
   "cell_type": "markdown",
   "metadata": {
    "editable": true,
    "slideshow": {
     "slide_type": "slide"
    },
    "tags": []
   },
   "source": [
    "## Produção\n",
    "\n",
    "A produção de automóveis para um mercado de massa\n",
    "ocorreu inicialmente nos Estados Unidos, antes da\n",
    "Primeira Guerra Mundial."
   ]
  },
  {
   "cell_type": "markdown",
   "metadata": {
    "slideshow": {
     "slide_type": "fragment"
    }
   },
   "source": [
    "Em 1913, havia cerca de 1,7 milhão de automóveis no\n",
    "mundo, dos quais *75% estavam nos EUA*."
   ]
  },
  {
   "cell_type": "markdown",
   "metadata": {
    "editable": true,
    "slideshow": {
     "slide_type": "fragment"
    },
    "tags": []
   },
   "source": [
    "Como resultado das mudanças técnicas e organizacionais e do aumento da escala de produção, os custos e os preços dos automóveis caíram rapidamente: Ford T, 750 dólares em 1910 para 350 dólares em 1916 – apesar de 70% de inflação no período."
   ]
  },
  {
   "cell_type": "markdown",
   "metadata": {
    "editable": true,
    "slideshow": {
     "slide_type": "slide"
    },
    "tags": []
   },
   "source": [
    "## Intensidade e esforço do trabalho\n",
    "\n",
    "Outra mudança organizacional importante ocorreu no âmbito das relações de trabalho."
   ]
  },
  {
   "cell_type": "markdown",
   "metadata": {
    "editable": true,
    "slideshow": {
     "slide_type": "fragment"
    },
    "tags": []
   },
   "source": [
    "A implementação do sistema americano de produção representou uma enorme pressão sobre a mão de obra, sobretudo via maior intensidade/esforço do trabalho."
   ]
  },
  {
   "cell_type": "markdown",
   "metadata": {
    "editable": true,
    "slideshow": {
     "slide_type": "fragment"
    },
    "tags": []
   },
   "source": [
    "No caso da Ford, o aumento do esforço e da intensidade do trabalho traduziu-se em crescimento da produtividade do trabalho, mas *também* em instabilidade da mão de obra e uma rotatividade cada vez mais elevada da força de trabalho."
   ]
  },
  {
   "cell_type": "markdown",
   "metadata": {
    "editable": true,
    "slideshow": {
     "slide_type": "slide"
    },
    "tags": []
   },
   "source": [
    "## *Five-dollar day*\n",
    "\n",
    "Lembrar: Exit and Voice - Saída e Voz - Albert Hirschman."
   ]
  },
  {
   "cell_type": "markdown",
   "metadata": {
    "editable": true,
    "slideshow": {
     "slide_type": "fragment"
    },
    "tags": []
   },
   "source": [
    "O sucesso da produção em massa na Ford somente consolidou-se com a solução do problema da alta rotatividade do trabalho na fábrica por meio do “*five-dollar day*”."
   ]
  },
  {
   "cell_type": "markdown",
   "metadata": {
    "editable": true,
    "slideshow": {
     "slide_type": "fragment"
    },
    "tags": []
   },
   "source": [
    "Em 1913/4, a taxa de rotatividade na Ford atingiu 370%; com o *five-dollar day* adotado em 1914, a rotatividade caiu para 16% em 1916. "
   ]
  },
  {
   "cell_type": "markdown",
   "metadata": {
    "editable": true,
    "slideshow": {
     "slide_type": "slide"
    },
    "tags": []
   },
   "source": [
    "## Mercado de massa\n",
    "\n",
    "Paralelamente, um desenvolvimento importante no período foi a consolidação de uma economia de altos salários nos países líderes da Revolução Industrial - parte da Europa e Estados Unidos."
   ]
  },
  {
   "cell_type": "markdown",
   "metadata": {
    "editable": true,
    "slideshow": {
     "slide_type": "fragment"
    },
    "tags": []
   },
   "source": [
    "Lembrar: trajetória de alta tecnologia - alta produtividade - altos salários."
   ]
  },
  {
   "cell_type": "markdown",
   "metadata": {
    "editable": true,
    "slideshow": {
     "slide_type": "fragment"
    },
    "tags": []
   },
   "source": [
    "Alguns autores argumentam que houve uma estratégia deliberada de aumentos salariais, visando estimular consumo e criar um amplo mercado de massas, uma estratégia empresarial que seria sintetizada na idéia de *fordismo*."
   ]
  },
  {
   "cell_type": "markdown",
   "metadata": {
    "editable": true,
    "slideshow": {
     "slide_type": "subslide"
    },
    "tags": []
   },
   "source": [
    "É duvidoso, porém, que a economia de altos salários\n",
    "tenha sido um resultado deliberado. Possivelmente, foi o resultado de condições de oferta de fatores, instituições e mudanças tecnológicas como as que vimos hoje com o sistema americano de manufaturas."
   ]
  },
  {
   "cell_type": "markdown",
   "metadata": {
    "editable": true,
    "slideshow": {
     "slide_type": "slide"
    },
    "tags": []
   },
   "source": [
    "## Questões\n",
    "\n",
    "Defina economias de escala e de escopo. Como elas\n",
    "estão relacionadas com as mudanças tecnológicas e\n",
    "organizacionais da 2a Revolução Industrial?\n",
    "\n",
    "O que foi o “sistema americano de manufaturas”? Explique\n",
    "os seus elementos básicos e de que forma sua expansão\n",
    "esteve relacionada com a liderança industrial dos EUA.\n",
    "\n",
    "A alta produtividade do sistema americano de manufaturas\n",
    "esbarrou na oferta de trabalho. Por que? Qual foi a\n",
    "solução buscada pelas empresas e qual o seu efeito sobre\n",
    "o mercado de trabalho e a produtividade?"
   ]
  }
 ],
 "metadata": {
  "celltoolbar": "Slideshow",
  "kernelspec": {
   "display_name": "Python 3 (ipykernel)",
   "language": "python",
   "name": "python3"
  },
  "language_info": {
   "codemirror_mode": {
    "name": "ipython",
    "version": 3
   },
   "file_extension": ".py",
   "mimetype": "text/x-python",
   "name": "python",
   "nbconvert_exporter": "python",
   "pygments_lexer": "ipython3",
   "version": "3.8.20"
  },
  "toc": {
   "base_numbering": 1,
   "nav_menu": {},
   "number_sections": false,
   "sideBar": true,
   "skip_h1_title": false,
   "title_cell": "Table of Contents",
   "title_sidebar": "Contents",
   "toc_cell": false,
   "toc_position": {},
   "toc_section_display": true,
   "toc_window_display": false
  }
 },
 "nbformat": 4,
 "nbformat_minor": 4
}
