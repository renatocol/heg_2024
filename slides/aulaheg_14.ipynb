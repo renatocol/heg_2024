{
 "cells": [
  {
   "cell_type": "markdown",
   "metadata": {
    "editable": true,
    "slideshow": {
     "slide_type": "slide"
    },
    "tags": []
   },
   "source": [
    "## <center>História Econômica Geral - FEA-USP</center>\n",
    "\n",
    "### <center>Aula 14 - A Revolução Russa e a Economia Soviética</center>\n",
    "\n",
    "#### <center>Renato Perim Colistete</center>\n",
    "\n",
    "\n",
    "#### <center>2024</center>"
   ]
  },
  {
   "cell_type": "markdown",
   "metadata": {
    "editable": true,
    "slideshow": {
     "slide_type": "slide"
    },
    "tags": []
   },
   "source": [
    " ## Objetivos\n",
    "\n",
    "Esta aula começa revisando os acontecimentos que levaram à Revolução de Outubro de 1917. Depois trataremos das condições econômicas nos primeiros anos da Revolução, durante o chamado \"comunismo de guerra\".\n",
    "\n",
    "Em seguida, veremos a implementação e os efeitos da Nova Política Econômica (NEP).\n",
    "\n",
    "Por fim, discutiremos as interpretações formuladas na década de 1920 sobre a industrialização soviética."
   ]
  },
  {
   "cell_type": "markdown",
   "metadata": {
    "editable": true,
    "slideshow": {
     "slide_type": "slide"
    },
    "tags": []
   },
   "source": [
    "## A Revolução de Fevereiro\n",
    "\n",
    "A I Guerra Mundial foi fatal para o Império Russo. Desgaste da guerra, escassez de bens, revoltas, greves e motins em divisões militares levaram à renúncia do Czar Nicolau II em fevereiro de 1917."
   ]
  },
  {
   "cell_type": "markdown",
   "metadata": {
    "editable": true,
    "slideshow": {
     "slide_type": "fragment"
    },
    "tags": []
   },
   "source": [
    "Um governo provisório foi estabelecido, liderado por Giorgy Lvov e, depois, por Aleksandr Kerensky (julho)."
   ]
  },
  {
   "cell_type": "markdown",
   "metadata": {
    "editable": true,
    "slideshow": {
     "slide_type": "fragment"
    },
    "tags": []
   },
   "source": [
    "Paralelamente, o Soviet dos trabalhadores e soldados de Petrogrado emergiu com a mais poderosa organização na Rússia pós-czarista - \"Poder dual\"."
   ]
  },
  {
   "cell_type": "markdown",
   "metadata": {
    "editable": true,
    "slideshow": {
     "slide_type": "slide"
    },
    "tags": []
   },
   "source": [
    "## A Revolução de Outubro\n",
    "\n",
    "O governo de [Alexander Kerensky](https://en.wikipedia.org/wiki/Alexander_Kerensky) tentou retomar a iniciativa na guerra, mas os seguidos fracassos resultaram em deserção em massa dos soldados."
   ]
  },
  {
   "cell_type": "markdown",
   "metadata": {
    "editable": true,
    "slideshow": {
     "slide_type": "fragment"
    },
    "tags": []
   },
   "source": [
    "A crise econômica e o fracasso no *front* culminaram com novas paralisações, protestos, desorganização econômica e institucional."
   ]
  },
  {
   "cell_type": "markdown",
   "metadata": {
    "editable": true,
    "slideshow": {
     "slide_type": "fragment"
    },
    "tags": []
   },
   "source": [
    "Os bolsheviques chegam ao poder em 25 de outubro de 1917 (pelo então calendário Juliano). Palavra de ordem: \"Paz, pão e terra\"."
   ]
  },
  {
   "cell_type": "markdown",
   "metadata": {
    "editable": true,
    "slideshow": {
     "slide_type": "slide"
    },
    "tags": []
   },
   "source": [
    "## Tratado de Paz\n",
    "\n",
    "Já em dezembro de 1917 o novo governo soviético iniciou negociações em Brest-Litovsk para sua retirada da guerra (assinado em março de 1918)."
   ]
  },
  {
   "cell_type": "markdown",
   "metadata": {
    "editable": true,
    "slideshow": {
     "slide_type": "fragment"
    },
    "tags": []
   },
   "source": [
    "Trotsky inicialmente rejeitou os termos das Potências Centrais (Alemanha, Áustria-Hungria, Bulgária e Império Otomano) e abandonou as negociações."
   ]
  },
  {
   "cell_type": "markdown",
   "metadata": {
    "editable": true,
    "slideshow": {
     "slide_type": "fragment"
    },
    "tags": []
   },
   "source": [
    "As Potências Centrais invadiram várias regiões em fevereiro de 1918 (países bálticos, Ucrânia, Bielorússia) e forçaram a assinatura do Tratado. Com o fim da I GM, novas guerras externas e internas explodiram anos seguintes (1920-22) até a estabilização da URSS."
   ]
  },
  {
   "cell_type": "markdown",
   "metadata": {
    "editable": true,
    "slideshow": {
     "slide_type": "subslide"
    },
    "tags": []
   },
   "source": [
    "O Acordo de Paz imposto à URSS implicou a perda de 1/3 da população, metade da indústria e a grande maioria das minas de carvão."
   ]
  },
  {
   "cell_type": "markdown",
   "metadata": {
    "editable": true,
    "slideshow": {
     "slide_type": "slide"
    },
    "tags": []
   },
   "source": [
    "## <center>Divisão territorial</center>\n",
    "\n",
    "<center><img src=\"tratado_brest_litovsk.png\", width=700></center>"
   ]
  },
  {
   "cell_type": "markdown",
   "metadata": {
    "editable": true,
    "slideshow": {
     "slide_type": "slide"
    },
    "tags": []
   },
   "source": [
    "## Objetivos econômicos\n",
    "\n",
    "Os objetivos básicos da Revolução Russa compreendiam:"
   ]
  },
  {
   "cell_type": "markdown",
   "metadata": {
    "editable": true,
    "slideshow": {
     "slide_type": "fragment"
    },
    "tags": []
   },
   "source": [
    "- criar economia planejada e substituir o mercado enquanto mecanismo de alocação de recursos;"
   ]
  },
  {
   "cell_type": "markdown",
   "metadata": {
    "editable": true,
    "slideshow": {
     "slide_type": "fragment"
    },
    "tags": []
   },
   "source": [
    "- economia seria controlada diretamente pelos produtores (trabalhadores) e seus representantes;"
   ]
  },
  {
   "cell_type": "markdown",
   "metadata": {
    "editable": true,
    "slideshow": {
     "slide_type": "slide"
    },
    "tags": []
   },
   "source": [
    "## Fases\n",
    "\n",
    "Em teoria, haveria duas fases a ser alcançadas:"
   ]
  },
  {
   "cell_type": "markdown",
   "metadata": {
    "editable": true,
    "slideshow": {
     "slide_type": "fragment"
    },
    "tags": []
   },
   "source": [
    "i) socialista: produto social distribuído de acordo com a contribuição (presença do Estado);"
   ]
  },
  {
   "cell_type": "markdown",
   "metadata": {
    "editable": true,
    "slideshow": {
     "slide_type": "fragment"
    },
    "tags": []
   },
   "source": [
    "ii) comunista: produto social distribuído de acordo com as necessidades dos indivíduos, com o fim das classes sociais."
   ]
  },
  {
   "cell_type": "markdown",
   "metadata": {
    "editable": true,
    "slideshow": {
     "slide_type": "slide"
    },
    "tags": []
   },
   "source": [
    "## A realidade do novo governo\n",
    "\n",
    "As medidas imediatas foram bem mais modestas do que a teoria:"
   ]
  },
  {
   "cell_type": "markdown",
   "metadata": {
    "editable": true,
    "slideshow": {
     "slide_type": "fragment"
    },
    "tags": []
   },
   "source": [
    "a) ampliação do controle estatal utilizando o aparato burocrático herdado do czarismo;\n",
    " "
   ]
  },
  {
   "cell_type": "markdown",
   "metadata": {
    "editable": true,
    "slideshow": {
     "slide_type": "fragment"
    },
    "tags": []
   },
   "source": [
    "b) em abril de 1918, Lênin defendeu a suspensão dos ataques à propriedade privada, a incorporação de métodos de gestão capitalistas e a estabilização monetária;"
   ]
  },
  {
   "cell_type": "markdown",
   "metadata": {
    "editable": true,
    "slideshow": {
     "slide_type": "fragment"
    },
    "tags": []
   },
   "source": [
    "c) eclosão da guerra civil em jul/ago de 1919 levou à adoção do \"comunismo de guerra\"."
   ]
  },
  {
   "cell_type": "markdown",
   "metadata": {
    "editable": true,
    "slideshow": {
     "slide_type": "slide"
    },
    "tags": []
   },
   "source": [
    "## O \"comunismo de guerra\"\n",
    "\n",
    "Características do \"comunismo de guerra\": "
   ]
  },
  {
   "cell_type": "markdown",
   "metadata": {
    "editable": true,
    "slideshow": {
     "slide_type": "fragment"
    },
    "tags": []
   },
   "source": [
    "a) requisições (expropriação) forçadas de grãos e outros produtos dos camponeses, utilizando o exército;"
   ]
  },
  {
   "cell_type": "markdown",
   "metadata": {
    "editable": true,
    "slideshow": {
     "slide_type": "fragment"
    },
    "tags": []
   },
   "source": [
    "b) empresas industriais foram estatizadas e submetidas ao controle centralizado do Estado;"
   ]
  },
  {
   "cell_type": "markdown",
   "metadata": {
    "editable": true,
    "slideshow": {
     "slide_type": "subslide"
    },
    "tags": []
   },
   "source": [
    "c) controle direto sobre movimento, distribuição e alocação do trabalho por empresas, setores e regiões;"
   ]
  },
  {
   "cell_type": "markdown",
   "metadata": {
    "editable": true,
    "slideshow": {
     "slide_type": "fragment"
    },
    "tags": []
   },
   "source": [
    "d) ampliação de escassez e racionamento de bens; "
   ]
  },
  {
   "cell_type": "markdown",
   "metadata": {
    "editable": true,
    "slideshow": {
     "slide_type": "fragment"
    },
    "tags": []
   },
   "source": [
    "d) no final, fracasso da coletivização no campo e manutenção da propriedade camponesa resultante da revolução agrária de 1917-18 (ver a seguir)."
   ]
  },
  {
   "cell_type": "markdown",
   "metadata": {
    "editable": true,
    "slideshow": {
     "slide_type": "slide"
    },
    "tags": []
   },
   "source": [
    "## Efeitos da guerra civil\n",
    "\n",
    "Consequências devastadoras durante o período:"
   ]
  },
  {
   "cell_type": "markdown",
   "metadata": {
    "editable": true,
    "slideshow": {
     "slide_type": "fragment"
    },
    "tags": []
   },
   "source": [
    "a) 3 milhões de soldados e 13 milhões de civis mortos, principalmente durante a fome de 1921-22 e por epidemias;"
   ]
  },
  {
   "cell_type": "markdown",
   "metadata": {
    "editable": true,
    "slideshow": {
     "slide_type": "fragment"
    },
    "tags": []
   },
   "source": [
    "b) produção industrial (grandes empresas) em 1920: 13% do nível de 1913; siderurgia: 4%;"
   ]
  },
  {
   "cell_type": "markdown",
   "metadata": {
    "editable": true,
    "slideshow": {
     "slide_type": "fragment"
    },
    "tags": []
   },
   "source": [
    "c) produção de grãos: 2/3 do nível de 1909-13;"
   ]
  },
  {
   "cell_type": "markdown",
   "metadata": {
    "editable": true,
    "slideshow": {
     "slide_type": "subslide"
    },
    "tags": []
   },
   "source": [
    "d) comércio externo: 1% do nível de 1913;"
   ]
  },
  {
   "cell_type": "markdown",
   "metadata": {
    "editable": true,
    "slideshow": {
     "slide_type": "fragment"
    },
    "tags": []
   },
   "source": [
    "f) política de requisições gerou revoltas entre camponeses, agravando crise de abastecimento;"
   ]
  },
  {
   "cell_type": "markdown",
   "metadata": {
    "editable": true,
    "slideshow": {
     "slide_type": "fragment"
    },
    "tags": []
   },
   "source": [
    "g) mas no início de 1921 um sistema de impostos substituiu a requisição direta de grãos, dando início à Nova Política Econômica (NEP), elaborada por Lênin."
   ]
  },
  {
   "cell_type": "markdown",
   "metadata": {
    "editable": true,
    "slideshow": {
     "slide_type": "slide"
    },
    "tags": []
   },
   "source": [
    "## NEP\n",
    "Pontos principais da NEP:"
   ]
  },
  {
   "cell_type": "markdown",
   "metadata": {
    "editable": true,
    "slideshow": {
     "slide_type": "fragment"
    },
    "tags": []
   },
   "source": [
    "- restituiu o direito dos camponeses venderem seus produtos no mercado e adotou-se imposto sobre a produção agrícola;"
   ]
  },
  {
   "cell_type": "markdown",
   "metadata": {
    "editable": true,
    "slideshow": {
     "slide_type": "fragment"
    },
    "tags": []
   },
   "source": [
    "- grandes empresas permaneceram estatais, mas deveriam seguir critérios privados de gestão;"
   ]
  },
  {
   "cell_type": "markdown",
   "metadata": {
    "editable": true,
    "slideshow": {
     "slide_type": "fragment"
    },
    "tags": []
   },
   "source": [
    "- pequenas empresas foram transferidas a proprietários privados e puderam operar livremente;"
   ]
  },
  {
   "cell_type": "markdown",
   "metadata": {
    "editable": true,
    "slideshow": {
     "slide_type": "slide"
    },
    "tags": []
   },
   "source": [
    "### NEP\n",
    "    \n",
    "- negociação de salários foi restaurada, além do fim das restrições à mobilidade de trabalho;"
   ]
  },
  {
   "cell_type": "markdown",
   "metadata": {
    "editable": true,
    "slideshow": {
     "slide_type": "fragment"
    },
    "tags": []
   },
   "source": [
    "- governo cortou gastos, reformou sistema fiscal e promoveu reforma monetária em 1924, conseguindo estancar a hiperinflação (1922-24);\n"
   ]
  },
  {
   "cell_type": "markdown",
   "metadata": {
    "editable": true,
    "slideshow": {
     "slide_type": "fragment"
    },
    "tags": []
   },
   "source": [
    "- sistema bancário permaneceu estatal, bem como o controle do comércio externo e da conta de capital;"
   ]
  },
  {
   "cell_type": "markdown",
   "metadata": {
    "editable": true,
    "slideshow": {
     "slide_type": "subslide"
    },
    "tags": []
   },
   "source": [
    "- atração de capital estrangeiro como forma de transferência de tecnologia e aprendizado;"
   ]
  },
  {
   "cell_type": "markdown",
   "metadata": {
    "editable": true,
    "slideshow": {
     "slide_type": "fragment"
    },
    "tags": []
   },
   "source": [
    "- sistema de partido único e controle social e político foram consolidados."
   ]
  },
  {
   "cell_type": "markdown",
   "metadata": {
    "editable": true,
    "slideshow": {
     "slide_type": "slide"
    },
    "tags": []
   },
   "source": [
    "## Impactos da NEP\n",
    "\n",
    "Quais foram os principais impactos da NEP?"
   ]
  },
  {
   "cell_type": "markdown",
   "metadata": {
    "editable": true,
    "slideshow": {
     "slide_type": "fragment"
    },
    "tags": []
   },
   "source": [
    "- recuperação econômica: renda *per capita* em 1928=111 (1913=100);"
   ]
  },
  {
   "cell_type": "markdown",
   "metadata": {
    "editable": true,
    "slideshow": {
     "slide_type": "fragment"
    },
    "tags": []
   },
   "source": [
    "- fim da hiperinflação;"
   ]
  },
  {
   "cell_type": "markdown",
   "metadata": {
    "editable": true,
    "slideshow": {
     "slide_type": "fragment"
    },
    "tags": []
   },
   "source": [
    "- redução na oferta de produtos agrícolas para os mercados urbanos, devido ao aumento no consumo da população rural;"
   ]
  },
  {
   "cell_type": "markdown",
   "metadata": {
    "editable": true,
    "slideshow": {
     "slide_type": "subslide"
    },
    "tags": []
   },
   "source": [
    "- X=38 e M=33 em 1926-27 (1913=100)."
   ]
  },
  {
   "cell_type": "markdown",
   "metadata": {
    "editable": true,
    "slideshow": {
     "slide_type": "slide"
    },
    "tags": []
   },
   "source": [
    "## Interpretações\n",
    "\n",
    "Há várias interpretações sobre a sustentabilidade da NEP. Duas delas:"
   ]
  },
  {
   "cell_type": "markdown",
   "metadata": {
    "editable": true,
    "slideshow": {
     "slide_type": "fragment"
    },
    "tags": []
   },
   "source": [
    "a) NEP restringiu excessivamente as forças de mercado por meio do controle de preços e do planejamento do investimento, distorcendo a alocação de recursos. Seria então inviável no longo prazo;"
   ]
  },
  {
   "cell_type": "markdown",
   "metadata": {
    "editable": true,
    "slideshow": {
     "slide_type": "fragment"
    },
    "tags": []
   },
   "source": [
    "b) NEP seria bem-sucedida se governo houvesse ajustado preços agrícolas na crise de 1927-28. Indústria teria melhor desempenho do que o observado sob o esquema forçado adotado posteriormente por Stalin."
   ]
  },
  {
   "cell_type": "markdown",
   "metadata": {
    "editable": true,
    "slideshow": {
     "slide_type": "slide"
    },
    "tags": []
   },
   "source": [
    "## Industrialização\n",
    "\n",
    "Na visão bolshevique dominante, a industrialização seria um pré-requisito vital para a nova sociedade socialista."
   ]
  },
  {
   "cell_type": "markdown",
   "metadata": {
    "editable": true,
    "slideshow": {
     "slide_type": "fragment"
    },
    "tags": []
   },
   "source": [
    "Como a Rússia era basicamente rural e economicamente atrasada (lembrar Gerschenkron), o Estado deveria substituir a burguesia no objetivo de promover a industrialização."
   ]
  },
  {
   "cell_type": "markdown",
   "metadata": {
    "editable": true,
    "slideshow": {
     "slide_type": "fragment"
    },
    "tags": []
   },
   "source": [
    "Na própria época, houve diferentes e conflitantes interpretações sobre como o objetivo da industrialização deveria ser alcançado."
   ]
  },
  {
   "cell_type": "markdown",
   "metadata": {
    "editable": true,
    "slideshow": {
     "slide_type": "slide"
    },
    "tags": []
   },
   "source": [
    "## Visões\n",
    "\n",
    "Algumas dessas visões:"
   ]
  },
  {
   "cell_type": "markdown",
   "metadata": {
    "editable": true,
    "slideshow": {
     "slide_type": "fragment"
    },
    "tags": []
   },
   "source": [
    "i) indústria não deveria ser desenvolvida antes da agricultura, pois esta era mais rentável e forneceria divisas para importação de manufaturados;"
   ]
  },
  {
   "cell_type": "markdown",
   "metadata": {
    "editable": true,
    "slideshow": {
     "slide_type": "fragment"
    },
    "tags": []
   },
   "source": [
    "ii) agricultura deveria tornar-se eficiente e adaptar-se ao mercado;"
   ]
  },
  {
   "cell_type": "markdown",
   "metadata": {
    "editable": true,
    "slideshow": {
     "slide_type": "fragment"
    },
    "tags": []
   },
   "source": [
    "iii) seria necessária uma fase de \"acumulação primitiva socialista\", em que parte substancial do produto dos camponeses (Kulaks) deveria ser expropriada e transferida para investimento na indústria;"
   ]
  },
  {
   "cell_type": "markdown",
   "metadata": {
    "editable": true,
    "slideshow": {
     "slide_type": "subslide"
    },
    "tags": []
   },
   "source": [
    "iv) indústria poderia gerar seus próprios recursos por meio de maior eficiência e produtividade, expandindo-se gradualmente (visão majoritária em meados de 1920)."
   ]
  },
  {
   "cell_type": "markdown",
   "metadata": {
    "editable": true,
    "slideshow": {
     "slide_type": "slide"
    },
    "tags": []
   },
   "source": [
    "## Conflito e derrota\n",
    "\n",
    "A visão moderada e majoritária iria sucumbir com a crise agrícola de 1927-28. A NEP seria igualmente abandonada (em declínio desde a morte de Lênin no início de 1924)."
   ]
  },
  {
   "cell_type": "markdown",
   "metadata": {
    "editable": true,
    "slideshow": {
     "slide_type": "fragment"
    },
    "tags": []
   },
   "source": [
    "Stalin, antes apoiador da abordagem moderada, passou a defender \"medidas de emergência\" e industrialização forçada, o que orientou as políticas do governo soviético a partir de então."
   ]
  },
  {
   "cell_type": "markdown",
   "metadata": {
    "editable": true,
    "slideshow": {
     "slide_type": "fragment"
    },
    "tags": []
   },
   "source": [
    "Em particular, as requisições (forçadas e violentas) da produção dos camponeses voltaram a ser praticadas como política estatal, culminando com a coletivização da propriedade rural."
   ]
  },
  {
   "cell_type": "markdown",
   "metadata": {
    "editable": true,
    "slideshow": {
     "slide_type": "slide"
    },
    "tags": []
   },
   "source": [
    "## Questões\n",
    "\n",
    "Descreva as principais medidas do chamado \"comunismo de guerra\" durante o período inicial da URSS. Quais foram seus efeitos principais, positivos ou negativos?\n",
    "\n",
    "A NEP foi implementada diante de um contexto de crise e escassez. Avalie suas medidas e analise em que medida ela era sustentável.\n",
    "\n",
    "O abandono da NEP e reorientação da economia soviética foram ditadas por razões econômicas ou políticas? Descreva e analise."
   ]
  }
 ],
 "metadata": {
  "celltoolbar": "Slideshow",
  "kernelspec": {
   "display_name": "Python 3 (ipykernel)",
   "language": "python",
   "name": "python3"
  },
  "language_info": {
   "codemirror_mode": {
    "name": "ipython",
    "version": 3
   },
   "file_extension": ".py",
   "mimetype": "text/x-python",
   "name": "python",
   "nbconvert_exporter": "python",
   "pygments_lexer": "ipython3",
   "version": "3.8.20"
  },
  "toc": {
   "base_numbering": 1,
   "nav_menu": {},
   "number_sections": false,
   "sideBar": true,
   "skip_h1_title": false,
   "title_cell": "Table of Contents",
   "title_sidebar": "Contents",
   "toc_cell": false,
   "toc_position": {},
   "toc_section_display": true,
   "toc_window_display": false
  }
 },
 "nbformat": 4,
 "nbformat_minor": 4
}
