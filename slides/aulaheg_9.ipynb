{
 "cells": [
  {
   "cell_type": "markdown",
   "metadata": {
    "nbpresent": {
     "id": "452305db-662c-4b4e-aa92-79d92fa4544d"
    },
    "slideshow": {
     "slide_type": "slide"
    }
   },
   "source": [
    "## <center>História Econômica Geral - FEA-USP</center>\n",
    "\n",
    "### <center>Aula 9 - Atraso Relativo e Industrialização Tardia</center>\n",
    "\n",
    "#### <center>Renato Perim Colistete</center>\n",
    "\n",
    "\n",
    "#### <center>2024</center>"
   ]
  },
  {
   "cell_type": "markdown",
   "metadata": {
    "jp-MarkdownHeadingCollapsed": true,
    "nbpresent": {
     "id": "1fc7160f-beb4-4997-9c3f-0553e0592605"
    },
    "slideshow": {
     "slide_type": "slide"
    }
   },
   "source": [
    "## Objetivos\n",
    "\n",
    "Nesta e na próxima aula trataremos da chamada “Segunda Revolução Industrial” e a emergência de novas nações industriais.\n",
    "\n",
    "Hoje veremos a abordagem que é talvez a mais influente sobre essas novas nações industriais a partir do final do século XIX - a de Alexander Gerschenkron.\n",
    "\n",
    "Em seguida discutiremos características centrais dos dois países mais destacados da 2a Revolução Industrial: Alemanha e Estados Unidos."
   ]
  },
  {
   "cell_type": "markdown",
   "metadata": {
    "nbpresent": {
     "id": "1acbc207-c8bb-4376-a328-421bbf9520c4"
    },
    "slideshow": {
     "slide_type": "slide"
    }
   },
   "source": [
    "## Gerschenkron\n",
    "\n",
    "Uma noção-chave para o período da segunda metade do século XIX e do início do século XX é a de *atraso\n",
    "econômico*, formulada por [Alexander Gerschenkron](https://en.wikipedia.org/wiki/Alexander_Gerschenkron)."
   ]
  },
  {
   "cell_type": "markdown",
   "metadata": {
    "nbpresent": {
     "id": "f3dfbdf9-fe1d-4356-9ad0-df395911e6f3"
    },
    "slideshow": {
     "slide_type": "fragment"
    }
   },
   "source": [
    "Em seu livro de 1962, [*Economic Backwardness in\n",
    "Historical Perspective*](https://eh.net/book_reviews/economic-backwardness-in-historical-perspective-a-book-of-essays/), Gerschenkron apresenta uma interpretação geral sobre a difusão da industrialização na Europa continental que destaca as características nacionais e as diferenças em relação à Revolução Industrial Britânica."
   ]
  },
  {
   "cell_type": "markdown",
   "metadata": {
    "nbpresent": {
     "id": "13c81a42-221c-45fd-bde2-343bbcc74678"
    },
    "slideshow": {
     "slide_type": "slide"
    }
   },
   "source": [
    "## Argumentos\n",
    "\n",
    "Os principais argumentos de Gerschenkron:"
   ]
  },
  {
   "cell_type": "markdown",
   "metadata": {
    "editable": true,
    "nbpresent": {
     "id": "69b2baa0-ed18-483e-8653-50f0e5c1d94f"
    },
    "slideshow": {
     "slide_type": "fragment"
    },
    "tags": []
   },
   "source": [
    "a) o rápido desenvolvimento econômico da Inglaterra gerou conflito e preocupação entre os Estados nacionais europeus que se encontravam industrialmente mais atrasados;"
   ]
  },
  {
   "cell_type": "markdown",
   "metadata": {
    "editable": true,
    "nbpresent": {
     "id": "1674bcc2-8448-4b20-8203-e741d2f6048b"
    },
    "slideshow": {
     "slide_type": "fragment"
    },
    "tags": []
   },
   "source": [
    "b) a liderança britânica pressionou outros países a buscar inovações institucionais que criassem “substitutos” para os requisitos ausentes ou escassos para o desenvolvimento industrial;"
   ]
  },
  {
   "cell_type": "markdown",
   "metadata": {
    "editable": true,
    "nbpresent": {
     "id": "8b4f0472-cccb-4d13-abbd-187d93bc9309"
    },
    "slideshow": {
     "slide_type": "slide"
    },
    "tags": []
   },
   "source": [
    "c) exemplos de requisitos ausentes ou limitados: escassez de capital, habilidades empresariais restritas, trabalho qualificado limitado e baixo conhecimento tecnológico;"
   ]
  },
  {
   "cell_type": "markdown",
   "metadata": {
    "editable": true,
    "nbpresent": {
     "id": "794d2206-833d-419a-b3b9-b12875162c7e"
    },
    "slideshow": {
     "slide_type": "fragment"
    },
    "tags": []
   },
   "source": [
    "d) em grande número de países, as inovações institucionais visando criar substitutos das precondições do desenvolvimento industrial foram promovidas pelo Estado, ampliando a sua intervenção na economia;"
   ]
  },
  {
   "cell_type": "markdown",
   "metadata": {
    "editable": true,
    "slideshow": {
     "slide_type": "fragment"
    },
    "tags": []
   },
   "source": [
    "e) mas os instrumentos variaram em ênfase: bancos múltiplos (caso típico: Alemanha), capital estrangeiro (caso típico: Rússia), importação de tecnologia avançada (ambos)."
   ]
  },
  {
   "cell_type": "markdown",
   "metadata": {
    "editable": true,
    "slideshow": {
     "slide_type": "slide"
    },
    "tags": []
   },
   "source": [
    "## Industrialização atrasada\n",
    "\n",
    "Segundo Gerschenkron, o desenvolvimento da indústria sob condições de atraso econômico trouxe várias características:"
   ]
  },
  {
   "cell_type": "markdown",
   "metadata": {
    "editable": true,
    "slideshow": {
     "slide_type": "fragment"
    },
    "tags": []
   },
   "source": [
    "i) quanto mais relativamente atrasada a industrialização, mais acelerada ela tenderia a ocorrer – “vantagem *relativa* do atraso”;"
   ]
  },
  {
   "cell_type": "markdown",
   "metadata": {
    "editable": true,
    "slideshow": {
     "slide_type": "fragment"
    },
    "tags": []
   },
   "source": [
    "ii) tendência de maior grau de intervenção do Estado na economia para suprir os requisitos do crescimento econômico;"
   ]
  },
  {
   "cell_type": "markdown",
   "metadata": {
    "editable": true,
    "nbpresent": {
     "id": "1a43feb9-1cad-4162-a6ad-b16662fbb6a4"
    },
    "slideshow": {
     "slide_type": "slide"
    },
    "tags": []
   },
   "source": [
    "iii) nos casos extremos, a industrialização sob tais condições exigiria sacrifício do consumo doméstico em favor da poupança nacional;"
   ]
  },
  {
   "cell_type": "markdown",
   "metadata": {
    "editable": true,
    "slideshow": {
     "slide_type": "fragment"
    },
    "tags": []
   },
   "source": [
    "iv) tendência de predomínio de maiores escalas de produção e maior volume de capital das unidades industriais;"
   ]
  },
  {
   "cell_type": "markdown",
   "metadata": {
    "editable": true,
    "slideshow": {
     "slide_type": "fragment"
    },
    "tags": []
   },
   "source": [
    "v) menor papel da agricultura enquanto mercado para a\n",
    "indústria;"
   ]
  },
  {
   "cell_type": "markdown",
   "metadata": {
    "editable": true,
    "slideshow": {
     "slide_type": "fragment"
    },
    "tags": []
   },
   "source": [
    "vi) maior necessidade de transferência e importação de\n",
    "tecnologia avançada, pelo menos nas fases iniciais da industrialização."
   ]
  },
  {
   "cell_type": "markdown",
   "metadata": {
    "slideshow": {
     "slide_type": "slide"
    }
   },
   "source": [
    "## Comparando com Allen\n",
    "\n",
    "Lembrando da periodização de Allen (2011) após 1500 que vimos na aula 2: o século XIX seria marcado  pelo *catch up* da Europa Continental e EUA/Canadá:"
   ]
  },
  {
   "cell_type": "markdown",
   "metadata": {
    "slideshow": {
     "slide_type": "fragment"
    }
   },
   "source": [
    "> Western Europe and the USA made economic development a priority and tried to achieve it with a standard set of four policies: creation of a **unified national market** by eliminating internal tariffs and building transportation infrastructure; the erection of an **external tariff to protect** their industries from British competition; the chartering of **banks** to stabilize the currency and finance industrial investment; and the establishment of **mass education** to upgrade the labour force. These policies were successful in Western Europe and North America, and the countries in these regions joined Britain to form today’s club of rich nations. Some Latin American countries adopted these policies incompletely and without great success."
   ]
  },
  {
   "cell_type": "markdown",
   "metadata": {
    "slideshow": {
     "slide_type": "subslide"
    }
   },
   "source": [
    "Diferença de ênfase e fatores em relação a Gerschenkron? Quais?"
   ]
  },
  {
   "cell_type": "markdown",
   "metadata": {
    "editable": true,
    "nbpresent": {
     "id": "1fc7160f-beb4-4997-9c3f-0553e0592605"
    },
    "slideshow": {
     "slide_type": "slide"
    },
    "tags": []
   },
   "source": [
    "## Alemanha\n",
    "\n",
    "Principais setores onde a grande empresa ocupou lugar de destaque na Alemanha, na segunda metade do século\n",
    "XIX: mineração, siderurgia, mecânica pesada e química."
   ]
  },
  {
   "cell_type": "markdown",
   "metadata": {
    "editable": true,
    "slideshow": {
     "slide_type": "fragment"
    },
    "tags": []
   },
   "source": [
    "Nessas indústrias, a forma predominante de organização das grandes empresas foi a **sociedade por ações** (*joint-stock companies*)."
   ]
  },
  {
   "cell_type": "markdown",
   "metadata": {
    "editable": true,
    "slideshow": {
     "slide_type": "fragment"
    },
    "tags": []
   },
   "source": [
    "Em 1907, 65% do capital das 100 maiores empresas industriais da Alemanha eram controlados por sociedade anônimas."
   ]
  },
  {
   "cell_type": "markdown",
   "metadata": {
    "editable": true,
    "nbpresent": {
     "id": "1acbc207-c8bb-4376-a328-421bbf9520c4"
    },
    "slideshow": {
     "slide_type": "slide"
    },
    "tags": []
   },
   "source": [
    "## Concentração\n",
    "\n",
    "Uma das principais consequências do domínio das grandes empresas desses setores na Alemanha foi a mudança nas relações\n",
    "entre as firmas."
   ]
  },
  {
   "cell_type": "markdown",
   "metadata": {
    "editable": true,
    "nbpresent": {
     "id": "f3dfbdf9-fe1d-4356-9ad0-df395911e6f3"
    },
    "slideshow": {
     "slide_type": "fragment"
    },
    "tags": []
   },
   "source": [
    "Oligopólio, divisão do mercado e competição extra-preço substituíram a competição típica (via preço) de um mercado em que predominam empresas com pequeno poder de mercado. O controle do mercado por um número relativamente pequeno de empresas levou frequentemente à formação de cartéis."
   ]
  },
  {
   "cell_type": "markdown",
   "metadata": {
    "editable": true,
    "slideshow": {
     "slide_type": "fragment"
    },
    "tags": []
   },
   "source": [
    "Possíveis efeitos: a) elevação das margens de\n",
    "lucro, redistribuição de renda; b) mas também acumulação\n",
    "de capital, investimentos e desenvolvimento tecnológico."
   ]
  },
  {
   "cell_type": "markdown",
   "metadata": {
    "editable": true,
    "nbpresent": {
     "id": "13c81a42-221c-45fd-bde2-343bbcc74678"
    },
    "slideshow": {
     "slide_type": "slide"
    },
    "tags": []
   },
   "source": [
    "## Bancos\n",
    "\n",
    "Outra figura central na industrialização alemã foram os\n",
    "chamados *bancos universais*, também organizados na forma\n",
    "de sociedade por ações."
   ]
  },
  {
   "cell_type": "markdown",
   "metadata": {
    "editable": true,
    "nbpresent": {
     "id": "69b2baa0-ed18-483e-8653-50f0e5c1d94f"
    },
    "slideshow": {
     "slide_type": "fragment"
    },
    "tags": []
   },
   "source": [
    "Esses bancos atuavam no mercado de crédito de curto prazo e de longo prazo (ou seja, ao mesmo tempo como bancos de desconto e de investimento), fornecendo a empresas industriais recursos para investimentos, fusões e aquisições."
   ]
  },
  {
   "cell_type": "markdown",
   "metadata": {
    "editable": true,
    "slideshow": {
     "slide_type": "fragment"
    },
    "tags": []
   },
   "source": [
    "A visão clássica sobre esse tema considera que a relação íntima desses bancos com empresas manufatureiras foi determinante do sucesso industrial alemão."
   ]
  },
  {
   "cell_type": "markdown",
   "metadata": {
    "editable": true,
    "nbpresent": {
     "id": "1674bcc2-8448-4b20-8203-e741d2f6048b"
    },
    "slideshow": {
     "slide_type": "subslide"
    },
    "tags": []
   },
   "source": [
    "Outros autores qualificam, porém: bancos universais não foram dominantes no setor bancário; seu papel cresceu quando a\n",
    "industrialização alemã já estava em pleno desenvolvimento; bancos teriam sido então causa e efeito da industrialização."
   ]
  },
  {
   "cell_type": "markdown",
   "metadata": {
    "editable": true,
    "nbpresent": {
     "id": "8b4f0472-cccb-4d13-abbd-187d93bc9309"
    },
    "slideshow": {
     "slide_type": "slide"
    },
    "tags": []
   },
   "source": [
    "## Centeio e Ferro\n",
    "\n",
    "Outra questão recorrente na análise da industrialização alemã\n",
    "é a chamada aliança entre “*rye and iron*”, ou seja, entre a\n",
    "aristrocracia agrária Junker do leste da Prússia e os\n",
    "empresários da indústria pesada no oeste."
   ]
  },
  {
   "cell_type": "markdown",
   "metadata": {
    "editable": true,
    "nbpresent": {
     "id": "794d2206-833d-419a-b3b9-b12875162c7e"
    },
    "slideshow": {
     "slide_type": "fragment"
    },
    "tags": []
   },
   "source": [
    "A base da aliança foi a elevação da proteção comercial, simbolizada pela lei de tarifas proposta por [Bismarck](https://en.wikipedia.org/wiki/Otto_von_Bismarck) e aprovada pelo Reichstag em 1879."
   ]
  },
  {
   "cell_type": "markdown",
   "metadata": {
    "editable": true,
    "slideshow": {
     "slide_type": "fragment"
    },
    "tags": []
   },
   "source": [
    "Condições geralmente citadas: longa crise iniciada em 1873, revolução do transporte e baixa nos preços dos cereais (importados da Rússia e países do Báltico), interesse de Bismarck em aumentar receitas fiscais, controle do governo por interesses empresariais poderosos."
   ]
  },
  {
   "cell_type": "markdown",
   "metadata": {
    "editable": true,
    "slideshow": {
     "slide_type": "slide"
    },
    "tags": []
   },
   "source": [
    "## Protecionismo\n",
    "\n",
    "A elevação das tarifas abrangeu a produção de ferro gusa, produtos semi-acabados e acabados da indústria eletro-mecânica bem como cereais (como trigo, centeio e aveia)."
   ]
  },
  {
   "cell_type": "markdown",
   "metadata": {
    "editable": true,
    "slideshow": {
     "slide_type": "fragment"
    },
    "tags": []
   },
   "source": [
    "Até então (desde os anos 1860), a Europa vinha reduzindo tarifas ou mantendo-as baixas por meio de tratados de comércio. Com a nova tarifa alemã em 1879, iniciou-se um longo período de retaliações e elevações tarifárias."
   ]
  },
  {
   "cell_type": "markdown",
   "metadata": {
    "editable": true,
    "slideshow": {
     "slide_type": "fragment"
    },
    "tags": []
   },
   "source": [
    "Outro episódio do protecionismo alemão ocorreu com\n",
    "nova lei tarifária de 1902, mas com os principais\n",
    "aumentos das tarifas beneficiando produtos agrícolas."
   ]
  },
  {
   "cell_type": "markdown",
   "metadata": {
    "editable": true,
    "slideshow": {
     "slide_type": "slide"
    },
    "tags": []
   },
   "source": [
    "## Estados Unidos\n",
    "\n",
    "No caso dos Estados Unidos, um processo parecido com o da\n",
    "Alemanha teve lugar em seus setores mais dinâmicos *na\n",
    "primeira metade do século XIX*: têxtil e siderurgia."
   ]
  },
  {
   "cell_type": "markdown",
   "metadata": {
    "editable": true,
    "nbpresent": {
     "id": "8dde182b-545e-464d-86aa-93633eb83d31"
    },
    "slideshow": {
     "slide_type": "fragment"
    },
    "tags": []
   },
   "source": [
    "Nessa época, essas duas indústrias já eram controladas por\n",
    "grandes empresas (com destaque para sociedades por\n",
    "ações), com alta mecanização e predomínio do trabalho semi\n",
    "ou não qualificado. Economias de escala e padronização já\n",
    "eram características dessas indústrias."
   ]
  },
  {
   "cell_type": "markdown",
   "metadata": {
    "editable": true,
    "slideshow": {
     "slide_type": "fragment"
    },
    "tags": []
   },
   "source": [
    "O restante da indústria, porém, era muito diferente: geralmente\n",
    "pequena escala de produção, grande peso do trabalho\n",
    "artesanal, pouca mecanização, grande número de empresas."
   ]
  },
  {
   "cell_type": "markdown",
   "metadata": {
    "editable": true,
    "nbpresent": {
     "id": "383dda45-dccb-4fde-a663-f4b4f94a501e"
    },
    "slideshow": {
     "slide_type": "slide"
    },
    "tags": []
   },
   "source": [
    "## Distribuição\n",
    "\n",
    "Essa estrutura industrial iria mudar radicalmente *a partir\n",
    "da década de 1860* nos EUA. Dois processos foram\n",
    "fundamentais: *distribuição e produção em massa*."
   ]
  },
  {
   "cell_type": "markdown",
   "metadata": {
    "editable": true,
    "slideshow": {
     "slide_type": "fragment"
    },
    "tags": []
   },
   "source": [
    "a) *Distribuição*: as empresas industriais passaram a contar com novos\n",
    "meios de transporte (ferrovias) e de comunicação\n",
    "(telégrafo) que as permitiram atuar em diferentes\n",
    "mercados regionais do país."
   ]
  },
  {
   "cell_type": "markdown",
   "metadata": {
    "editable": true,
    "slideshow": {
     "slide_type": "fragment"
    },
    "tags": []
   },
   "source": [
    "Compra e venda em tempo real, transporte com preços declinantes, distribuição rápida e padronizada reduziram\n",
    "custos e elevaram a produtividade da indústria."
   ]
  },
  {
   "cell_type": "markdown",
   "metadata": {
    "editable": true,
    "slideshow": {
     "slide_type": "slide"
    },
    "tags": []
   },
   "source": [
    "## Produção\n",
    "\n",
    "b) *Produção:* mudanças na distribuição, por sua vez, criaram pressões sobre a demanda e a escala de produção das empresas industriais, agora com capacidade de atender a um amplo mercado *integrado nacionalmente*."
   ]
  },
  {
   "cell_type": "markdown",
   "metadata": {
    "editable": true,
    "slideshow": {
     "slide_type": "fragment"
    },
    "tags": []
   },
   "source": [
    "Um efeito direto – do ponto de vista micro – foi a especialização e\n",
    "padronização das tarefas dentro das fábricas, abrindo espaço para\n",
    "introdução de novas máquinas e novos processos."
   ]
  },
  {
   "cell_type": "markdown",
   "metadata": {
    "editable": true,
    "slideshow": {
     "slide_type": "fragment"
    },
    "tags": []
   },
   "source": [
    "Quando possível, as empresas introduziram máquinas e processos com *produção contínua e padronizada* – a produção em massa."
   ]
  },
  {
   "cell_type": "markdown",
   "metadata": {
    "editable": true,
    "slideshow": {
     "slide_type": "subslide"
    },
    "tags": []
   },
   "source": [
    "Produção em massa: inicialmente em indústrias como as de tabaco, alimentos enlatados e sabão. Depois, em indústrias de bens de consumo durável (máquinas de costura, armas, automóveis). Estudaremos esse desenvolvimento em outra aula."
   ]
  },
  {
   "cell_type": "markdown",
   "metadata": {
    "editable": true,
    "slideshow": {
     "slide_type": "slide"
    },
    "tags": []
   },
   "source": [
    "## Hierarquização da firma\n",
    "\n",
    "Outro resultado das transformações na distribuição e na\n",
    "produção deu-se no *âmbito da organização empresarial*."
   ]
  },
  {
   "cell_type": "markdown",
   "metadata": {
    "editable": true,
    "slideshow": {
     "slide_type": "fragment"
    },
    "tags": []
   },
   "source": [
    "As empresas americanas tiveram de gerenciar e\n",
    "coordenar produção e distribuição de seus produtos *em\n",
    "grande escala e em mercados distantes*."
   ]
  },
  {
   "cell_type": "markdown",
   "metadata": {
    "editable": true,
    "slideshow": {
     "slide_type": "fragment"
    },
    "tags": []
   },
   "source": [
    "No final do século XIX, uma nova estrutura hierárquica\n",
    "ganhou forma, com *funções segmentadas*: produção,\n",
    "distribuição, compras, finanças, P&D. O processo\n",
    "decisório foi centralizado nos departamentos e no topo da\n",
    "direção, formados por empregados assalariados (diretores), não mais os proprietários individuais."
   ]
  },
  {
   "cell_type": "markdown",
   "metadata": {
    "editable": true,
    "slideshow": {
     "slide_type": "slide"
    },
    "tags": []
   },
   "source": [
    "## A estrutura multidivisional\n",
    "\n",
    "O desenvolvimento dessa estrutura empresarial se aprofundou\n",
    "com dois movimentos paralelos: a *expansão geográfica* e a\n",
    "*diversificação de produtos*."
   ]
  },
  {
   "cell_type": "markdown",
   "metadata": {
    "editable": true,
    "slideshow": {
     "slide_type": "fragment"
    },
    "tags": []
   },
   "source": [
    "No início do século XX, a *estrutura multidivisional* tornou-se a\n",
    "organização dominante entre as corporações nos setores\n",
    "industriais mais dinâmicos nos EUA."
   ]
  },
  {
   "cell_type": "markdown",
   "metadata": {
    "editable": true,
    "slideshow": {
     "slide_type": "fragment"
    },
    "tags": []
   },
   "source": [
    "No *topo da hierarquia*, a gerência assalariada monitora o desempenho das divisões (geográficas ou de produtos),\n",
    "planeja e implementa os objetivos de longo prazo. "
   ]
  },
  {
   "cell_type": "markdown",
   "metadata": {
    "editable": true,
    "slideshow": {
     "slide_type": "subslide"
    },
    "tags": []
   },
   "source": [
    "*Nas divisões*, diretores cuidam de seus objetivos específicos. Foi essa estrutura que serviu de base para a expansão global das empresas americanas nas décadas seguintes."
   ]
  },
  {
   "cell_type": "markdown",
   "metadata": {
    "editable": true,
    "slideshow": {
     "slide_type": "slide"
    },
    "tags": []
   },
   "source": [
    "### Questões\n",
    "\n",
    "Explique a noção de Gerschenkron de que o atraso econômico relativo pode trazer vantagens para os países atrasados. De que maneira isso ocorreria? Essas condições seriam sempre observadas?\n",
    "\n",
    "De que forma os bancos universais podem ter contribuído decisivamente para o sucesso industrial alemão?\n",
    "\n",
    "Como as transformações na distribuição e na produção industrial nos EUA levaram ao aumento da produtividade e a transformação das estruturas das firmas americanas? Avalie os efeitos das economias de escala e de escopo."
   ]
  }
 ],
 "metadata": {
  "celltoolbar": "Slideshow",
  "kernelspec": {
   "display_name": "Python 3 (ipykernel)",
   "language": "python",
   "name": "python3"
  },
  "language_info": {
   "codemirror_mode": {
    "name": "ipython",
    "version": 3
   },
   "file_extension": ".py",
   "mimetype": "text/x-python",
   "name": "python",
   "nbconvert_exporter": "python",
   "pygments_lexer": "ipython3",
   "version": "3.8.20"
  },
  "toc": {
   "base_numbering": 1,
   "nav_menu": {},
   "number_sections": false,
   "sideBar": true,
   "skip_h1_title": false,
   "title_cell": "Table of Contents",
   "title_sidebar": "Contents",
   "toc_cell": false,
   "toc_position": {},
   "toc_section_display": true,
   "toc_window_display": false
  }
 },
 "nbformat": 4,
 "nbformat_minor": 4
}
