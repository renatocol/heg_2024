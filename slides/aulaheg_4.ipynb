{
 "cells": [
  {
   "cell_type": "markdown",
   "metadata": {
    "editable": true,
    "nbpresent": {
     "id": "452305db-662c-4b4e-aa92-79d92fa4544d"
    },
    "slideshow": {
     "slide_type": "slide"
    },
    "tags": []
   },
   "source": [
    "## <center>História Econômica Geral I - FEA-USP</center>\n",
    "\n",
    "### <center>Aula 4 - China e a Grande Divergência</center>\n",
    "\n",
    "#### <center>Renato Perim Colistete</center>\n",
    "\n",
    "\n",
    "#### <center>2024</center>"
   ]
  },
  {
   "cell_type": "markdown",
   "metadata": {
    "editable": true,
    "nbpresent": {
     "id": "1fc7160f-beb4-4997-9c3f-0553e0592605"
    },
    "slideshow": {
     "slide_type": "slide"
    },
    "tags": []
   },
   "source": [
    " ## Objetivos\n",
    "\n",
    "Trataremos nesta aula da emergência da China como a maior potência global no período pré-1700 e sua posterior estagnação tecnológica.\n",
    "\n",
    "Primeiro, apresentaremos as características do período inicial da civilização chinesa até os anos 200 AC e da era imperial inaugurada com a dinastia Qin (c. 221-206 AC), quando descreveremos a estrutura social e política e algumas evidências do desenvolvimento econômico alcançado pela China.\n",
    "\n",
    "Em seguida, abordaremos o atraso relativo da China diante da Europa, sobretudo a partir de 1700, e suas possíveis causas."
   ]
  },
  {
   "cell_type": "markdown",
   "metadata": {
    "editable": true,
    "nbpresent": {
     "id": "1acbc207-c8bb-4376-a328-421bbf9520c4"
    },
    "slideshow": {
     "slide_type": "slide"
    },
    "tags": []
   },
   "source": [
    "## Período pré-imperial\n",
    "\n",
    "O período pré-imperial na China (antes de 221 AC) foi caracterizado por uma estrutura feudal similar à da Europa séculos depois, com multiplicidade de clãs e senhores feudais, em um sistema predominantemente descentralizado."
   ]
  },
  {
   "cell_type": "markdown",
   "metadata": {
    "editable": true,
    "nbpresent": {
     "id": "f3dfbdf9-fe1d-4356-9ad0-df395911e6f3"
    },
    "slideshow": {
     "slide_type": "fragment"
    },
    "tags": []
   },
   "source": [
    "O período compreende as três primeiras dinastias da civilização\n",
    "chinesa: [Xia](https://en.wikipedia.org/wiki/Xia_dynasty) (*c*. 2100-1600 AC), [Shang](https://en.wikipedia.org/wiki/Shang_dynasty) (*c*. 1600-1050 AC) e [Zhou](https://en.wikipedia.org/wiki/Zhou_dynasty) (*c*. 1046-256 AC)."
   ]
  },
  {
   "cell_type": "markdown",
   "metadata": {
    "editable": true,
    "nbpresent": {
     "id": "bb419a40-14ab-48cd-8328-1c62b7f7bd0a"
    },
    "slideshow": {
     "slide_type": "subslide"
    },
    "tags": []
   },
   "source": [
    "A estrutura desses reinados baseava-se nas famílias aristocráticas, grandes proprietárias de terras cultivadas em um sistema similar ao de vassalagem difundido na Europa após a desagregação do Império Romano."
   ]
  },
  {
   "cell_type": "markdown",
   "metadata": {
    "nbpresent": {
     "id": "bb88ba62-49af-4a08-a1fb-e61b66f85d5a"
    },
    "slideshow": {
     "slide_type": "slide"
    }
   },
   "source": [
    "## A sociedade pré-imperial\n",
    "\n",
    "Já nesse período remoto, a sociedade chinesa introduziu inovações sofisticadas para a época. Um dos pilares da economia foi a difusão do uso do bronze (a partir de minério de cobre e estanho) já na dinastia Shang\n",
    "(emprego em armas, artefatos domésticos e pessoais)."
   ]
  },
  {
   "cell_type": "markdown",
   "metadata": {
    "nbpresent": {
     "id": "c4116e36-3ce7-4491-96e4-03190f4a3b72"
    },
    "slideshow": {
     "slide_type": "fragment"
    }
   },
   "source": [
    "Outro exemplo do desenvolvimento dessa sociedade foi o uso crescente da escrita simbólica para registro de ensinamentos, ritos e histórias – inicialmente usando pedras, casco de tartaruga e madeira (mais adiante, *c*. 100 DC, inventam o papel)."
   ]
  },
  {
   "cell_type": "markdown",
   "metadata": {
    "editable": true,
    "nbpresent": {
     "id": "ab6926e6-5a84-4224-ae15-863218da085c"
    },
    "slideshow": {
     "slide_type": "fragment"
    },
    "tags": []
   },
   "source": [
    "Nos séculos finais (*c*. 770 AC em diante) da dinastia Zhou, a revolta de lordes aliados com tribos locais desencadeou um longo período de instabilidade e guerras entre as famílias aristocráticas. "
   ]
  },
  {
   "cell_type": "markdown",
   "metadata": {
    "editable": true,
    "slideshow": {
     "slide_type": "subslide"
    },
    "tags": []
   },
   "source": [
    "Apenas em *c*. 256 AC uma nova época foi inaugurada com a vitória de um dos estados locais mais poderosos, mas de curtíssima duração – a dinastia Qin (221-206 AC)."
   ]
  },
  {
   "cell_type": "markdown",
   "metadata": {
    "nbpresent": {
     "id": "13c81a42-221c-45fd-bde2-343bbcc74678"
    },
    "slideshow": {
     "slide_type": "slide"
    }
   },
   "source": [
    "## Impérios\n",
    "\n",
    "Apesar de seu curto domínio, a dinastia [Qin](https://en.wikipedia.org/wiki/Qin_dynasty) é considerada o\n",
    "início da era dos Impérios da China. Ela foi logo sucedida pela\n",
    "dinastia [Han](https://en.wikipedia.org/wiki/Han_dynasty) que teve maior duração (206 AC-220 DC)."
   ]
  },
  {
   "cell_type": "markdown",
   "metadata": {
    "editable": true,
    "nbpresent": {
     "id": "69b2baa0-ed18-483e-8653-50f0e5c1d94f"
    },
    "slideshow": {
     "slide_type": "fragment"
    },
    "tags": []
   },
   "source": [
    "A característica básica dessas e demais dinastias imperiais\n",
    "foi a adoção de um regime político unitário e centralizado\n",
    "reunindo os estados e reinos locais."
   ]
  },
  {
   "cell_type": "markdown",
   "metadata": {
    "editable": true,
    "nbpresent": {
     "id": "1674bcc2-8448-4b20-8203-e741d2f6048b"
    },
    "slideshow": {
     "slide_type": "subslide"
    },
    "tags": []
   },
   "source": [
    "A base desse regime centralizado foi a organização de uma\n",
    "burocracia imperial que, em aliança com as nobrezas locais,\n",
    "assegurou não só unidade, mas a expansão sucessiva do\n",
    "território chinês."
   ]
  },
  {
   "cell_type": "markdown",
   "metadata": {
    "nbpresent": {
     "id": "8b4f0472-cccb-4d13-abbd-187d93bc9309"
    },
    "slideshow": {
     "slide_type": "slide"
    }
   },
   "source": [
    "## Burocracia imperial\n",
    "\n",
    "Um fato importante é que o regime centralizado consolidou, já na dinastia Han, uma burocracia imperial organizada por critérios meritocráticos (ver a seguir)."
   ]
  },
  {
   "cell_type": "markdown",
   "metadata": {
    "editable": true,
    "nbpresent": {
     "id": "794d2206-833d-419a-b3b9-b12875162c7e"
    },
    "slideshow": {
     "slide_type": "fragment"
    },
    "tags": []
   },
   "source": [
    "Em grande medida, essa estrutura burocrática foi moldada a partir dos\n",
    "princípios dos pensadores e teóricos da escola [Legalista](https://en.wikipedia.org/wiki/Legalism_(Chinese_philosophy)) da dinastia Qin, que pregavam ordem e disciplina na organização estatal e\n",
    "social."
   ]
  },
  {
   "cell_type": "markdown",
   "metadata": {
    "editable": true,
    "nbpresent": {
     "id": "c5cb9041-13bb-4f74-a70c-dbb306763b20"
    },
    "slideshow": {
     "slide_type": "subslide"
    },
    "tags": []
   },
   "source": [
    "Além de organizarem a burocracia imperial, os Legalistas promoveram a supressão da vassalagem (isto é, o fim das obrigações e serviços de tipo feudal) e organizaram a distribuição da terra diretamente aos camponeses em troca de tributos sobre a produção agrícola (% sobre colheita)."
   ]
  },
  {
   "cell_type": "markdown",
   "metadata": {
    "editable": true,
    "nbpresent": {
     "id": "cb99a5b9-10b5-4d5c-bb6c-23699c0c5b07"
    },
    "slideshow": {
     "slide_type": "slide"
    },
    "tags": []
   },
   "source": [
    "## Burocracia e camponeses\n",
    "\n",
    "Outra medida do novo governo imperial foi a criação de um\n",
    "corpo profissional de soldados, recrutados entre\n",
    "camponeses. Soldados e funcionários civis passaram a ser\n",
    "promovidos por mérito, não por nascimento."
   ]
  },
  {
   "cell_type": "markdown",
   "metadata": {
    "nbpresent": {
     "id": "43701764-6778-49fa-883b-9c1b678f6d67"
    },
    "slideshow": {
     "slide_type": "fragment"
    }
   },
   "source": [
    "Assim, já nas duas primeiras dinastias imperiais (Qin e Han),\n",
    "delineiam-se dois pilares do novo período:"
   ]
  },
  {
   "cell_type": "markdown",
   "metadata": {
    "nbpresent": {
     "id": "1f3a2dee-722b-4a1b-a236-69b92463b751"
    },
    "slideshow": {
     "slide_type": "subslide"
    }
   },
   "source": [
    "- uma economia rural baseada na propriedade privada da terra com pequenos e médios proprietários rurais (mas também aristocracia, escravidão e crescente número de sem-terra);"
   ]
  },
  {
   "cell_type": "markdown",
   "metadata": {
    "slideshow": {
     "slide_type": "fragment"
    }
   },
   "source": [
    "- e uma burocracia profissional\n",
    "centralizada, apoiada na cobrança de impostos rurais."
   ]
  },
  {
   "cell_type": "markdown",
   "metadata": {
    "editable": true,
    "nbpresent": {
     "id": "1a43feb9-1cad-4162-a6ad-b16662fbb6a4"
    },
    "slideshow": {
     "slide_type": "slide"
    },
    "tags": []
   },
   "source": [
    "## Direitos e expansão\n",
    "\n",
    "Uma das principais inovações do período imperial foi a\n",
    "definição clara dos direitos dos proprietários de terra, garantidos\n",
    "pela lei e pelo aparato burocrático."
   ]
  },
  {
   "cell_type": "markdown",
   "metadata": {
    "nbpresent": {
     "id": "b7fa99c1-6023-4201-855d-d27ade6b5d84"
    },
    "slideshow": {
     "slide_type": "fragment"
    }
   },
   "source": [
    "A aliança do Estado burocrático com os camponeses, por sua\n",
    "vez, deu base para a expansão do território chinês, que\n",
    "incorporou vastas áreas cultiváveis, p.ex., ao norte e ao sul (ver mapas)."
   ]
  },
  {
   "cell_type": "markdown",
   "metadata": {
    "nbpresent": {
     "id": "854f9e46-f876-4c95-b11f-ee637364d8cf"
    },
    "slideshow": {
     "slide_type": "subslide"
    }
   },
   "source": [
    "A expansão desse sistema apoiou-se não apenas na\n",
    "incorporação extensiva de novas terras, como também na\n",
    "exploração mais intensiva de uma agricultura comercial pelos\n",
    "camponeses."
   ]
  },
  {
   "cell_type": "markdown",
   "metadata": {
    "nbpresent": {
     "id": "8dde182b-545e-464d-86aa-93633eb83d31"
    },
    "slideshow": {
     "slide_type": "slide"
    }
   },
   "source": [
    "## Mercados e inovações\n",
    "\n",
    "Já nos primeiros governos imperiais, os resultados desse novo\n",
    "sistema se fizeram sentir por meio de:"
   ]
  },
  {
   "cell_type": "markdown",
   "metadata": {
    "nbpresent": {
     "id": "383dda45-dccb-4fde-a663-f4b4f94a501e"
    },
    "slideshow": {
     "slide_type": "fragment"
    }
   },
   "source": [
    "a) expansão dos mercados;"
   ]
  },
  {
   "cell_type": "markdown",
   "metadata": {
    "nbpresent": {
     "id": "5318412e-57bb-45fa-8b89-662b2f0a33ab"
    },
    "slideshow": {
     "slide_type": "fragment"
    }
   },
   "source": [
    "b) aperfeiçoamento e diversificação da agricultura;"
   ]
  },
  {
   "cell_type": "markdown",
   "metadata": {
    "slideshow": {
     "slide_type": "subslide"
    }
   },
   "source": [
    "c) urbanização e atividades artesanais;"
   ]
  },
  {
   "cell_type": "markdown",
   "metadata": {
    "slideshow": {
     "slide_type": "fragment"
    }
   },
   "source": [
    "d) desenvolvimento das ciências e inovações tecnológicas;"
   ]
  },
  {
   "cell_type": "markdown",
   "metadata": {
    "slideshow": {
     "slide_type": "fragment"
    }
   },
   "source": [
    "e) elevação do padrão de vida material da população."
   ]
  },
  {
   "cell_type": "markdown",
   "metadata": {
    "nbpresent": {
     "id": "1418d2ed-9be3-4415-b01b-b8f72fe19696"
    },
    "slideshow": {
     "slide_type": "slide"
    }
   },
   "source": [
    "## Comércio\n",
    "\n",
    "Vejamos alguns exemplos para ilustrar. "
   ]
  },
  {
   "cell_type": "markdown",
   "metadata": {
    "slideshow": {
     "slide_type": "fragment"
    }
   },
   "source": [
    "Mercados e comércio internacional: estima-se que cerca\n",
    "de 1/3 da prata comercializada no mundo foi importada pela\n",
    "China (a partir do final do século XV)."
   ]
  },
  {
   "cell_type": "markdown",
   "metadata": {
    "nbpresent": {
     "id": "45c198ca-6d9a-44e0-8575-f1afc643e980"
    },
    "slideshow": {
     "slide_type": "fragment"
    }
   },
   "source": [
    "Na agricultura, as exportações de chá ocuparam o\n",
    "mercado europeu."
   ]
  },
  {
   "cell_type": "markdown",
   "metadata": {
    "nbpresent": {
     "id": "68f6860d-634a-4bda-97e4-4e6930ceb7b5"
    },
    "slideshow": {
     "slide_type": "slide"
    }
   },
   "source": [
    "## Manufaturas e nível de vida\n",
    "\n",
    "Manufaturas: cerca de 1/3 da produção mundial no início do\n",
    "século XIX. Principais produtos: porcelana, seda, papel e seus\n",
    "produtos, utensílios."
   ]
  },
  {
   "cell_type": "markdown",
   "metadata": {
    "nbpresent": {
     "id": "cc83d49d-1337-48f7-a9d8-772260a8f5ee"
    },
    "slideshow": {
     "slide_type": "fragment"
    }
   },
   "source": [
    "Ciência e tecnologia: amplo desenvolvimento do conhecimento científico aplicado em armamentos (p.ex., pólvora), papel e\n",
    "imprensa, indústria naval (p.ex., bússola), metalurgia, mecânica, entre outros (ver uma lista [aqui](https://en.wikipedia.org/wiki/List_of_Chinese_inventions))."
   ]
  },
  {
   "cell_type": "markdown",
   "metadata": {
    "nbpresent": {
     "id": "83f6464a-0444-4c80-8e47-c5513282ff49"
    },
    "slideshow": {
     "slide_type": "subslide"
    }
   },
   "source": [
    "Padrão de vida: de acordo com estimativas mais recentes, os níveis de vida na China eram similares aos das regiões mais ricas da Europa até 1700."
   ]
  },
  {
   "cell_type": "markdown",
   "metadata": {
    "editable": true,
    "slideshow": {
     "slide_type": "slide"
    },
    "tags": []
   },
   "source": [
    "### <center>PIB per capita de regiões líderes da China e Europa, 1000-1870</center>\n",
    "\n",
    "<center><img src=\"europe_china_div.png\", width=800></center>"
   ]
  },
  {
   "cell_type": "markdown",
   "metadata": {
    "editable": true,
    "nbpresent": {
     "id": "ab2df823-deba-4f5d-9781-181bc6255bd8"
    },
    "slideshow": {
     "slide_type": "slide"
    },
    "tags": []
   },
   "source": [
    "## Por que estagnação?\n",
    "\n",
    "Mas se o desenvolvimento material e intelectual da China até 1700 (ou até 1800 para alguns autores) alcançou tais níveis, o que aconteceu depois?"
   ]
  },
  {
   "cell_type": "markdown",
   "metadata": {
    "editable": true,
    "nbpresent": {
     "id": "63e3d11e-f051-47af-a20d-c5681425064d"
    },
    "slideshow": {
     "slide_type": "fragment"
    },
    "tags": []
   },
   "source": [
    "Por que o crescimento da China perdeu fôlego durante o século XVIII (ou séc. XIX segundo alguns autores)?"
   ]
  },
  {
   "cell_type": "markdown",
   "metadata": {
    "editable": true,
    "slideshow": {
     "slide_type": "fragment"
    },
    "tags": []
   },
   "source": [
    "E por que foi amplamente ultrapassado pelo desenvolvimento da Europa ocidental?"
   ]
  },
  {
   "cell_type": "markdown",
   "metadata": {
    "editable": true,
    "slideshow": {
     "slide_type": "slide"
    },
    "tags": []
   },
   "source": [
    "## Reversão\n",
    "\n",
    "Após declínio do crescimento econômico iniciado em\n",
    "meados do século XIV, a China voltou a crescer a partir de\n",
    "*c*. 1550, porém com características distintas do passado."
   ]
  },
  {
   "cell_type": "markdown",
   "metadata": {
    "editable": true,
    "slideshow": {
     "slide_type": "fragment"
    },
    "tags": []
   },
   "source": [
    "Ao mesmo tempo que a China atingiu possivelmente o auge de seu\n",
    "desenvolvimento tecnológico no século XIV, o crescimento\n",
    "posterior deixou de ser acompanhado por inovações\n",
    "substanciais como antes."
   ]
  },
  {
   "cell_type": "markdown",
   "metadata": {
    "editable": true,
    "slideshow": {
     "slide_type": "fragment"
    },
    "tags": []
   },
   "source": [
    "Há diversas hipóteses para o atraso relativo da China após\n",
    "séculos de crescimento e desenvolvimento tecnológico."
   ]
  },
  {
   "cell_type": "markdown",
   "metadata": {
    "editable": true,
    "slideshow": {
     "slide_type": "slide"
    },
    "tags": []
   },
   "source": [
    "## Explicações\n",
    "\n",
    "Uma das explicações enfatiza dois fatores no período\n",
    "pré-1800: a) dotação de recursos naturais e b) restrição de\n",
    "mercados externos."
   ]
  },
  {
   "cell_type": "markdown",
   "metadata": {
    "editable": true,
    "slideshow": {
     "slide_type": "fragment"
    },
    "tags": []
   },
   "source": [
    "O papel dos recursos naturais se baseia no contra-exemplo\n",
    "da Inglaterra séculos depois. Ao contrário da Europa, a China\n",
    "não fez a transição para o uso intensivo de combustível fóssil\n",
    "(carvão, no caso)."
   ]
  },
  {
   "cell_type": "markdown",
   "metadata": {
    "editable": true,
    "slideshow": {
     "slide_type": "fragment"
    },
    "tags": []
   },
   "source": [
    "Qual a importância do carvão mineral? Na Inglaterra, a destruição das florestas induziu a busca de fontes alternativas ao carvão\n",
    "vegetal, o que foi facilitado pelas grandes reservas disponíveis de carvão mineral."
   ]
  },
  {
   "cell_type": "markdown",
   "metadata": {
    "editable": true,
    "slideshow": {
     "slide_type": "subslide"
    },
    "tags": []
   },
   "source": [
    "A exploração intensiva das minas fez com que o carvão mineral\n",
    "passasse a ser encontrado apenas em profundidades cada vez\n",
    "maiores, com as minas sendo inundadas com água."
   ]
  },
  {
   "cell_type": "markdown",
   "metadata": {
    "editable": true,
    "slideshow": {
     "slide_type": "fragment"
    },
    "tags": []
   },
   "source": [
    "Foi aí que surgiram na Inglaterra as tentativas de resolver o problema\n",
    "técnico, sendo uma delas bem-sucedida: a máquina a vapor com\n",
    "pistão ([Thomas Newcomen](https://en.wikipedia.org/wiki/Thomas_Newcomen), 1712) para bombear água das galerias\n",
    "das minas, viabilizando a continuidade da exploração de carvão."
   ]
  },
  {
   "cell_type": "markdown",
   "metadata": {
    "editable": true,
    "slideshow": {
     "slide_type": "slide"
    },
    "tags": []
   },
   "source": [
    "## Vapor e fábricas na Inglaterra \n",
    "\n",
    "Inicialmente empregada nas minas de carvão, a máquina a vapor seria\n",
    "aperfeiçoada para uso mais amplo, podendo ser instalada em\n",
    "fábricas e depois no setor de transporte (locomotivas, navios)."
   ]
  },
  {
   "cell_type": "markdown",
   "metadata": {
    "editable": true,
    "slideshow": {
     "slide_type": "fragment"
    },
    "tags": []
   },
   "source": [
    "O marco nessa aplicação industrial mais ampla foi a máquina a\n",
    "vapor de movimento rotativo desenvolvida por [James Watt](https://en.wikipedia.org/wiki/James_Watt) (*c*.\n",
    "1781)."
   ]
  },
  {
   "cell_type": "markdown",
   "metadata": {
    "editable": true,
    "slideshow": {
     "slide_type": "fragment"
    },
    "tags": []
   },
   "source": [
    "A máquina a vapor de Watt podia ser instalada em qualquer\n",
    "local que possuísse água e carvão (mineral ou vegetal),\n",
    "incluindo fábricas têxteis e metalúrgicas (veremos a invenção de\n",
    "Watt em uma aula adiante)."
   ]
  },
  {
   "cell_type": "markdown",
   "metadata": {
    "editable": true,
    "slideshow": {
     "slide_type": "slide"
    },
    "tags": []
   },
   "source": [
    "## E na China?\n",
    "\n",
    "O argumento é que a peculiar dotação de recursos (carvão\n",
    "mineral), a localização das reservas próxima a centros urbanos, mais a\n",
    "engenhosidade dos mecânicos na Inglaterra, geraram\n",
    "externalidades que levaram a transformações radicais nas\n",
    "fábricas e nos transportes – a Revolução Industrial."
   ]
  },
  {
   "cell_type": "markdown",
   "metadata": {
    "editable": true,
    "slideshow": {
     "slide_type": "fragment"
    },
    "tags": []
   },
   "source": [
    "Em contraposição, as condições existentes na China não\n",
    "favoreceram um desenvolvimento similar."
   ]
  },
  {
   "cell_type": "markdown",
   "metadata": {
    "editable": true,
    "slideshow": {
     "slide_type": "fragment"
    },
    "tags": []
   },
   "source": [
    "Pelo contrário, as reservas de carvão mineral eram dispersas e distantes, não sendo exploradas de maneira sistemática e não\n",
    "gerando externalidades semelhantes às observadas na Inglaterra."
   ]
  },
  {
   "cell_type": "markdown",
   "metadata": {
    "editable": true,
    "slideshow": {
     "slide_type": "slide"
    },
    "tags": []
   },
   "source": [
    "## Comércio\n",
    "\n",
    "Outro fator teria sido a limitada expansão do comércio externo. A China\n",
    "permaneceu vinculada às rotas tradicionais de comércio (Ásia, norte da Áfirca, parte da\n",
    "Europa), que embora extensas, cresciam lentamente."
   ]
  },
  {
   "cell_type": "markdown",
   "metadata": {
    "editable": true,
    "slideshow": {
     "slide_type": "fragment"
    },
    "tags": []
   },
   "source": [
    "A Europa ocidental, por sua vez, desde o final do século XV, passou a contar – nas colônias das Américas – com novas fontes de metais preciosos, matérias-primas e alimentos, exploradas com trabalho nativo e africano. Por outro lado, as colônias tornaram-se mercados para as manufaturas europeias."
   ]
  },
  {
   "cell_type": "markdown",
   "metadata": {
    "editable": true,
    "slideshow": {
     "slide_type": "fragment"
    },
    "tags": []
   },
   "source": [
    "Novos produtos e mercados permitiram a) elevar o consumo europeu em níveis muito superiores aos possibilitados com recursos locais, b) e ampliar seus mercados para além das economias regionais."
   ]
  },
  {
   "cell_type": "markdown",
   "metadata": {
    "editable": true,
    "slideshow": {
     "slide_type": "slide"
    },
    "tags": []
   },
   "source": [
    "## Governo e ideias\n",
    "\n",
    "Outras explicações (complementares) incluem, por exemplo, o\n",
    "crescente isolamento adotado pelos governos imperiais sobretudo após a\n",
    "dinastia [Ming](https://en.wikipedia.org/wiki/Ming_dynasty) (1368-1644)."
   ]
  },
  {
   "cell_type": "markdown",
   "metadata": {
    "editable": true,
    "slideshow": {
     "slide_type": "fragment"
    },
    "tags": []
   },
   "source": [
    "O isolamento teria se dado especialmente via controle do comércio\n",
    "externo por um governo autocrático, que teria inibido o\n",
    "desenvolvimento de uma classe mercantil forte e a diversificação\n",
    "de investimentos."
   ]
  },
  {
   "cell_type": "markdown",
   "metadata": {
    "editable": true,
    "slideshow": {
     "slide_type": "fragment"
    },
    "tags": []
   },
   "source": [
    "Outra explicação destaca a mudança de visão sobre a natureza,\n",
    "com o desenvolvimento de uma filosofia neo-confucionista\n",
    "introspectiva e especulativa, ao contrário da visão de mundo taoísta\n",
    "(investigação, experimentação)."
   ]
  },
  {
   "cell_type": "markdown",
   "metadata": {
    "editable": true,
    "slideshow": {
     "slide_type": "slide"
    },
    "tags": []
   },
   "source": [
    "## Armadilha\n",
    "\n",
    "Em suma, há diferentes hipóteses concorrentes, com pouca\n",
    "concordância quanto aos fatores determinantes da estagnação\n",
    "relativa da China pós-século XIV."
   ]
  },
  {
   "cell_type": "markdown",
   "metadata": {
    "editable": true,
    "slideshow": {
     "slide_type": "fragment"
    },
    "tags": []
   },
   "source": [
    "Mark Elvin descreve essa situação como uma “armadilha de\n",
    "equilíbrio de alto nível”. Mesmo tendo a China imperial alcançado\n",
    "elevado desenvolvimento material e institucional, a partir de certo\n",
    "período os incentivos para a busca de inovações radicais\n",
    "declinaram."
   ]
  },
  {
   "cell_type": "markdown",
   "metadata": {
    "editable": true,
    "slideshow": {
     "slide_type": "fragment"
    },
    "tags": []
   },
   "source": [
    "O progresso técnico continuou, mas apenas no ritmo compatível\n",
    "com o crescimento vegetativo da população – sem saltos e sem\n",
    "condições de acompanhar o rápido desenvolvimento da Europa a\n",
    "partir de 1750."
   ]
  },
  {
   "cell_type": "markdown",
   "metadata": {
    "editable": true,
    "slideshow": {
     "slide_type": "slide"
    },
    "tags": []
   },
   "source": [
    "## Questões\n",
    "\n",
    "Analise o papel da centralização política e da burocracia na organização do Império Chinês com as dinastias Qin e Han. Como esses elementos podem ter afetado o desenvolvimento econômico no período imperial?\n",
    "\n",
    "Avalie a situação da China quanto à dotação de fatores. Como\n",
    "esse último aspecto pode ter sido decisivo para a estagnação\n",
    "do crescimento chinês?\n",
    "\n",
    "Há teorias que enfatizam o papel da expansão dos mercados\n",
    "para o desenvolvimento econômico. Como a situação dos\n",
    "mercados externos pode ter afetado a economia chinesa no\n",
    "longo prazo?"
   ]
  }
 ],
 "metadata": {
  "celltoolbar": "Slideshow",
  "kernelspec": {
   "display_name": "Python 3 (ipykernel)",
   "language": "python",
   "name": "python3"
  },
  "language_info": {
   "codemirror_mode": {
    "name": "ipython",
    "version": 3
   },
   "file_extension": ".py",
   "mimetype": "text/x-python",
   "name": "python",
   "nbconvert_exporter": "python",
   "pygments_lexer": "ipython3",
   "version": "3.8.19"
  },
  "toc": {
   "base_numbering": 1,
   "nav_menu": {},
   "number_sections": false,
   "sideBar": false,
   "skip_h1_title": false,
   "title_cell": "Table of Contents",
   "title_sidebar": "Contents",
   "toc_cell": false,
   "toc_position": {},
   "toc_section_display": false,
   "toc_window_display": false
  }
 },
 "nbformat": 4,
 "nbformat_minor": 4
}
