{
 "cells": [
  {
   "cell_type": "markdown",
   "metadata": {
    "slideshow": {
     "slide_type": "slide"
    }
   },
   "source": [
    "## <center>História Econômica Geral - FEA-USP</center>\n",
    "\n",
    "### <center>Aula 3 - Teorias e Interpretações (parte 1)</center>\n",
    "\n",
    "### <center>Renato Perim Colistete</center>\n",
    "\n",
    "\n",
    "#### <center>2024</center>"
   ]
  },
  {
   "cell_type": "markdown",
   "metadata": {
    "slideshow": {
     "slide_type": "slide"
    }
   },
   "source": [
    " ## Objetivos\n",
    "\n",
    "Esta aula apresenta a abordagem malthusiana sobre o funcionamento da economia pré-industrial.\n",
    "\n",
    "Vamos utilizar a interpretação neomalthusiana de Gregory Clark, em *[A Farewell to Alms](https://www.amazon.com/Farewell-Alms-Economic-History-Princeton/dp/0691141282#reader_0691141282)* (2007).\n",
    "\n",
    "Com isso, avaliaremos as implicações do modelo malthusiano para a análise da emergência da economia moderna, que pode ser empregada para os casos da Ásia e Europa que serão estudados adiante."
   ]
  },
  {
   "cell_type": "markdown",
   "metadata": {
    "slideshow": {
     "slide_type": "slide"
    }
   },
   "source": [
    "## Malthus\n",
    "\n",
    "[Thomas Malthus](https://en.wikipedia.org/wiki/Thomas_Robert_Malthus), em seu [Ensaio sobre a População](http://www.esp.org/books/malthus/population/malthus.pdf) (1798),\n",
    "elaborou uma teoria da população com efeitos diretos sobre\n",
    "o crescimento econômico.\n"
   ]
  },
  {
   "cell_type": "markdown",
   "metadata": {
    "slideshow": {
     "slide_type": "fragment"
    }
   },
   "source": [
    "Segundo Malthus a população tenderia a\n",
    "crescer a taxas geométricas, enquanto a oferta de\n",
    "alimentos cresceria a taxas aritméticas."
   ]
  },
  {
   "cell_type": "markdown",
   "metadata": {
    "slideshow": {
     "slide_type": "fragment"
    }
   },
   "source": [
    "O efeito de longo prazo dessas tendências divergentes\n",
    "sobre o crescimento econômico seria o de produzir\n",
    "estagnação e miséria. Como?"
   ]
  },
  {
   "cell_type": "markdown",
   "metadata": {
    "slideshow": {
     "slide_type": "slide"
    }
   },
   "source": [
    "## O modelo malthusiano\n",
    "\n",
    "Hipóteses básicas do modelo malthusiano:"
   ]
  },
  {
   "cell_type": "markdown",
   "metadata": {
    "slideshow": {
     "slide_type": "fragment"
    }
   },
   "source": [
    "a) *taxa de natalidade*: determinada por costumes que\n",
    "regulam a fertilidade, aumenta com o padrão de vida\n",
    "material;"
   ]
  },
  {
   "cell_type": "markdown",
   "metadata": {
    "slideshow": {
     "slide_type": "fragment"
    }
   },
   "source": [
    "b) *taxa de mortalidade*: reduz-se com a elevação do padrão\n",
    "de vida;"
   ]
  },
  {
   "cell_type": "markdown",
   "metadata": {
    "slideshow": {
     "slide_type": "fragment"
    }
   },
   "source": [
    "c) e o *padrão de vida material* declina com o aumento da\n",
    "população."
   ]
  },
  {
   "cell_type": "markdown",
   "metadata": {
    "slideshow": {
     "slide_type": "slide"
    }
   },
   "source": [
    "## Expectativa de vida\n",
    "\n",
    "O modelo pode ser expresso quantitativamente da seguinte\n",
    "forma:"
   ]
  },
  {
   "cell_type": "markdown",
   "metadata": {
    "slideshow": {
     "slide_type": "fragment"
    }
   },
   "source": [
    "a) taxa de natalidade: nascimentos por 1.000 habitantes; taxas\n",
    "variaram aproximadamente de 60 a 30 por 1.000 hab. na época pré-industrial;"
   ]
  },
  {
   "cell_type": "markdown",
   "metadata": {
    "slideshow": {
     "slide_type": "fragment"
    }
   },
   "source": [
    "b) taxa de mortalidade $D$: óbitos por 1.000 pessoas;"
   ]
  },
  {
   "cell_type": "markdown",
   "metadata": {
    "slideshow": {
     "slide_type": "fragment"
    }
   },
   "source": [
    "c) a expectativa de vida $e$ é igual ao inverso da taxa de\n",
    "mortalidade: $e = \\frac{1}{D}$. Assim, se $D=$ 33 por 1.000 hab (ou 0,033), a\n",
    "expectativa de vida é igual a $e = \\frac{1}{0,033}$ ou 30 anos; ou se $D=$ 0,020,\n",
    "então $e = 50$ anos."
   ]
  },
  {
   "cell_type": "markdown",
   "metadata": {
    "slideshow": {
     "slide_type": "slide"
    }
   },
   "source": [
    "\n",
    "## Natalidade e mortalidade\n",
    "\n",
    "Assume-se que, na economia pré-industrial, as taxas de natalidade e mortalidade tendiam a convergir, ou seja, a população tenderia a ser estacionária."
   ]
  },
  {
   "cell_type": "markdown",
   "metadata": {
    "slideshow": {
     "slide_type": "fragment"
    }
   },
   "source": [
    "Isso implica que a expectativa de vida pode ser calculada\n",
    "também como o inverso da taxa de natalidade."
   ]
  },
  {
   "cell_type": "markdown",
   "metadata": {
    "slideshow": {
     "slide_type": "fragment"
    }
   },
   "source": [
    "O controle da natalidade seria o único meio ao alcance das famílias que poderia levar a uma maior expectativa de vida em termos agregados."
   ]
  },
  {
   "cell_type": "markdown",
   "metadata": {
    "slideshow": {
     "slide_type": "slide"
    }
   },
   "source": [
    "## Padrão de vida\n",
    "\n",
    "Já o padrão de vida material seria determinado pela\n",
    "quantidade média de bens e serviços consumidos pela\n",
    "população."
   ]
  },
  {
   "cell_type": "markdown",
   "metadata": {
    "slideshow": {
     "slide_type": "fragment"
    }
   },
   "source": [
    "Esses bens compreendiam basicamente alimentos, abrigo e\n",
    "vestuário para a maioria da população."
   ]
  },
  {
   "cell_type": "markdown",
   "metadata": {
    "slideshow": {
     "slide_type": "fragment"
    }
   },
   "source": [
    "Notar, porém, que o *padrão de vida variaria de acordo com o nível de riqueza e renda*, assim como o que era\n",
    "considerado em cada sociedade como mínimo necessário para subsistência - além do mínimo biológico que pode ser calculado para diferentes sociedades."
   ]
  },
  {
   "cell_type": "markdown",
   "metadata": {
    "slideshow": {
     "slide_type": "slide"
    }
   },
   "source": [
    "## Equilíbrio na economia malthusiana\n",
    "\n",
    "Na Figura a seguir, $y^*$ é a renda de subsistência, quando as taxas de\n",
    "natalidade e mortalidade se igualam. A população é a variável-chave."
   ]
  },
  {
   "cell_type": "markdown",
   "metadata": {
    "slideshow": {
     "slide_type": "fragment"
    }
   },
   "source": [
    "Com população $N_0$, a renda *per capita* é maior do que a renda\n",
    "de subsistência. A maior renda (= a maior padrão de vida) leva a\n",
    "um aumento da taxa de natalidade, com aumento da população."
   ]
  },
  {
   "cell_type": "markdown",
   "metadata": {
    "slideshow": {
     "slide_type": "fragment"
    }
   },
   "source": [
    "Com o aumento da população, cai a renda *per capita* até a\n",
    "população alcançar o nível de equilíbrio, $N^*$, quando\n",
    "as taxas de natalidade e mortalidade se igualam e $N$ estabiliza."
   ]
  },
  {
   "cell_type": "markdown",
   "metadata": {
    "slideshow": {
     "slide_type": "subslide"
    }
   },
   "source": [
    "## <center>Equilíbrio</center>\n",
    "\n",
    "<center><img src=\"malthusian.jpeg\", width=600></center>\n"
   ]
  },
  {
   "cell_type": "markdown",
   "metadata": {
    "slideshow": {
     "slide_type": "slide"
    }
   },
   "source": [
    "## Mudança no equilíbrio malthusiano\n",
    "\n",
    "E se ocorressem mudanças nas taxas de natalidade ou\n",
    "mortalidade?"
   ]
  },
  {
   "cell_type": "markdown",
   "metadata": {
    "slideshow": {
     "slide_type": "fragment"
    }
   },
   "source": [
    "Na figura a seguir, considera-se uma redução na taxa de mortalidade. Tal caso pode ocorrer como resultado, por exemplo, de melhorias no saneamento e redução de violência e conflitos."
   ]
  },
  {
   "cell_type": "markdown",
   "metadata": {
    "slideshow": {
     "slide_type": "fragment"
    }
   },
   "source": [
    "A taxa de natalidade será maior do que a de mortalidade,\n",
    "aumentando a população. Essa situação resultará em queda da renda real *per capita* até um novo equilíbrio."
   ]
  },
  {
   "cell_type": "markdown",
   "metadata": {
    "editable": true,
    "slideshow": {
     "slide_type": "subslide"
    },
    "tags": []
   },
   "source": [
    "## <center>Redução da mortalidade</center>\n",
    "\n",
    "<center><img src=\"malthusian2.jpeg\", width=600></center>\n",
    "\n"
   ]
  },
  {
   "cell_type": "markdown",
   "metadata": {
    "editable": true,
    "slideshow": {
     "slide_type": "slide"
    },
    "tags": []
   },
   "source": [
    "## O ajuste no modelo\n",
    "\n",
    "O novo equilíbrio ($N_1^*$, $Y_1^*$) será alcançado com maior população e **menor** nível de renda *per capita*."
   ]
  },
  {
   "cell_type": "markdown",
   "metadata": {
    "editable": true,
    "slideshow": {
     "slide_type": "fragment"
    },
    "tags": []
   },
   "source": [
    "Ocorreria o mesmo resultado se houvesse aumento na taxa de natalidade."
   ]
  },
  {
   "cell_type": "markdown",
   "metadata": {
    "editable": true,
    "slideshow": {
     "slide_type": "fragment"
    },
    "tags": []
   },
   "source": [
    "Isto é, haveria aumento nos nascimentos em relação aos óbitos, com incremento da população e consequente queda no nível de renda *per capita*."
   ]
  },
  {
   "cell_type": "markdown",
   "metadata": {
    "editable": true,
    "slideshow": {
     "slide_type": "slide"
    },
    "tags": []
   },
   "source": [
    "## Transição demográfica\n",
    "\n",
    "A combinação de diferentes taxas de natalidade e mortalidade ao longo da história de uma população compõe as etapas da transição demográfica."
   ]
  },
  {
   "cell_type": "markdown",
   "metadata": {
    "editable": true,
    "slideshow": {
     "slide_type": ""
    },
    "tags": []
   },
   "source": [
    "Na maior parte da história, em particular no período inicial que estamos estudando, as taxas de natalidade e mortalidade foram elevadas, daí predominando baixo crescimento da população no longo prazo."
   ]
  },
  {
   "cell_type": "markdown",
   "metadata": {
    "editable": true,
    "slideshow": {
     "slide_type": "fragment"
    },
    "tags": []
   },
   "source": [
    "O descompasso entre a natalidade e mortalidade, por sua vez, ocasiona períodos de rápido crescimento ou declínio da população, até a eventual convergência de baixas taxas de natalidade e mortalidade - a transição demográfica. Vejam e analisem a figura abaixo."
   ]
  },
  {
   "cell_type": "markdown",
   "metadata": {
    "editable": true,
    "slideshow": {
     "slide_type": "subslide"
    },
    "tags": []
   },
   "source": [
    "## <center>Etapas da transição demográfica</center>\n",
    "\n",
    "<center><img src=\"etapas_trans_demografica.png\", width=600></center>"
   ]
  },
  {
   "cell_type": "markdown",
   "metadata": {
    "editable": true,
    "slideshow": {
     "slide_type": "slide"
    },
    "tags": []
   },
   "source": [
    "## Crescimento populacional nas palavras de Malthus\n",
    "\n",
    ">“I think I may fairly make two postulata. First, that food is necessary to the existence of man. Secondly, that the passion between the sexes is necessary and will remain nearly in its present state. These two laws, ever since we have had any knowledge of mankind, appear to have been fixed laws of our nature (...)"
   ]
  },
  {
   "cell_type": "markdown",
   "metadata": {
    "slideshow": {
     "slide_type": "subslide"
    }
   },
   "source": [
    "> Assuming then my postulata as granted, I say that the power of population is indefinitely greater than the power in the earth to produce subsistence for man. Population, when unchecked, increases in a geometrical ratio.”\n",
    "\n",
    "> (Malthus 1798, capítulo 1)."
   ]
  },
  {
   "cell_type": "markdown",
   "metadata": {
    "slideshow": {
     "slide_type": "slide"
    }
   },
   "source": [
    "# Questões\n",
    "\n",
    "Apresente as hipóteses do modelo malthusiano e descreva\n",
    "seus resultados: quais são as principais conclusões para o\n",
    "desenvolvimento econômico?\n",
    "\n",
    "Sob quais condições os resultados previstos pelo modelo\n",
    "malthusiano não seriam observados (considere a\n",
    "produtividade da terra)?\n",
    "\n",
    "O que é “armadilha malthusiana”. Como ela é capaz de\n",
    "descrever um ciclo de longo prazo na economia pré-\n",
    "industrial?"
   ]
  }
 ],
 "metadata": {
  "celltoolbar": "Slideshow",
  "kernelspec": {
   "display_name": "Python 3 (ipykernel)",
   "language": "python",
   "name": "python3"
  },
  "language_info": {
   "codemirror_mode": {
    "name": "ipython",
    "version": 3
   },
   "file_extension": ".py",
   "mimetype": "text/x-python",
   "name": "python",
   "nbconvert_exporter": "python",
   "pygments_lexer": "ipython3",
   "version": "3.8.19"
  },
  "toc": {
   "base_numbering": 1,
   "nav_menu": {},
   "number_sections": false,
   "sideBar": true,
   "skip_h1_title": false,
   "title_cell": "Table of Contents",
   "title_sidebar": "Contents",
   "toc_cell": false,
   "toc_position": {},
   "toc_section_display": true,
   "toc_window_display": false
  }
 },
 "nbformat": 4,
 "nbformat_minor": 4
}
