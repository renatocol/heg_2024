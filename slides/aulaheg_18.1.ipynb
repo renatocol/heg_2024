{
 "cells": [
  {
   "cell_type": "markdown",
   "metadata": {
    "editable": true,
    "nbpresent": {
     "id": "452305db-662c-4b4e-aa92-79d92fa4544d"
    },
    "slideshow": {
     "slide_type": "slide"
    },
    "tags": []
   },
   "source": [
    "## <center>História Econômica Geral - FEA-USP</center>\n",
    "\n",
    "### <center>Aula 18 - A II Guerra Mundial e o pós-guerra (parte 1)</center>\n",
    "\n",
    "#### <center>Renato Perim Colistete</center>\n",
    "\n",
    "\n",
    "#### <center>2024</center>"
   ]
  },
  {
   "cell_type": "markdown",
   "metadata": {
    "editable": true,
    "nbpresent": {
     "id": "1fc7160f-beb4-4997-9c3f-0553e0592605"
    },
    "slideshow": {
     "slide_type": "slide"
    },
    "tags": []
   },
   "source": [
    "## Objetivos\n",
    "\n",
    "Nesta aula estudaremos a mobilização e os resultados econômicos da II Guerra Mundial. Começamos com um breve histórico dos eventos que levaram à guerra.\n",
    "\n",
    "Em seguida, veremos dados econômicos e militares selecionados de Alemanha, Reino Unido, União Soviética e Estados Unidos.\n",
    "\n",
    "Ao final, avaliaremos rapidamente os possíveis determinantes do desfecho do conflito com a vitória dos Aliados."
   ]
  },
  {
   "cell_type": "markdown",
   "metadata": {
    "editable": true,
    "nbpresent": {
     "id": "1acbc207-c8bb-4376-a328-421bbf9520c4"
    },
    "slideshow": {
     "slide_type": "slide"
    },
    "tags": []
   },
   "source": [
    "## Contexto\n",
    "\n",
    "O contexto econômico do conflito mundial foi visto em aulas anteriores: o fim da I Guerra Mundial inaugurou um período de instabilidade econômica, baixo crescimento e vácuo de poder na ordem internacional. "
   ]
  },
  {
   "cell_type": "markdown",
   "metadata": {
    "editable": true,
    "nbpresent": {
     "id": "f3dfbdf9-fe1d-4356-9ad0-df395911e6f3"
    },
    "slideshow": {
     "slide_type": "fragment"
    },
    "tags": []
   },
   "source": [
    "Ao final da década de 1920, o *crash* da Bolsa de Nova York destruiu os limitados resultados positivos obtidos a partir de 1923/1925 e desencadeou o abismo da Grande Depressão."
   ]
  },
  {
   "cell_type": "markdown",
   "metadata": {
    "editable": true,
    "slideshow": {
     "slide_type": "fragment"
    },
    "tags": []
   },
   "source": [
    "Um outro aspecto importante que não vimos antes: a emergência dos movimentos fascistas e autoritários na Europa. Vejam o mapa a seguir para um resumo."
   ]
  },
  {
   "cell_type": "markdown",
   "metadata": {
    "editable": true,
    "jp-MarkdownHeadingCollapsed": true,
    "slideshow": {
     "slide_type": "subslide"
    },
    "tags": []
   },
   "source": [
    "#### <center></center>\n",
    "\n",
    "<center><img src=\"war_mapa_i.png\", width=400></center>"
   ]
  },
  {
   "cell_type": "markdown",
   "metadata": {
    "editable": true,
    "nbpresent": {
     "id": "1acbc207-c8bb-4376-a328-421bbf9520c4"
    },
    "slideshow": {
     "slide_type": "slide"
    },
    "tags": []
   },
   "source": [
    "## A expansão da Alemanha e a Guerra\n",
    "\n",
    "A Alemanha emergiu como o principal fator de instabilidade política nos anos 1930. Após reocupar a zona desmilitarizada da Renânia (1936), Hitler se fortaleceu e anexou a Áustria (mar/1938) e a região dos Sudetos (set/1938) da Checoslováquia."
   ]
  },
  {
   "cell_type": "markdown",
   "metadata": {
    "editable": true,
    "nbpresent": {
     "id": "f3dfbdf9-fe1d-4356-9ad0-df395911e6f3"
    },
    "slideshow": {
     "slide_type": "fragment"
    },
    "tags": []
   },
   "source": [
    "Outro personagem de um regime autoritário entrou em cena. Mussolini tornou-se mediador das demandas da Alemanha frente à Grã-Bretanha e França. Logo em seguida, o ditador fascista tornou-se aliado da Alemanha (maio/1939)."
   ]
  },
  {
   "cell_type": "markdown",
   "metadata": {
    "editable": true,
    "slideshow": {
     "slide_type": "fragment"
    },
    "tags": []
   },
   "source": [
    "Outro movimento crucial foi o Pacto Molotov-Ribbentrop (ou Hitler-Stalin) em ago/1939. O Protocolo Secreto definiu a divisão da Polônia e dos Balcãs entre Alemanha e URSS."
   ]
  },
  {
   "cell_type": "markdown",
   "metadata": {
    "editable": true,
    "slideshow": {
     "slide_type": "subslide"
    },
    "tags": []
   },
   "source": [
    "A Alemanha invadiu a Polônia em 1/9/1939; a URSS fez o mesmo dias depois, em 17/9/1939. Ver o mapa a seguir para os eventos imediatos com o início da II Guerra."
   ]
  },
  {
   "cell_type": "markdown",
   "metadata": {
    "editable": true,
    "slideshow": {
     "slide_type": "slide"
    },
    "tags": []
   },
   "source": [
    "#### <center></center>\n",
    "\n",
    "<center><img src=\"war_mapa_ii.png\", width=400></center>"
   ]
  },
  {
   "cell_type": "markdown",
   "metadata": {
    "editable": true,
    "nbpresent": {
     "id": "13c81a42-221c-45fd-bde2-343bbcc74678"
    },
    "slideshow": {
     "slide_type": "slide"
    },
    "tags": []
   },
   "source": [
    "## A preparação da Alemanha\n",
    "\n",
    "Ao contrário do que uma visão tradicional afirmava, a Alemanha iniciou sua preparação para a guerra já em 1936, com o Segundo Plano Quadrienal. O plano previa a guerra em 1945. Em 1938-9, as despesas militares alcançaram cerca de 19% do PIB."
   ]
  },
  {
   "cell_type": "markdown",
   "metadata": {
    "editable": true,
    "nbpresent": {
     "id": "69b2baa0-ed18-483e-8653-50f0e5c1d94f"
    },
    "slideshow": {
     "slide_type": "fragment"
    },
    "tags": []
   },
   "source": [
    "Da mesma forma, calcula-se que 2/3 do investimento industrial da Alemanha destinaram-se a projetos militares. "
   ]
  },
  {
   "cell_type": "markdown",
   "metadata": {
    "editable": true,
    "slideshow": {
     "slide_type": "fragment"
    },
    "tags": []
   },
   "source": [
    "Também antes do início do conflito, quase 30% da força de trabalho industrial estavam empregados em atividades relacionadas à guerra."
   ]
  },
  {
   "cell_type": "markdown",
   "metadata": {
    "editable": true,
    "nbpresent": {
     "id": "8b4f0472-cccb-4d13-abbd-187d93bc9309"
    },
    "slideshow": {
     "slide_type": "slide"
    },
    "tags": []
   },
   "source": [
    "## Alemanha na Guerra\n",
    "\n",
    "Com o início da guerra e a ocupação sucessiva de territórios na Europa, a Alemanha levou ao limite o uso de seus recursos humanos e físicos. "
   ]
  },
  {
   "cell_type": "markdown",
   "metadata": {
    "editable": true,
    "nbpresent": {
     "id": "794d2206-833d-419a-b3b9-b12875162c7e"
    },
    "slideshow": {
     "slide_type": "fragment"
    },
    "tags": []
   },
   "source": [
    "Uma das formas encontradas para dar suporte à expansão foi a exploração e extração de trabalho, matérias-primas e equipamentos dos países ocupados, nesse último caso financiados pelos próprios recursos desses países."
   ]
  },
  {
   "cell_type": "markdown",
   "metadata": {
    "editable": true,
    "slideshow": {
     "slide_type": "fragment"
    },
    "tags": []
   },
   "source": [
    "O sistema incluía desde puro confisco (sobretudo no Leste Europeu) a encomendas às empresas dos países ocupados. Uma estimativa é que 28,6% do custo com o esforço de guerra alemão resultaram da extração de recursos dos países ocupados."
   ]
  },
  {
   "cell_type": "markdown",
   "metadata": {
    "editable": true,
    "slideshow": {
     "slide_type": "slide"
    },
    "tags": []
   },
   "source": [
    "## A preparação no Reino Unido\n",
    "\n",
    "A preparação para a guerra no Reino Unido foi mais lenta do que na Alemanha, mas sua reação foi rápida. A despesa militar já foi de 15% do PNB em 1939 e alcançou 44% em 1940."
   ]
  },
  {
   "cell_type": "markdown",
   "metadata": {
    "editable": true,
    "slideshow": {
     "slide_type": "fragment"
    },
    "tags": []
   },
   "source": [
    "Diferentemente da Alemanha, a Grã-Bretanha contava com seu Império e os Domínios para mobilização de recursos humanos e matérias-primas essenciais, como carvão, petróleo e alimentos. O mesmo para a mobilização de soldados."
   ]
  },
  {
   "cell_type": "markdown",
   "metadata": {
    "editable": true,
    "slideshow": {
     "slide_type": "fragment"
    },
    "tags": []
   },
   "source": [
    "Tão ou mais importante foi o auxílio material dos Estados Unidos, sobretudo com o Lend-Lease (munições, equipamentos, matérias-primas e alimentos), com o primeiro assinado em mar/1941. "
   ]
  },
  {
   "cell_type": "markdown",
   "metadata": {
    "editable": true,
    "slideshow": {
     "slide_type": "subslide"
    },
    "tags": []
   },
   "source": [
    "Em 1944, estima-se que os recursos do Lend-Lease adicionaram 15% ao produto total do Reino Unido."
   ]
  },
  {
   "cell_type": "markdown",
   "metadata": {
    "editable": true,
    "slideshow": {
     "slide_type": "subslide"
    },
    "tags": []
   },
   "source": [
    "#### <center></center>\n",
    "\n",
    "<center><img src=\"war_tabela_iv.png\", width=300></center>"
   ]
  },
  {
   "cell_type": "markdown",
   "metadata": {
    "editable": true,
    "nbpresent": {
     "id": "1a43feb9-1cad-4162-a6ad-b16662fbb6a4"
    },
    "slideshow": {
     "slide_type": "slide"
    },
    "tags": []
   },
   "source": [
    "## Reino Unido na Guerra\n",
    "\n",
    "O crescimento da renda no Reino Unido foi rápido após o início da guerra, alcançando o máximo em 1943 - nível 27% acima do de 1938."
   ]
  },
  {
   "cell_type": "markdown",
   "metadata": {
    "editable": true,
    "slideshow": {
     "slide_type": "fragment"
    },
    "tags": []
   },
   "source": [
    "Por outro lado, o consumo das famílias teve uma queda substancial durante a guerra, de 78,8% in 1938 para 51,9% em 1943. Ou seja, os gastos governamentais cresceram em detrimento do consumo privado."
   ]
  },
  {
   "cell_type": "markdown",
   "metadata": {
    "editable": true,
    "slideshow": {
     "slide_type": "fragment"
    },
    "tags": []
   },
   "source": [
    "A produção militar cresceu de maneira sustentada e acelerada, como veremos adiante."
   ]
  },
  {
   "cell_type": "markdown",
   "metadata": {
    "editable": true,
    "slideshow": {
     "slide_type": "slide"
    },
    "tags": []
   },
   "source": [
    "## A preparação na URSS\n",
    "\n",
    "A União Soviética teve um crescimento substancial das despesas militares por toda a década de 1930, muito antes portanto de entrar no conflito. Simultaneamente, o país passou por uma rápida transição para a produção industrial em massa."
   ]
  },
  {
   "cell_type": "markdown",
   "metadata": {
    "editable": true,
    "nbpresent": {
     "id": "8dde182b-545e-464d-86aa-93633eb83d31"
    },
    "slideshow": {
     "slide_type": "fragment"
    },
    "tags": []
   },
   "source": [
    "Os investimentos maciços se concentraram na construção de fábricas, ferrovias e estradas de rodagem, boa parte voltadas à defesa."
   ]
  },
  {
   "cell_type": "markdown",
   "metadata": {
    "editable": true,
    "slideshow": {
     "slide_type": "fragment"
    },
    "tags": []
   },
   "source": [
    "Uma parte grande do trabalho utilizado nesses projetos foi de prisioneiros (considerados inimigos internos do regime) nos campos de trabalho forçado (Gulag), com algo em torno de 2 milhões de pessoas."
   ]
  },
  {
   "cell_type": "markdown",
   "metadata": {
    "editable": true,
    "slideshow": {
     "slide_type": "slide"
    },
    "tags": []
   },
   "source": [
    "## A URSS na Guerra\n",
    "\n",
    "No ano inicial da guerra, a URSS só perdia para a Alemanha em número de aviões militares - mais de 2 vezes do que Reino Unido e bem mais de 3 vezes do que os Estados Unidos (ver abaixo)."
   ]
  },
  {
   "cell_type": "markdown",
   "metadata": {
    "editable": true,
    "slideshow": {
     "slide_type": "fragment"
    },
    "tags": []
   },
   "source": [
    "Durante a vigência do Pacto Hitler-Stalin (até jun/1940), a URSS beneficiou-se do comércio com a Alemanha, recebendo aço, carvão e tecnologia em troca de petróleo e cereais."
   ]
  },
  {
   "cell_type": "markdown",
   "metadata": {
    "editable": true,
    "slideshow": {
     "slide_type": "fragment"
    },
    "tags": []
   },
   "source": [
    "Posteriormente, após a invasão alemã, a URSS tornou-se o 2o maior receptor de recursos do Lend-Lease, ficando atrás apenas do Reino Unido (primeiro acordo em nov/1941)."
   ]
  },
  {
   "cell_type": "markdown",
   "metadata": {
    "editable": true,
    "slideshow": {
     "slide_type": "subslide"
    },
    "tags": []
   },
   "source": [
    "Total do Lend-Lease até 1945: Grã-Bretanha = 66,8%; URSS = 23,2%. Brasil foi o 5o maior beneficiado (0,8%), após França e China."
   ]
  },
  {
   "cell_type": "markdown",
   "metadata": {
    "editable": true,
    "slideshow": {
     "slide_type": "slide"
    },
    "tags": []
   },
   "source": [
    "#### <center></center>\n",
    "\n",
    "<center><img src=\"war_tabela_i.png\", width=500></center>"
   ]
  },
  {
   "cell_type": "markdown",
   "metadata": {
    "editable": true,
    "slideshow": {
     "slide_type": "subslide"
    },
    "tags": []
   },
   "source": [
    "#### <center>Lend-Lease para a União Soviética - exemplo</center>\n",
    "\n",
    "<center><img src=\"war_figura_i.png\", width=300></center>"
   ]
  },
  {
   "cell_type": "markdown",
   "metadata": {
    "editable": true,
    "slideshow": {
     "slide_type": "slide"
    },
    "tags": []
   },
   "source": [
    "## A preparação nos Estados Unidos\n",
    "\n",
    "Contrariamente aos países europeus, os Estados Unidos possuíam baixos níveis relativos de gastos e estoques de equipamentos militares quando a guerra eclodiu."
   ]
  },
  {
   "cell_type": "markdown",
   "metadata": {
    "editable": true,
    "slideshow": {
     "slide_type": "fragment"
    },
    "tags": []
   },
   "source": [
    "A mobilização para a guerra foi imediata, porém, após a ataque a Pearl Harbor. O gasto com defesa foi 1,4% em 1940 e atingiu mais de 37% do PIB em 1945."
   ]
  },
  {
   "cell_type": "markdown",
   "metadata": {
    "editable": true,
    "slideshow": {
     "slide_type": "fragment"
    },
    "tags": []
   },
   "source": [
    "A produção militar, que era inferior à dos países europeus no caso da aviação p.ex., deu um salto com a mobilização total ocorrida a partir de 1942. "
   ]
  },
  {
   "cell_type": "markdown",
   "metadata": {
    "editable": true,
    "slideshow": {
     "slide_type": "slide"
    },
    "tags": []
   },
   "source": [
    "## Os Estados Unidos na Guerra\n",
    "\n",
    "A renda per capita dos Estados Unidos chegou a quase 70% do nível de 1940 durante a guerra (pico)."
   ]
  },
  {
   "cell_type": "markdown",
   "metadata": {
    "editable": true,
    "slideshow": {
     "slide_type": "fragment"
    },
    "tags": []
   },
   "source": [
    "Ainda assim, tal como em outros países, o consumo das famílias ficou estagnado ou possivelmente caiu durante a guerra."
   ]
  },
  {
   "cell_type": "markdown",
   "metadata": {
    "editable": true,
    "slideshow": {
     "slide_type": "fragment"
    },
    "tags": []
   },
   "source": [
    "A mobilização de guerra também representou impostos substancialmente mais elevados, aumento de horas trabalhadas, menores salários e racionamento de produtos."
   ]
  },
  {
   "cell_type": "markdown",
   "metadata": {
    "editable": true,
    "slideshow": {
     "slide_type": "subslide"
    },
    "tags": []
   },
   "source": [
    "A produção industrial foi redirecionada para o esforço de guerra, levando praticamente à paralisação da produção de bens de consumo, habitação civil e outros bens em favor da produção militar."
   ]
  },
  {
   "cell_type": "markdown",
   "metadata": {
    "editable": true,
    "slideshow": {
     "slide_type": "slide"
    },
    "tags": []
   },
   "source": [
    "## A Guerra e os países\n",
    "\n",
    "Em 1940-1941, com as sucessivas vitórias (exceto na Inglaterra), a Alemanha pareceu ter estabilizado sua posição na Europa."
   ]
  },
  {
   "cell_type": "markdown",
   "metadata": {
    "editable": true,
    "slideshow": {
     "slide_type": "fragment"
    },
    "tags": []
   },
   "source": [
    "Mesmo com a entrada dos Estados Unidos na guerra, a atuação dos U-Boats ainda dominava (temporariamente) os mares na época, interferindo no transporte de longo curso da marinha mercante e ameaçando posições militares."
   ]
  },
  {
   "cell_type": "markdown",
   "metadata": {
    "editable": true,
    "slideshow": {
     "slide_type": "fragment"
    },
    "tags": []
   },
   "source": [
    "Como ilustração, de janeiro a junho de 1942, 492 navios foram afundados por U-Boats na costa leste dos Estados Unidos. Ver os mapas a seguir:"
   ]
  },
  {
   "cell_type": "markdown",
   "metadata": {
    "editable": true,
    "slideshow": {
     "slide_type": "slide"
    },
    "tags": []
   },
   "source": [
    "#### <center></center>\n",
    "\n",
    "<center><img src=\"war_mapa_iii.png\", width=400></center>"
   ]
  },
  {
   "cell_type": "markdown",
   "metadata": {
    "editable": true,
    "slideshow": {
     "slide_type": "subslide"
    },
    "tags": []
   },
   "source": [
    "#### <center></center>\n",
    "\n",
    "<center><img src=\"war_mapa_iv.png\", width=400></center>"
   ]
  },
  {
   "cell_type": "markdown",
   "metadata": {
    "editable": true,
    "slideshow": {
     "slide_type": "slide"
    },
    "tags": []
   },
   "source": [
    "## Interpretações do conflito militar\n",
    "\n",
    "Se a Alemanha alcançou uma posição de domínio aparentemente sólida na Europa por volta de 1940-41 (e o Japão no Pacífico), o que levou à derrota militar do Eixo 4-5 anos depois?"
   ]
  },
  {
   "cell_type": "markdown",
   "metadata": {
    "editable": true,
    "slideshow": {
     "slide_type": "fragment"
    },
    "tags": []
   },
   "source": [
    "Há várias explicações para a vitória militar dos Aliados. Tratamos de duas aqui:"
   ]
  },
  {
   "cell_type": "markdown",
   "metadata": {
    "editable": true,
    "slideshow": {
     "slide_type": "fragment"
    },
    "tags": []
   },
   "source": [
    "a) os Nazistas foram derrotados principalmente pelo Exército Vermelho a partir da decisão de invadir a URSS em 22/6/1941 (Operação Barbarossa). Portanto, uma derrota no campo de batalha, pelo combate direto dos exércitos dos dois países;"
   ]
  },
  {
   "cell_type": "markdown",
   "metadata": {
    "editable": true,
    "slideshow": {
     "slide_type": "subslide"
    },
    "tags": []
   },
   "source": [
    "b) os Nazistas foram derrotados militarmente sobretudo pela superioridade do poder aéreo e naval dos Aliados (O'Brien)."
   ]
  },
  {
   "cell_type": "markdown",
   "metadata": {
    "editable": true,
    "slideshow": {
     "slide_type": "slide"
    },
    "tags": []
   },
   "source": [
    "## Equipamentos e estratégia\n",
    "\n",
    "A interpretação da importância do poder aéreo-naval dos Aliados se baseia em três dimensões da capacidade e estratégia militar:"
   ]
  },
  {
   "cell_type": "markdown",
   "metadata": {
    "editable": true,
    "slideshow": {
     "slide_type": "fragment"
    },
    "tags": []
   },
   "source": [
    "i) destruição pré-produção: isto é, os ataques aéreos e navais à rede de abastecimento de matérias-primas (tais como carvão, combustível e aço), resultando em produção militar em larga escala abaixo do potencial de Alemanha e Japão;"
   ]
  },
  {
   "cell_type": "markdown",
   "metadata": {
    "editable": true,
    "slideshow": {
     "slide_type": "fragment"
    },
    "tags": []
   },
   "source": [
    "ii) destruição da capacidade de produção: ataques às fabricas e instalações de munições e equipamentos militares."
   ]
  },
  {
   "cell_type": "markdown",
   "metadata": {
    "editable": true,
    "slideshow": {
     "slide_type": "subslide"
    },
    "tags": []
   },
   "source": [
    "iii) anulação do emprego dos equipamentos e insumos militares: ataques aéreos e navais dos Aliados comprometeram o emprego efetivo de equipamentos produzidos em diferentes territórios (geralmente distantes) do cenário de guerra."
   ]
  },
  {
   "cell_type": "markdown",
   "metadata": {
    "editable": true,
    "slideshow": {
     "slide_type": "subslide"
    },
    "tags": []
   },
   "source": [
    "## Capacidade industrial\n",
    "\n",
    "Estratégia determinou mas também dependeu da capacidade industrial de produção de matérias-primas e armamentos, além da logística da sustentação das frentes de batalha. "
   ]
  },
  {
   "cell_type": "markdown",
   "metadata": {
    "editable": true,
    "slideshow": {
     "slide_type": "fragment"
    },
    "tags": []
   },
   "source": [
    "Tanto o Reino Unido, quanto URSS e Estados Unidos foram capazes de aumentar de forma sustentada e acelerada a produção militar a partir de 1942, em particular. Lend-Lease parece ter sido crucial."
   ]
  },
  {
   "cell_type": "markdown",
   "metadata": {
    "editable": true,
    "slideshow": {
     "slide_type": "fragment"
    },
    "tags": []
   },
   "source": [
    "Mas apesar de excepcional, a produção militar não foi infinita e Aliados passaram a priorizar a produção de navios e aviões (em relação a veículos blindados e tanques), devido à sua importância estratégica citada acima. Ver os dados a seguir."
   ]
  },
  {
   "cell_type": "markdown",
   "metadata": {
    "editable": true,
    "slideshow": {
     "slide_type": "slide"
    },
    "tags": []
   },
   "source": [
    "#### <center></center>\n",
    "\n",
    "<center><img src=\"war_tabela_ii.png\", width=500></center>"
   ]
  },
  {
   "cell_type": "markdown",
   "metadata": {
    "editable": true,
    "slideshow": {
     "slide_type": "slide"
    },
    "tags": []
   },
   "source": [
    "## Matéria-prima e capacidade industrial\n",
    "\n",
    "Por outro lado, o acesso às matérias-primas foi central para concretizar a capacidade de produção industrial."
   ]
  },
  {
   "cell_type": "markdown",
   "metadata": {
    "editable": true,
    "slideshow": {
     "slide_type": "fragment"
    },
    "tags": []
   },
   "source": [
    "Alemanha e Japão sofreram restrições crescentes de abastecimento dessas matérias-primas. Por exemplo, bauxita para a produção de alumínio, crucial para a produção de aviões."
   ]
  },
  {
   "cell_type": "markdown",
   "metadata": {
    "editable": true,
    "slideshow": {
     "slide_type": "fragment"
    },
    "tags": []
   },
   "source": [
    "De sua parte, a produção de aviões da URSS cresceu de maneira substancial. Contudo, o aumento só foi viabilizado pela transferência de alumínio dos Estados Unidos via Lend-Lease, pois a URSS era escassa em bauxita."
   ]
  },
  {
   "cell_type": "markdown",
   "metadata": {
    "editable": true,
    "slideshow": {
     "slide_type": "subslide"
    },
    "tags": []
   },
   "source": [
    "Além da quantidade, tecnologia e treinamento contaram decisivamente. Tanto a aviação soviética quanto, em menor grau, a Luftwaffe mostraram-se inferiores em qualidade (medida por taxas de perdas em combate)."
   ]
  },
  {
   "cell_type": "markdown",
   "metadata": {
    "editable": true,
    "slideshow": {
     "slide_type": "subslide"
    },
    "tags": []
   },
   "source": [
    "#### <center></center>\n",
    "\n",
    "<center><img src=\"war_tabela_iii.png\", width=500></center>"
   ]
  },
  {
   "cell_type": "markdown",
   "metadata": {
    "editable": true,
    "slideshow": {
     "slide_type": "slide"
    },
    "tags": []
   },
   "source": [
    "## Devastação\n",
    "\n",
    "Por fim, vejam a seguir uma estimativa do número de vítimas militares e civis na Europa, por regiões."
   ]
  },
  {
   "cell_type": "markdown",
   "metadata": {
    "editable": true,
    "slideshow": {
     "slide_type": "fragment"
    },
    "tags": []
   },
   "source": [
    "#### <center></center>\n",
    "\n",
    "<center><img src=\"war_tabela_v.png\", width=500></center>"
   ]
  },
  {
   "cell_type": "markdown",
   "metadata": {
    "editable": true,
    "slideshow": {
     "slide_type": "slide"
    },
    "tags": []
   },
   "source": [
    "### Questões\n",
    "\n",
    "O que distinguiu a preparação econômica e militar para a guerra entre os países que entraram no conflito a partir de 1939? \n",
    "\n",
    "Compare os resultados da mobilização de guerra dos países durante o conflito. Houve beneficiados ou só perdedores?\n",
    "\n",
    "Discuta possíveis hipóteses sobre a derrota dos países do Eixo e as compare. Qual parece a mais plausível?"
   ]
  }
 ],
 "metadata": {
  "celltoolbar": "Slideshow",
  "kernelspec": {
   "display_name": "Python 3 (ipykernel)",
   "language": "python",
   "name": "python3"
  },
  "language_info": {
   "codemirror_mode": {
    "name": "ipython",
    "version": 3
   },
   "file_extension": ".py",
   "mimetype": "text/x-python",
   "name": "python",
   "nbconvert_exporter": "python",
   "pygments_lexer": "ipython3",
   "version": "3.8.20"
  },
  "rise": {
   "autolaunch": true
  },
  "toc": {
   "base_numbering": 1,
   "nav_menu": {},
   "number_sections": false,
   "sideBar": true,
   "skip_h1_title": false,
   "title_cell": "Table of Contents",
   "title_sidebar": "Contents",
   "toc_cell": false,
   "toc_position": {},
   "toc_section_display": true,
   "toc_window_display": false
  }
 },
 "nbformat": 4,
 "nbformat_minor": 4
}
