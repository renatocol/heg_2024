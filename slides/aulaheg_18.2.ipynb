{
 "cells": [
  {
   "cell_type": "markdown",
   "metadata": {
    "editable": true,
    "nbpresent": {
     "id": "452305db-662c-4b4e-aa92-79d92fa4544d"
    },
    "slideshow": {
     "slide_type": "slide"
    },
    "tags": []
   },
   "source": [
    "## <center>História Econômica Geral - FEA-USP</center>\n",
    "\n",
    "### <center>Aula 18 - A II Guerra Mundial e o pós-guerra (parte 2)</center>\n",
    "\n",
    "#### <center>Renato Perim Colistete</center>\n",
    "\n",
    "\n",
    "#### <center>2024</center>"
   ]
  },
  {
   "cell_type": "markdown",
   "metadata": {
    "editable": true,
    "nbpresent": {
     "id": "1fc7160f-beb4-4997-9c3f-0553e0592605"
    },
    "slideshow": {
     "slide_type": "slide"
    },
    "tags": []
   },
   "source": [
    "## Objetivos\n",
    "\n",
    "Nesta aula abordaremos o período de crescimento econômico excepcional após a II Guerra - a \"Idade de Ouro\" do capitalismo moderno.\n",
    "\n",
    "Inicialmente, veremos os dados básicos e as características do crescimento de países europeus, Estados Unidos e Japão.\n",
    "\n",
    "No final, comentamos algumas interpretações sobre as causas do crescimento do período."
   ]
  },
  {
   "cell_type": "markdown",
   "metadata": {
    "editable": true,
    "nbpresent": {
     "id": "1acbc207-c8bb-4376-a328-421bbf9520c4"
    },
    "slideshow": {
     "slide_type": "slide"
    },
    "tags": []
   },
   "source": [
    "## A Idade Dourada do crescimento\n",
    "\n",
    "Considerando os séculos XIX e XX em conjunto, o período 1950-1973 destaca-se como o de mais rápido crescimento econômico já registrado.\n"
   ]
  },
  {
   "cell_type": "markdown",
   "metadata": {
    "editable": true,
    "nbpresent": {
     "id": "f3dfbdf9-fe1d-4356-9ad0-df395911e6f3"
    },
    "slideshow": {
     "slide_type": "fragment"
    },
    "tags": []
   },
   "source": [
    "Entre as economias capitalistas avançadas, o crescimento do PIB alcançou cerca de 5% ao ano, com o PIB per capita chegando a 3,8% a.a."
   ]
  },
  {
   "cell_type": "markdown",
   "metadata": {
    "editable": true,
    "slideshow": {
     "slide_type": "fragment"
    },
    "tags": []
   },
   "source": [
    "A tabela a seguir mostra o desempenho das economias europeias antes e depois da II Guerra, inclusive após 1973."
   ]
  },
  {
   "cell_type": "markdown",
   "metadata": {
    "editable": true,
    "jp-MarkdownHeadingCollapsed": true,
    "slideshow": {
     "slide_type": "subslide"
    },
    "tags": []
   },
   "source": [
    "#### <center></center>\n",
    "\n",
    "<center><img src=\"post_war_growth1.png\", width=700></center>"
   ]
  },
  {
   "cell_type": "markdown",
   "metadata": {
    "editable": true,
    "nbpresent": {
     "id": "1acbc207-c8bb-4376-a328-421bbf9520c4"
    },
    "slideshow": {
     "slide_type": "slide"
    },
    "tags": []
   },
   "source": [
    "## Recuperação \n",
    "\n",
    "A recuperação europeia e japonesa após o fim da II Guerra foi rápida - por volta de 1950 o crescimento já havia claramente retomado no conjunto dessas economias. "
   ]
  },
  {
   "cell_type": "markdown",
   "metadata": {
    "editable": true,
    "nbpresent": {
     "id": "f3dfbdf9-fe1d-4356-9ad0-df395911e6f3"
    },
    "slideshow": {
     "slide_type": "fragment"
    },
    "tags": []
   },
   "source": [
    "Esse resultado é particularmente notável dada a devastação causada pela guerra. O PIB da França, Holanda, Áustria, Alemanha e Itália em 1945 tinha retrocedido a níveis do final do século XIX ou início do século XX."
   ]
  },
  {
   "cell_type": "markdown",
   "metadata": {
    "editable": true,
    "slideshow": {
     "slide_type": "fragment"
    },
    "tags": []
   },
   "source": [
    "Bélgica, Finlândia, Dinamarca e Noruega tiveram recuo no seu PIB ao nível do imediato pré-guerra, aproximadamente. "
   ]
  },
  {
   "cell_type": "markdown",
   "metadata": {
    "editable": true,
    "slideshow": {
     "slide_type": "subslide"
    },
    "tags": []
   },
   "source": [
    "Já Reino Unido e países neutros (Suíça e Suécia) chegaram em 1945 com níveis mais elevados do PIB em relação aos anos anteriores. Ver tabela abaixo."
   ]
  },
  {
   "cell_type": "markdown",
   "metadata": {
    "editable": true,
    "slideshow": {
     "slide_type": "slide"
    },
    "tags": []
   },
   "source": [
    "#### <center></center>\n",
    "\n",
    "<center><img src=\"post_war_growth2.png\", width=700></center>"
   ]
  },
  {
   "cell_type": "markdown",
   "metadata": {
    "editable": true,
    "nbpresent": {
     "id": "13c81a42-221c-45fd-bde2-343bbcc74678"
    },
    "slideshow": {
     "slide_type": "slide"
    },
    "tags": []
   },
   "source": [
    "## Após 1950\n",
    "\n",
    "As diferenças do crescimento também foram nítidas após 1950. Na Europa, a Alemanha viveu um \"milagre\" econômico (5,99% a.a. entre 1950-1973, contra 1,06% a.a. em 1913-1950), seguida da França (5.02% a.a., contra 1,15% a.a.). "
   ]
  },
  {
   "cell_type": "markdown",
   "metadata": {
    "editable": true,
    "nbpresent": {
     "id": "69b2baa0-ed18-483e-8653-50f0e5c1d94f"
    },
    "slideshow": {
     "slide_type": "fragment"
    },
    "tags": []
   },
   "source": [
    "O pior desempenho entre as grandes economias foi o do Reino Unido: 1,59% a.a. em 1950-1973, em comparação a 2,96% a.a. entre 1913 e 1950.   "
   ]
  },
  {
   "cell_type": "markdown",
   "metadata": {
    "editable": true,
    "slideshow": {
     "slide_type": "fragment"
    },
    "tags": []
   },
   "source": [
    "Japão foi outro caso notável de recuperação, com 9,25% a.a. de crescimento do PIB entre 1950 e 1973, comparados a 2,24% em 1913-1950."
   ]
  },
  {
   "cell_type": "markdown",
   "metadata": {
    "editable": true,
    "slideshow": {
     "slide_type": "subslide"
    },
    "tags": []
   },
   "source": [
    "Os Estados Unidos, emergindo como a economia absolutamente dominante após a II Guerra, cresceu em média 3,92% a.a. entre 1950-1973 (2,84% a.a. em 1913-1950), um resultado também impressionante dado o nível de desenvolvimento que possuía. "
   ]
  },
  {
   "cell_type": "markdown",
   "metadata": {
    "editable": true,
    "nbpresent": {
     "id": "8b4f0472-cccb-4d13-abbd-187d93bc9309"
    },
    "slideshow": {
     "slide_type": "slide"
    },
    "tags": []
   },
   "source": [
    "## Outros resultados\n",
    "\n",
    "Além da rápida recuperação e do crescimento acelerado, outras características marcaram o período. Países com menor nível de renda per capita cresceram mais rapidamente do que a média do conjunto dos países europeus. "
   ]
  },
  {
   "cell_type": "markdown",
   "metadata": {
    "editable": true,
    "nbpresent": {
     "id": "794d2206-833d-419a-b3b9-b12875162c7e"
    },
    "slideshow": {
     "slide_type": "fragment"
    },
    "tags": []
   },
   "source": [
    "Mais um fato importante foi a redução da dispersão dos níveis de renda entre os países europeus (incluindo sul da Europa)."
   ]
  },
  {
   "cell_type": "markdown",
   "metadata": {
    "editable": true,
    "slideshow": {
     "slide_type": "fragment"
    },
    "tags": []
   },
   "source": [
    "Outro resultado foi a taxa média de desemprego excepcionalmente baixa por todo o período até 1973, um desempenho inteiramente diferente do que ocorreu no Entre-Guerras, como vimos."
   ]
  },
  {
   "cell_type": "markdown",
   "metadata": {
    "editable": true,
    "slideshow": {
     "slide_type": "slide"
    },
    "tags": []
   },
   "source": [
    "## Desaceleração pós-1973\n",
    "\n",
    "A primeira tabela reproduzida acima mostra a inflexão no crescimento econômico após 1973. Nos países europeus, o PIB cresceu 2,0% a.a. em média até 1992. Esse foi o fim da Idade de Ouro do pós-II Guerra."
   ]
  },
  {
   "cell_type": "markdown",
   "metadata": {
    "editable": true,
    "slideshow": {
     "slide_type": "fragment"
    },
    "tags": []
   },
   "source": [
    "Choques de oferta e demanda combinaram-se para produzir baixo crescimento, crises monetárias e mudanças institucionais a partir sobretudo de 1980."
   ]
  },
  {
   "cell_type": "markdown",
   "metadata": {
    "editable": true,
    "slideshow": {
     "slide_type": "fragment"
    },
    "tags": []
   },
   "source": [
    "Igualmente contrastando com o período anterior, as taxas de desemprego subiram, triplicando na média europeia. "
   ]
  },
  {
   "cell_type": "markdown",
   "metadata": {
    "editable": true,
    "nbpresent": {
     "id": "1a43feb9-1cad-4162-a6ad-b16662fbb6a4"
    },
    "slideshow": {
     "slide_type": "slide"
    },
    "tags": []
   },
   "source": [
    "## Produtividade\n",
    "\n",
    "Outro fator distintivo do período 1950-1973 foi o crescimento sustentado da produtividade do trabalho. O número de trabalhadores cresceu menos que o produto, sugerindo que em grande parte o crescimento do produto deveu-se ao aumento da produtividade."
   ]
  },
  {
   "cell_type": "markdown",
   "metadata": {
    "editable": true,
    "slideshow": {
     "slide_type": "fragment"
    },
    "tags": []
   },
   "source": [
    "Da mesma forma, o número de horas trabalhadas chegou a cair nos anos 1950 (média de -0,3% a.a.) e 1960 (-0,8% a.a.) na Europa."
   ]
  },
  {
   "cell_type": "markdown",
   "metadata": {
    "editable": true,
    "slideshow": {
     "slide_type": "fragment"
    },
    "tags": []
   },
   "source": [
    "Duas possíveis causas imediatas do aumento da produtividade: a) investimentos em capital físico e humano que incorporaram novas tecnologias; b) mudanças organizacionais e das instituições do mercado de trabalho. Ver figura."
   ]
  },
  {
   "cell_type": "markdown",
   "metadata": {
    "editable": true,
    "slideshow": {
     "slide_type": "subslide"
    },
    "tags": []
   },
   "source": [
    "#### <center></center>\n",
    "\n",
    "<center><img src=\"post_war_prody.png\", width=700></center>"
   ]
  },
  {
   "cell_type": "markdown",
   "metadata": {
    "editable": true,
    "slideshow": {
     "slide_type": "slide"
    },
    "tags": []
   },
   "source": [
    "## Interpretações\n",
    "\n",
    "Diversas interpretações têm sido sugeridas para explicar a Idade de Ouro do crescimento do pós-II Guerra. Exemplos:"
   ]
  },
  {
   "cell_type": "markdown",
   "metadata": {
    "editable": true,
    "nbpresent": {
     "id": "8dde182b-545e-464d-86aa-93633eb83d31"
    },
    "slideshow": {
     "slide_type": "fragment"
    },
    "tags": []
   },
   "source": [
    "a) o alto crescimento dos investimentos em capital físico, induzido por lucratividade alta e expansão da demanda; "
   ]
  },
  {
   "cell_type": "markdown",
   "metadata": {
    "editable": true,
    "slideshow": {
     "slide_type": "fragment"
    },
    "tags": []
   },
   "source": [
    "b) a destruição de grupos de interesse poderosos estabelecidos no Entre-Guerras, que restringiam a adoção de novas tecnologias e competitividade; "
   ]
  },
  {
   "cell_type": "markdown",
   "metadata": {
    "editable": true,
    "slideshow": {
     "slide_type": "subslide"
    },
    "tags": []
   },
   "source": [
    "c) o papel estabilizador da demanda agregada exercido pelas políticas fiscais dos governos nacionais - o \"consenso keynesiano\";"
   ]
  },
  {
   "cell_type": "markdown",
   "metadata": {
    "editable": true,
    "slideshow": {
     "slide_type": "fragment"
    },
    "tags": []
   },
   "source": [
    "d) papel da oferta abundante de trabalho via transferência do setor agrícola ou aumento da taxa de participação da força de trabalho;"
   ]
  },
  {
   "cell_type": "markdown",
   "metadata": {
    "editable": true,
    "slideshow": {
     "slide_type": "slide"
    },
    "tags": []
   },
   "source": [
    "## Pacto de crescimento\n",
    "\n",
    "Outro aspecto central do período 1950-1973 ocorreu na esfera institucional e social na Europa, o que Barry Eichengreen e Charles Maier chamaram de um \"pacto de crescimento\"."
   ]
  },
  {
   "cell_type": "markdown",
   "metadata": {
    "editable": true,
    "slideshow": {
     "slide_type": "fragment"
    },
    "tags": []
   },
   "source": [
    "Novas instituições do mercado de trabalho, envolvendo empresas, sindicatos e governos, atuaram em favor do aumento da produtividade do trabalho em troca de aumentos equivalentes dos salários (salário-produto). Ver a figura anterior."
   ]
  },
  {
   "cell_type": "markdown",
   "metadata": {
    "editable": true,
    "slideshow": {
     "slide_type": "fragment"
    },
    "tags": []
   },
   "source": [
    "Sindicatos e partidos de base operária moderaram suas demandas salariais em troca de aumentos que acompanhavam o crescimento da produtividade, elevando a renda real do trabalho sem entrar em conflito com lucros."
   ]
  },
  {
   "cell_type": "markdown",
   "metadata": {
    "editable": true,
    "slideshow": {
     "slide_type": "subslide"
    },
    "tags": []
   },
   "source": [
    "Essa também seria, assim, uma interpretação para o período 1950-1973: elevados investimentos das empresas, alta produtividade e moderação salarial, contribuindo para alto crescimento econômico e da renda."
   ]
  },
  {
   "cell_type": "markdown",
   "metadata": {
    "editable": true,
    "slideshow": {
     "slide_type": "slide"
    },
    "tags": []
   },
   "source": [
    "### Por fim... espero que o curso tenha sido interessante e relevante para vocês..."
   ]
  },
  {
   "cell_type": "markdown",
   "metadata": {
    "editable": true,
    "slideshow": {
     "slide_type": "fragment"
    },
    "tags": []
   },
   "source": [
    "## <center>Obrigado e boa sorte!</center>"
   ]
  },
  {
   "cell_type": "markdown",
   "metadata": {
    "editable": true,
    "slideshow": {
     "slide_type": "slide"
    },
    "tags": []
   },
   "source": [
    "### Questões\n",
    "\n",
    "Descreva as principais tendências do crescimento na Europa após a II Guerra. Quais foram as trajetórias principais dos países entre 1945 e 1973? \n",
    "\n",
    "Quais foram os resultados principais no âmbito do mercado de trabalho e na produtividade no período?\n",
    "\n",
    "Discuta a tese de \"pacto de crescimento\" como um possível fator que contribuiu para o crescimento acelerado do pós-guerra."
   ]
  }
 ],
 "metadata": {
  "celltoolbar": "Slideshow",
  "kernelspec": {
   "display_name": "Python 3 (ipykernel)",
   "language": "python",
   "name": "python3"
  },
  "language_info": {
   "codemirror_mode": {
    "name": "ipython",
    "version": 3
   },
   "file_extension": ".py",
   "mimetype": "text/x-python",
   "name": "python",
   "nbconvert_exporter": "python",
   "pygments_lexer": "ipython3",
   "version": "3.8.20"
  },
  "rise": {
   "autolaunch": true
  },
  "toc": {
   "base_numbering": 1,
   "nav_menu": {},
   "number_sections": false,
   "sideBar": true,
   "skip_h1_title": false,
   "title_cell": "Table of Contents",
   "title_sidebar": "Contents",
   "toc_cell": false,
   "toc_position": {},
   "toc_section_display": true,
   "toc_window_display": false
  }
 },
 "nbformat": 4,
 "nbformat_minor": 4
}
