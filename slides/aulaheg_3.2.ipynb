{
 "cells": [
  {
   "cell_type": "markdown",
   "metadata": {
    "editable": true,
    "slideshow": {
     "slide_type": "slide"
    },
    "tags": []
   },
   "source": [
    "## <center>História Econômica Geral - FEA-USP</center>\n",
    "\n",
    "### <center>Aula 3 - Teorias e Interpretações (parte 2)</center>\n",
    "\n",
    "#### <center>Renato Perim Colistete</center>\n",
    "\n",
    "\n",
    "#### <center>2024</center>"
   ]
  },
  {
   "cell_type": "markdown",
   "metadata": {
    "slideshow": {
     "slide_type": "slide"
    }
   },
   "source": [
    " ## Objetivos\n",
    "\n",
    "Nesta aula apresentaremos mais uma teoria sobre a\n",
    "economia pré-industrial e a emergência do capitalismo: a\n",
    "interpretação institucionalista de Douglass North e Robert\n",
    "Thomas.\n",
    "\n",
    "Na próxima semana trataremos da abordagem marxista\n",
    "de Robert Brenner.\n",
    "\n",
    "Ambas teorias serão utilizadas nas aulas seguintes, ao\n",
    "lado da abordagem malthusiana."
   ]
  },
  {
   "cell_type": "markdown",
   "metadata": {
    "slideshow": {
     "slide_type": "slide"
    }
   },
   "source": [
    "## Inovações institucionais\n",
    "\n",
    "A interpretação de North e Thomas (1970) é representativa da\n",
    "abordagem institucionalista recente sobre o desenvolvimento\n",
    "econômico."
   ]
  },
  {
   "cell_type": "markdown",
   "metadata": {
    "slideshow": {
     "slide_type": "fragment"
    }
   },
   "source": [
    "Os autores tomam como ponto de partida o modelo\n",
    "malthusiano tradicional, mas identificam propriedades internas\n",
    "à economia pré-industrial que levaram à sua transformação."
   ]
  },
  {
   "cell_type": "markdown",
   "metadata": {
    "slideshow": {
     "slide_type": "fragment"
    }
   },
   "source": [
    "Segundo North e Thomas, a transformação da economia pré-industrial resultou de inovações institucionais que romperam o\n",
    "equilíbrio malthusiano. Veremos como a seguir."
   ]
  },
  {
   "cell_type": "markdown",
   "metadata": {
    "slideshow": {
     "slide_type": "slide"
    }
   },
   "source": [
    "## Instituições\n",
    "\n",
    "O conceito básico formulado por North e Thomas é o de\n",
    "“instituições”."
   ]
  },
  {
   "cell_type": "markdown",
   "metadata": {
    "slideshow": {
     "slide_type": "fragment"
    }
   },
   "source": [
    "Definição: “*um arranjo entre unidades econômicas que define\n",
    "e especifica as formas com que essas unidades podem\n",
    "cooperar ou competir*” – ou simplesmente “*regras do jogo*”, formais e informais, como North iria definir posteriormente."
   ]
  },
  {
   "cell_type": "markdown",
   "metadata": {
    "slideshow": {
     "slide_type": "fragment"
    }
   },
   "source": [
    "Instituições “*canalizam o comportamento dos indivíduos\n",
    "dentro do sistema, e assim determinam se o resultado\n",
    "agregado será crescimento econômico, estagnação ou\n",
    "declínio*”."
   ]
  },
  {
   "cell_type": "markdown",
   "metadata": {
    "slideshow": {
     "slide_type": "subslide"
    }
   },
   "source": [
    "Novas instituições são criadas quando os benefícios\n",
    "esperados com a mudança são maiores que os custos\n",
    "estimados (pelo menos é um requisito)."
   ]
  },
  {
   "cell_type": "markdown",
   "metadata": {
    "slideshow": {
     "slide_type": "slide"
    }
   },
   "source": [
    "## Organizações\n",
    "\n",
    "Outro conceito-chave é o de *organização*: um grupo de\n",
    "indivíduos que, possuindo objetivos comuns, reúnem-se sob\n",
    "um conjunto de regras que governam seu comportamento."
   ]
  },
  {
   "cell_type": "markdown",
   "metadata": {
    "slideshow": {
     "slide_type": "fragment"
    }
   },
   "source": [
    "Continuando com a analogia de um jogo, organizações são entendidas como jogadores que atuam sob as regras do jogo de uma sociedade. "
   ]
  },
  {
   "cell_type": "markdown",
   "metadata": {
    "slideshow": {
     "slide_type": "fragment"
    }
   },
   "source": [
    "Organizações desse tipo são voluntárias, o que pressupõe o direito de um membro retirar-se ou não contribuir para os objetivos do grupo, criando assim o problema do *free-rider* - ou o problema da ação coletiva (Olson)."
   ]
  },
  {
   "cell_type": "markdown",
   "metadata": {
    "slideshow": {
     "slide_type": "subslide"
    }
   },
   "source": [
    "Ao assegurar o direito de saída, uma organização só se sustenta se for capaz de mitigar o comportamento *free-rider* e garantir, com incentivos e penalidades, a mobilização do grupo a fim de alcançar seus objetivos. "
   ]
  },
  {
   "cell_type": "markdown",
   "metadata": {
    "slideshow": {
     "slide_type": "slide"
    }
   },
   "source": [
    "## Atividades produtivas e improdutivas\n",
    "\n",
    "Para os autores, o desafio da história econômica seria justamente entender sob quais condições grupos de indivíduos, como membros de organizações: "
   ]
  },
  {
   "cell_type": "markdown",
   "metadata": {
    "slideshow": {
     "slide_type": "fragment"
    }
   },
   "source": [
    "- promoveram arranjos institucionais que estimularam a busca de inovações e aumento de produtividade;\n"
   ]
  },
  {
   "cell_type": "markdown",
   "metadata": {
    "slideshow": {
     "slide_type": "fragment"
    }
   },
   "source": [
    "- e, ao mesmo tempo, inibiram atividades predatórias (*rent-seeking*, roubo, corrupção, confisco, tributação arbitrária)."
   ]
  },
  {
   "cell_type": "markdown",
   "metadata": {
    "slideshow": {
     "slide_type": "subslide"
    }
   },
   "source": [
    "A mesma pergunta se aplica ao caso reverso: "
   ]
  },
  {
   "cell_type": "markdown",
   "metadata": {
    "slideshow": {
     "slide_type": "fragment"
    }
   },
   "source": [
    "por que determinadas épocas ou sociedades foram incapazes de transformar suas instituições e canalizar esforço, estratégia e inteligência majoritariamente para atividades outras que não atividades predatórias?"
   ]
  },
  {
   "cell_type": "markdown",
   "metadata": {
    "slideshow": {
     "slide_type": "slide"
    }
   },
   "source": [
    "## Causas das mudanças institucionais\n",
    "\n",
    "A resposta de North a essas perguntas é de certo modo simples (e algo teleológica): "
   ]
  },
  {
   "cell_type": "markdown",
   "metadata": {
    "slideshow": {
     "slide_type": "fragment"
    }
   },
   "source": [
    "a chave para o desenvolvimento econômico e a elevação duradoura do bem-estar de uma sociedade é a existência de instituições eficientes."
   ]
  },
  {
   "cell_type": "markdown",
   "metadata": {
    "slideshow": {
     "slide_type": "fragment"
    }
   },
   "source": [
    "*Eficiente* para North tem um significado específico: um mecanismo que promova o alinhamento progressivo de retornos privados e sociais."
   ]
  },
  {
   "cell_type": "markdown",
   "metadata": {
    "slideshow": {
     "slide_type": "slide"
    }
   },
   "source": [
    "## Eficiência\n",
    "\n",
    "P. ex., a internalização de externalidades criadas pela invenção de novos métodos de produção por meio de um sistema eficaz e acessível de patentes."
   ]
  },
  {
   "cell_type": "markdown",
   "metadata": {
    "slideshow": {
     "slide_type": "fragment"
    }
   },
   "source": [
    "Esse alinhamento seria alcançado por meio de instituições que induzissem uma mudança de direção na ação de individuos e organizações. "
   ]
  },
  {
   "cell_type": "markdown",
   "metadata": {
    "slideshow": {
     "slide_type": "fragment"
    }
   },
   "source": [
    "Ou na formulação do livro de 1973, *The Rise of the Western World*: \"*Indivíduos devem ser atraídos por incentivos para realizarem atividades socialmente desejáveis*\"."
   ]
  },
  {
   "cell_type": "markdown",
   "metadata": {
    "slideshow": {
     "slide_type": "slide"
    }
   },
   "source": [
    "## Mudanças na economia pré-industrial\n",
    "\n",
    "Vejamos a aplicação do modelo. Para North e Thomas, a ruptura do ciclo malthusiano na\n",
    "economia pré-industrial somente foi possível por meio de\n",
    "mudanças institucionais."
   ]
  },
  {
   "cell_type": "markdown",
   "metadata": {
    "slideshow": {
     "slide_type": "fragment"
    }
   },
   "source": [
    "Nas palavras dos autores:"
   ]
  },
  {
   "cell_type": "markdown",
   "metadata": {
    "slideshow": {
     "slide_type": "fragment"
    }
   },
   "source": [
    ">“mudanças institucionais que por meio de incentivos orientaram os esforços dos agentes para a mudança tecnológica e o crescimento sustentado da produtividade”."
   ]
  },
  {
   "cell_type": "markdown",
   "metadata": {
    "slideshow": {
     "slide_type": "slide"
    }
   },
   "source": [
    "## Causas\n",
    "\n",
    "Quais condições econômicas induziram historicamente as\n",
    "inovações institucionais e elevaram a produtividade da\n",
    "economia?"
   ]
  },
  {
   "cell_type": "markdown",
   "metadata": {
    "slideshow": {
     "slide_type": "fragment"
    }
   },
   "source": [
    "i) **economias de escala**;"
   ]
  },
  {
   "cell_type": "markdown",
   "metadata": {
    "slideshow": {
     "slide_type": "subslide"
    }
   },
   "source": [
    "*Economias de escala*: resultantes do aumento da escala de\n",
    "produção, que reduz o custo unitário do produto.\n",
    "\n",
    "A produção em larga escala requer uma organização\n",
    "empresarial complexa. Exemplos: corporações, sociedades\n",
    "anônimas.\n",
    "\n",
    "Essas formas de organizar a atividade econômica seriam então\n",
    "inovações institucionais (nos direitos de propriedade)\n",
    "que permitiram o aumento da escala de produção e a apropriação\n",
    "dos retornos potenciais das economias de escala por\n",
    "proprietários e acionistas."
   ]
  },
  {
   "cell_type": "markdown",
   "metadata": {
    "slideshow": {
     "slide_type": "subslide"
    }
   },
   "source": [
    "ii) **redução dos custos de transação**"
   ]
  },
  {
   "cell_type": "markdown",
   "metadata": {
    "slideshow": {
     "slide_type": "fragment"
    }
   },
   "source": [
    "*Custos de transação* relevantes foram de 3 tipos: <font color='green'>custos de\n",
    "externalidades<font>, <font color='green'>custos de informação<font> e <font color='green'>custos derivados\n",
    "de riscos<font>."
   ]
  },
  {
   "cell_type": "markdown",
   "metadata": {
    "slideshow": {
     "slide_type": "subslide"
    }
   },
   "source": [
    "### <font color='green'>Custos de externalidades</font>\n",
    "\n",
    "Externalidade é o benefício (ou custo) de uma transação\n",
    "econômica que é apropriado por (ou que afeta) outros\n",
    "indivíduos além dos que participam diretamente da transação.\n",
    "\n",
    "Um exemplo é um novo produto que é desenvolvido por um indivíduo e que pode ser copiado por outros indivíduos ou empresas\n",
    "que não contribuíram para a inovação.\n",
    "\n",
    "Uma inovação institucional (a patente) permitiria a\n",
    "internalização da externalidade, ou seja, a apropriação dos\n",
    "retornos da invenção e o incentivo ao progresso técnico por meio do alinhamento dos retornos privados e sociais."
   ]
  },
  {
   "cell_type": "markdown",
   "metadata": {
    "slideshow": {
     "slide_type": "subslide"
    }
   },
   "source": [
    "### <font color='green'>Custos de informação</font>\n",
    "Obter informação implica custos, o que explicaria em parte\n",
    "a existência de mercados locais esparsos.\n",
    "\n",
    "Isso porque se não houver informações seguras sobre\n",
    "oportunidades lucrativas em áreas mais distantes, o\n",
    "comércio será restringido.\n",
    "\n",
    "Inovações institucionais, como bolsas de mercadorias,\n",
    "reduziram o custo das informações, permitindo a exploração\n",
    "dos diferenciais de preços em mercados distantes e ampliando o comércio."
   ]
  },
  {
   "cell_type": "markdown",
   "metadata": {
    "slideshow": {
     "slide_type": "subslide"
    }
   },
   "source": [
    "### <font color='green'>Custos de riscos</font>\n",
    "    \n",
    "Risco é relacionado à incerteza quanto aos termos com que as transações serão realizadas no futuro.\n",
    "\n",
    "A probabilidade de grandes perdas futuras teria inibido as transações de longa maturação e entre regiões distantes.\n",
    "\n",
    "As sociedades por ações e as empresas de seguro são\n",
    "dois exemplos de organizações que representaram\n",
    "inovações institucionais que permitiram reduzir tais custos, expandindo comércio e produção.\n"
   ]
  },
  {
   "cell_type": "markdown",
   "metadata": {
    "slideshow": {
     "slide_type": "slide"
    }
   },
   "source": [
    "## Pré-requisito para mudanças\n",
    "\n",
    "Como e por que ocorreram as mudanças institucionais na economia pré-industrial europeia? Supõe-se que a capacidade e o *potencial* de explorar economias de escala e reduzir custos de transação existam em qualquer sociedade mais ou menos complexa."
   ]
  },
  {
   "cell_type": "markdown",
   "metadata": {
    "slideshow": {
     "slide_type": "fragment"
    }
   },
   "source": [
    "Mas, segundo North e Thomas, se os custos da criação de novas instituições que internalizariam a externalidade (alinhando retornos privados e sociais) superarem os benefícios, não haverá incentivos à mudança institucional necessária."
   ]
  },
  {
   "cell_type": "markdown",
   "metadata": {
    "slideshow": {
     "slide_type": "fragment"
    }
   },
   "source": [
    "A condição para mudança institucional é, então, o surgimento de uma situação econômica nova que aumente os benefícios das novas instituições em relação aos seus custos."
   ]
  },
  {
   "cell_type": "markdown",
   "metadata": {
    "slideshow": {
     "slide_type": "slide"
    }
   },
   "source": [
    "## Causas\n",
    "\n",
    "Dois fatores econômicos são indicados por North e Thomas\n",
    "como centrais por terem induzido as mudanças institucionais na\n",
    "economia pré-industrial:\n",
    "\n",
    "\n",
    "\n"
   ]
  },
  {
   "cell_type": "markdown",
   "metadata": {
    "slideshow": {
     "slide_type": "fragment"
    }
   },
   "source": [
    "  - mudanças de longo prazo nos preços dos fatores e dos\n",
    "produtos;\n"
   ]
  },
  {
   "cell_type": "markdown",
   "metadata": {
    "slideshow": {
     "slide_type": "fragment"
    }
   },
   "source": [
    "  - mudanças na dimensão dos mercados.\n"
   ]
  },
  {
   "cell_type": "markdown",
   "metadata": {
    "slideshow": {
     "slide_type": "fragment"
    }
   },
   "source": [
    "Ampliação de mercados e demanda resultou em aumentos\n",
    "nos preços agrícolas, que elevaram os preços da terra e tornaram\n",
    "atraentes sua produção/exploração em escala mais intensiva e a propriedade exclusiva da terra. Vejamos em mais detalhe."
   ]
  },
  {
   "cell_type": "markdown",
   "metadata": {
    "slideshow": {
     "slide_type": "slide"
    }
   },
   "source": [
    "## O modelo\n",
    "\n",
    "O modelo (basicamente malthusiano) apresentado por\n",
    "partes:"
   ]
  },
  {
   "cell_type": "markdown",
   "metadata": {
    "slideshow": {
     "slide_type": "fragment"
    }
   },
   "source": [
    "a) O aumento da população e dos mercados induziu o aumento no preço da\n",
    "terra e à queda no preço do trabalho (acompanhando o\n",
    "$PMgL$ decrescente resultante do aumento da população);\n"
   ]
  },
  {
   "cell_type": "markdown",
   "metadata": {
    "slideshow": {
     "slide_type": "fragment"
    }
   },
   "source": [
    "b) a abundância de $L$ e a queda no seu preço levaram ao relaxamento das obrigações feudais (serviços) em favor de\n",
    "pagamentos em espécie ou monetários, assim como ao arrendamento das terras;"
   ]
  },
  {
   "cell_type": "markdown",
   "metadata": {
    "slideshow": {
     "slide_type": "fragment"
    }
   },
   "source": [
    "c) outro efeito foi a colonização de novas regiões, o que\n",
    "levou ao aumento do comércio inter-regional e à utilização\n",
    "de diferentes dotações de fatores;"
   ]
  },
  {
   "cell_type": "markdown",
   "metadata": {
    "slideshow": {
     "slide_type": "subslide"
    }
   },
   "source": [
    "d) o aumento do valor das terras por sua vez estimulou a\n",
    "ocupação das terras comuns (*commons*), como aconteceu\n",
    "com os cercamentos (*enclosures*)."
   ]
  },
  {
   "cell_type": "markdown",
   "metadata": {
    "slideshow": {
     "slide_type": "fragment"
    }
   },
   "source": [
    "e) no esquema dos autores, um primeiro ciclo expansivo\n",
    "ocorreu até o início do século XIV, quando a [Peste Negra](https://en.wikipedia.org/wiki/Black_Death)\n",
    "devastou a população europeia;"
   ]
  },
  {
   "cell_type": "markdown",
   "metadata": {
    "slideshow": {
     "slide_type": "fragment"
    }
   },
   "source": [
    "f) a epidemia mudou os preços relativos favorecendo o\n",
    "trabalho (por que?);"
   ]
  },
  {
   "cell_type": "markdown",
   "metadata": {
    "slideshow": {
     "slide_type": "fragment"
    }
   },
   "source": [
    "g) a redução da oferta de $L$ induziu os proprietários de\n",
    "terra a aumentar o controle desse fator – o que levou à\n",
    "retração dos mercados;"
   ]
  },
  {
   "cell_type": "markdown",
   "metadata": {
    "slideshow": {
     "slide_type": "subslide"
    }
   },
   "source": [
    "h) uma nova expansão econômica ocorreu no século XVI,\n",
    "quando os efeitos do crescimento populacional foram\n",
    "atenuados pela expansão marítima;"
   ]
  },
  {
   "cell_type": "markdown",
   "metadata": {
    "slideshow": {
     "slide_type": "fragment"
    }
   },
   "source": [
    "i) por volta do final do século XVII já haviam sido\n",
    "estabelecidas na Inglaterra novas condições para o\n",
    "crescimento econômico: as mudanças institucionais graduais levaram ao crescimento sustentado da produtividade."
   ]
  },
  {
   "cell_type": "markdown",
   "metadata": {
    "slideshow": {
     "slide_type": "fragment"
    }
   },
   "source": [
    "Qual o papel das novas instituições? Elas redirecionaram\n",
    "os incentivos em favor do aumento da produção e da\n",
    "produtividade."
   ]
  },
  {
   "cell_type": "markdown",
   "metadata": {
    "slideshow": {
     "slide_type": "slide"
    }
   },
   "source": [
    "## Ruptura\n",
    "\n",
    "\n",
    "Resumindo:    "
   ]
  },
  {
   "cell_type": "markdown",
   "metadata": {
    "slideshow": {
     "slide_type": "fragment"
    }
   },
   "source": [
    "><center><font color =\"blue\">Crescimento populacional - expansão dos mercados - novas instituições - incentivos para     inovação - crescimento sustentado da produtividade - elevação do padrão de vida<font></center>"
   ]
  },
  {
   "cell_type": "markdown",
   "metadata": {
    "slideshow": {
     "slide_type": "fragment"
    }
   },
   "source": [
    "Assim, em um contexto de condições econômicas\n",
    "favoráveis, novas instituições que reduziram custos de transação, reafirmaram direitos de propriedade e alinharam retornos privados e sociais foram\n",
    "as determinantes da ruptura da “armadilha malthusiana” e\n",
    "do início do crescimento sustentado na Europa Ocidental,\n",
    "segundo North e Thomas."
   ]
  },
  {
   "cell_type": "markdown",
   "metadata": {
    "slideshow": {
     "slide_type": "slide"
    }
   },
   "source": [
    "## Questões\n",
    "\n",
    "O que são instituições para North e Thomas? Sob quais\n",
    "circunstâncias as instituições podem ser favoráveis ou contrárias\n",
    "ao desenvolvimento tecnológico e aumento da produtividade?\n",
    "\n",
    "Qual o papel da exploração das economias de escala e a\n",
    "redução de custos de transação para a emergência da economia\n",
    "moderna, segundo North e Thomas? Dê exemplos de\n",
    "instituições relacionadas a esses fatores.\n",
    "\n",
    "Como causas econômicas se relacionaram com instituições e\n",
    "levaram à ruptura da armadilha malthusiana, de acordo com os\n",
    "autores?"
   ]
  }
 ],
 "metadata": {
  "celltoolbar": "Slideshow",
  "kernelspec": {
   "display_name": "Python 3 (ipykernel)",
   "language": "python",
   "name": "python3"
  },
  "language_info": {
   "codemirror_mode": {
    "name": "ipython",
    "version": 3
   },
   "file_extension": ".py",
   "mimetype": "text/x-python",
   "name": "python",
   "nbconvert_exporter": "python",
   "pygments_lexer": "ipython3",
   "version": "3.8.19"
  },
  "toc": {
   "base_numbering": 1,
   "nav_menu": {},
   "number_sections": false,
   "sideBar": true,
   "skip_h1_title": false,
   "title_cell": "Table of Contents",
   "title_sidebar": "Contents",
   "toc_cell": false,
   "toc_position": {},
   "toc_section_display": true,
   "toc_window_display": false
  }
 },
 "nbformat": 4,
 "nbformat_minor": 4
}
