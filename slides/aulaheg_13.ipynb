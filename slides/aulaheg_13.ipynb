{
 "cells": [
  {
   "cell_type": "markdown",
   "metadata": {
    "editable": true,
    "nbpresent": {
     "id": "452305db-662c-4b4e-aa92-79d92fa4544d"
    },
    "slideshow": {
     "slide_type": "slide"
    },
    "tags": []
   },
   "source": [
    "## <center>História Econômica Geral I - FEA-USP</center>\n",
    "\n",
    "### <center>Aula 13 - Hiperinflação e Retorno ao Padrão Ouro</center>\n",
    "\n",
    "#### <center>Renato Perim Colistete</center>\n",
    "\n",
    "\n",
    "#### <center>2024</center>"
   ]
  },
  {
   "cell_type": "markdown",
   "metadata": {
    "nbpresent": {
     "id": "1fc7160f-beb4-4997-9c3f-0553e0592605"
    },
    "slideshow": {
     "slide_type": "slide"
    }
   },
   "source": [
    "## Objetivos\n",
    "\n",
    "Na aula de hoje começaremos apresentando as características gerais do crescimento econômico do Entre-Guerras.\n",
    "\n",
    "Em seguida, veremos rapidamente a história da hiperinflação na década de 1920.\n",
    "\n",
    "Para terminar, discutiremos as condições e os efeitos da restauração do Padrão Ouro."
   ]
  },
  {
   "cell_type": "markdown",
   "metadata": {
    "nbpresent": {
     "id": "1acbc207-c8bb-4376-a328-421bbf9520c4"
    },
    "slideshow": {
     "slide_type": "slide"
    }
   },
   "source": [
    "## Entre-Guerras\n",
    "\n",
    "Vejamos alguns fatos estilizados do período do Entre-Guerras. (Fatos estilizados = regularidades identificadas a partir dos dados)"
   ]
  },
  {
   "cell_type": "markdown",
   "metadata": {
    "nbpresent": {
     "id": "f3dfbdf9-fe1d-4356-9ad0-df395911e6f3"
    },
    "slideshow": {
     "slide_type": "fragment"
    }
   },
   "source": [
    "• Declínio do crescimento econômico:"
   ]
  },
  {
   "cell_type": "markdown",
   "metadata": {
    "slideshow": {
     "slide_type": "subslide"
    }
   },
   "source": [
    "#### <center>Crescimento do PIB (taxa média anual, %)</center>\n",
    "\n",
    "<center><img src=\"guerra1.png\" width=900></center>"
   ]
  },
  {
   "cell_type": "markdown",
   "metadata": {
    "slideshow": {
     "slide_type": "slide"
    }
   },
   "source": [
    "## Comércio\n",
    "\n",
    "O comércio internacional reduziu-se em termos reais:"
   ]
  },
  {
   "cell_type": "markdown",
   "metadata": {
    "slideshow": {
     "slide_type": "fragment"
    }
   },
   "source": [
    "#### <center>Comércio (taxa média anual, %)</center>\n",
    "\n",
    "<center><img src=\"guerra2.png\" width=900></center>"
   ]
  },
  {
   "cell_type": "markdown",
   "metadata": {
    "slideshow": {
     "slide_type": "slide"
    }
   },
   "source": [
    "## Desemprego\n",
    "\n",
    "Desemprego elevado e estrutural:"
   ]
  },
  {
   "cell_type": "markdown",
   "metadata": {
    "nbpresent": {
     "id": "13c81a42-221c-45fd-bde2-343bbcc74678"
    },
    "slideshow": {
     "slide_type": "fragment"
    }
   },
   "source": [
    "#### <center>Taxa de desemprego média, Europa (%)</center>\n",
    "\n",
    "<center><img src=\"guerra3.png\" width=900></center>"
   ]
  },
  {
   "cell_type": "markdown",
   "metadata": {
    "slideshow": {
     "slide_type": "slide"
    }
   },
   "source": [
    "## Produtividade\n",
    "\n",
    "*No entanto*, o crescimento da produtividade foi significativo:"
   ]
  },
  {
   "cell_type": "markdown",
   "metadata": {
    "slideshow": {
     "slide_type": "fragment"
    }
   },
   "source": [
    "#### <center>Crescimento da produtividade (média anual, %)</center>\n",
    "\n",
    "<center><img src=\"guerra4.png\" width=900></center>"
   ]
  },
  {
   "cell_type": "markdown",
   "metadata": {
    "slideshow": {
     "slide_type": "slide"
    }
   },
   "source": [
    "## Explicações\n",
    "\n",
    "Há diversas interpretações sobre o desempenho\n",
    "macroeconômico insatisfatório do Entre-Guerras:"
   ]
  },
  {
   "cell_type": "markdown",
   "metadata": {
    "slideshow": {
     "slide_type": "fragment"
    }
   },
   "source": [
    "a) desequilíbrios estruturais: entre oferta e demanda após\n",
    "a I GM, mudanças geopolíticas e mudanças tecnológicas;"
   ]
  },
  {
   "cell_type": "markdown",
   "metadata": {
    "slideshow": {
     "slide_type": "fragment"
    }
   },
   "source": [
    "b) ausência de um país hegemônico: sobretudo durante a\n",
    "crise da restauração do Padrão Ouro. *“No longer London,\n",
    "not yet Washington”*."
   ]
  },
  {
   "cell_type": "markdown",
   "metadata": {
    "slideshow": {
     "slide_type": "subslide"
    }
   },
   "source": [
    "c) ausência de coordenação internacional: bancos\n",
    "centrais de EUA, Reino Unido, Alemanha e França não\n",
    "cooperaram consistentemente. Políticas de aumento de\n",
    "reservas, sem “regras do jogo”;"
   ]
  },
  {
   "cell_type": "markdown",
   "metadata": {
    "slideshow": {
     "slide_type": "fragment"
    }
   },
   "source": [
    "d) ideologias políticas e financeiras ultrapassadas: por\n",
    "exemplo, i) insistência nas reparações da Alemanha; ii)\n",
    "insistência na restauração do Padrão Ouro; iii) insistência\n",
    "na política de orçamento equilibrado."
   ]
  },
  {
   "cell_type": "markdown",
   "metadata": {
    "slideshow": {
     "slide_type": "slide"
    }
   },
   "source": [
    "## Preços\n",
    "\n",
    "Três grupos de países se diferenciaram em termos de\n",
    "comportamento dos preços:"
   ]
  },
  {
   "cell_type": "markdown",
   "metadata": {
    "slideshow": {
     "slide_type": "fragment"
    }
   },
   "source": [
    "i) Áustria e Alemanha - em processo de hiperinflação já a\n",
    "partir de 1921;"
   ]
  },
  {
   "cell_type": "markdown",
   "metadata": {
    "slideshow": {
     "slide_type": "fragment"
    }
   },
   "source": [
    "ii) Bélgica, Finlândia, Itália e França - inflação alta mas\n",
    "que não saiu do controle;"
   ]
  },
  {
   "cell_type": "markdown",
   "metadata": {
    "slideshow": {
     "slide_type": "fragment"
    }
   },
   "source": [
    "iii) Escandinávia, Suiça, Reino Unido e Holanda - políticas\n",
    "macroeconômicas restritivas contiveram preços e provocaram\n",
    "deflação."
   ]
  },
  {
   "cell_type": "markdown",
   "metadata": {
    "slideshow": {
     "slide_type": "slide"
    }
   },
   "source": [
    "## Hiperinflação\n",
    "\n",
    "Preços na Alemanha: 1914=100, 1920=990, 1922=14.602, 1923=15.437.000.000.000. Entre ago/22 e nov/23, média mensal = 335%."
   ]
  },
  {
   "cell_type": "markdown",
   "metadata": {
    "slideshow": {
     "slide_type": "fragment"
    }
   },
   "source": [
    "Vejam as figuras a seguir."
   ]
  },
  {
   "cell_type": "markdown",
   "metadata": {
    "editable": true,
    "slideshow": {
     "slide_type": "subslide"
    },
    "tags": []
   },
   "source": [
    "#### <center>Hiperinflação</center>\n",
    "\n",
    "<center><img src=\"hiper2.png\" width=750></center>"
   ]
  },
  {
   "cell_type": "markdown",
   "metadata": {
    "editable": true,
    "slideshow": {
     "slide_type": "subslide"
    },
    "tags": []
   },
   "source": [
    "#### <center>Hiperinflação</center>\n",
    "\n",
    "<center><img src=\"hiper3.png\" width=750></center>"
   ]
  },
  {
   "cell_type": "markdown",
   "metadata": {
    "editable": true,
    "slideshow": {
     "slide_type": "subslide"
    },
    "tags": []
   },
   "source": [
    "#### <center></center>\n",
    "\n",
    "<center><img src=\"hiper4.png\" width=750></center>"
   ]
  },
  {
   "cell_type": "markdown",
   "metadata": {
    "editable": true,
    "slideshow": {
     "slide_type": "subslide"
    },
    "tags": []
   },
   "source": [
    "#### <center>E na Alemanha...</center>\n",
    "\n",
    "<center><img src=\"hiper5.png\" width=750></center>"
   ]
  },
  {
   "cell_type": "markdown",
   "metadata": {
    "editable": true,
    "slideshow": {
     "slide_type": "subslide"
    },
    "tags": []
   },
   "source": [
    "#### <center>... o efeito da hiperinflação</center>\n",
    "\n",
    "<center><img src=\"hiper6.png\" width=700></center>"
   ]
  },
  {
   "cell_type": "markdown",
   "metadata": {
    "slideshow": {
     "slide_type": "slide"
    }
   },
   "source": [
    "## Interpretações\n",
    "\n",
    "Duas interpretações da hiperinflação alemã. **Primeira**:"
   ]
  },
  {
   "cell_type": "markdown",
   "metadata": {
    "slideshow": {
     "slide_type": "fragment"
    }
   },
   "source": [
    "=> reconstrução e reparações causaram déficits no balanço de pagamentos, levando a acentuada depreciação do\n",
    "marco frente a outras moedas;"
   ]
  },
  {
   "cell_type": "markdown",
   "metadata": {
    "slideshow": {
     "slide_type": "fragment"
    }
   },
   "source": [
    "=> depreciação da moeda teria provocado grande aumento dos preços dos bens importados, contaminando todos os outros preços (*tradables* e *non-tradables*);"
   ]
  },
  {
   "cell_type": "markdown",
   "metadata": {
    "slideshow": {
     "slide_type": "fragment"
    }
   },
   "source": [
    "=> expansão monetária para *acomodar* o aumento dos preços sancionou a inflação e levou à hiperinflação."
   ]
  },
  {
   "cell_type": "markdown",
   "metadata": {
    "slideshow": {
     "slide_type": "slide"
    }
   },
   "source": [
    "## Interpretações\n",
    "\n",
    "**Segunda intepretação**:"
   ]
  },
  {
   "cell_type": "markdown",
   "metadata": {
    "slideshow": {
     "slide_type": "fragment"
    }
   },
   "source": [
    "=> déficit público aumentou como resultado do esforço de guerra e dos programas econômicos e sociais do pós-guerra;"
   ]
  },
  {
   "cell_type": "markdown",
   "metadata": {
    "slideshow": {
     "slide_type": "fragment"
    }
   },
   "source": [
    "=> a estrutura de impostos não foi ampliada para acomodar o aumento dos gastos públicos, devido à disputa entre grupos sociais, especialmente capital e trabalho;"
   ]
  },
  {
   "cell_type": "markdown",
   "metadata": {
    "slideshow": {
     "slide_type": "subslide"
    }
   },
   "source": [
    "=> o conflito distributivo no âmbito fiscal foi resolvido por meio da emissão de moeda; nessa visão, depreciação do câmbio e aumento de preços correram paralelos."
   ]
  },
  {
   "cell_type": "markdown",
   "metadata": {
    "slideshow": {
     "slide_type": "fragment"
    }
   },
   "source": [
    "=> desorganização monetária e fiscal + pressões sociais criaram ambiente propício para a hiperinflação."
   ]
  },
  {
   "cell_type": "markdown",
   "metadata": {
    "slideshow": {
     "slide_type": "slide"
    }
   },
   "source": [
    "## Padrão Ouro\n",
    "\n",
    "Como ocorreu a volta ao Padrão Ouro na década de\n",
    "1920?"
   ]
  },
  {
   "cell_type": "markdown",
   "metadata": {
    "slideshow": {
     "slide_type": "fragment"
    }
   },
   "source": [
    "Duas questões devem ser observadas: data de retorno e\n",
    "taxa de desvalorização da moeda em relação à paridade\n",
    "pré-guerra."
   ]
  },
  {
   "cell_type": "markdown",
   "metadata": {
    "slideshow": {
     "slide_type": "fragment"
    }
   },
   "source": [
    "A tabela a seguir mostra que a divisão corresponde à\n",
    "experiência de inflação: i) países com hiperinflação:\n",
    "paridade < 10% pré-guerra; ii) com inflação alta:\n",
    "10%<paridade<30% pré-guerra; iii) com estrito controle\n",
    "inflacionário: paridade = pré-guerra.\n",
    "\n",
    "taxa de câmbio real = E.P*/P"
   ]
  },
  {
   "cell_type": "markdown",
   "metadata": {
    "editable": true,
    "slideshow": {
     "slide_type": "subslide"
    },
    "tags": []
   },
   "source": [
    "#### <center>Retorno ao Padrão Ouro</center>\n",
    "\n",
    "<center><img src=\"pad_ouro.png\" width=800></center>"
   ]
  },
  {
   "cell_type": "markdown",
   "metadata": {
    "editable": true,
    "nbpresent": {
     "id": "1a43feb9-1cad-4162-a6ad-b16662fbb6a4"
    },
    "slideshow": {
     "slide_type": "slide"
    },
    "tags": []
   },
   "source": [
    "## Resultados\n",
    "\n",
    "Quais foram os efeitos das diferentes condições de\n",
    "retorno ao Padrão Ouro? Dois casos básicos:"
   ]
  },
  {
   "cell_type": "markdown",
   "metadata": {
    "slideshow": {
     "slide_type": "fragment"
    }
   },
   "source": [
    "a) restauração com *paridade pré-guerra*:"
   ]
  },
  {
   "cell_type": "markdown",
   "metadata": {
    "slideshow": {
     "slide_type": "fragment"
    }
   },
   "source": [
    "- queda das exportações industriais, pressão baixista sobre atividade econômica, emprego, salários e padrão de vida da população (Inglaterra caso típico);"
   ]
  },
  {
   "cell_type": "markdown",
   "metadata": {
    "slideshow": {
     "slide_type": "fragment"
    }
   },
   "source": [
    "- queda severa da produção na Noruega e Dinamarca\n",
    "entre 1925 e 1928, com desemprego, quebra de\n",
    "empresas e deflação."
   ]
  },
  {
   "cell_type": "markdown",
   "metadata": {
    "slideshow": {
     "slide_type": "subslide"
    }
   },
   "source": [
    "b) restauração com *paridades depreciadas*:"
   ]
  },
  {
   "cell_type": "markdown",
   "metadata": {
    "slideshow": {
     "slide_type": "fragment"
    }
   },
   "source": [
    "- recuperação das exportações;"
   ]
  },
  {
   "cell_type": "markdown",
   "metadata": {
    "slideshow": {
     "slide_type": "fragment"
    }
   },
   "source": [
    "- ganhos de competitividade das exportações na França,\n",
    "Itália, Bélgica e Polônia."
   ]
  },
  {
   "cell_type": "markdown",
   "metadata": {
    "slideshow": {
     "slide_type": "fragment"
    }
   },
   "source": [
    "Mas foi a taxa de câmbio o único determinante do\n",
    "desempenho das exportações na segunda metade da\n",
    "década de 1920? Analisemos a tabela seguinte:"
   ]
  },
  {
   "cell_type": "markdown",
   "metadata": {
    "editable": true,
    "slideshow": {
     "slide_type": "subslide"
    },
    "tags": []
   },
   "source": [
    "#### <center>Exportações</center>\n",
    "\n",
    "<center><img src=\"exp.png\" width=800></center>"
   ]
  },
  {
   "cell_type": "markdown",
   "metadata": {
    "editable": true,
    "slideshow": {
     "slide_type": "slide"
    },
    "tags": []
   },
   "source": [
    "## Resultados\n",
    "\n",
    "O que podemos notar na tabela anterior?"
   ]
  },
  {
   "cell_type": "markdown",
   "metadata": {
    "editable": true,
    "nbpresent": {
     "id": "8dde182b-545e-464d-86aa-93633eb83d31"
    },
    "slideshow": {
     "slide_type": "fragment"
    },
    "tags": []
   },
   "source": [
    "- Inglaterra não recuperou seus níveis de exportação do pré-guerra durante a década de 1920. Apreciação da libra (~= 10%) ajudou esse resultado."
   ]
  },
  {
   "cell_type": "markdown",
   "metadata": {
    "editable": true,
    "slideshow": {
     "slide_type": "fragment"
    },
    "tags": []
   },
   "source": [
    "- Porém, problemas graves de obsolescência tecnológica, capacidade ociosa, altas taxas de juros e perda de mercados foram mais importantes."
   ]
  },
  {
   "cell_type": "markdown",
   "metadata": {
    "editable": true,
    "slideshow": {
     "slide_type": "subslide"
    },
    "tags": []
   },
   "source": [
    "- Essa hipótese parece plausível, pois outros países que retornaram à paridade pré-guerra tiveram excelente desempenho das exportações (ver Escandinávia e Holanda)."
   ]
  },
  {
   "cell_type": "markdown",
   "metadata": {
    "editable": true,
    "slideshow": {
     "slide_type": "fragment"
    },
    "tags": []
   },
   "source": [
    "- Da mesma forma, Alemanha e Áustria, que promoveram grandes desvalorizações da moeda, continuaram com níveis baixos de exportação."
   ]
  },
  {
   "cell_type": "markdown",
   "metadata": {
    "slideshow": {
     "slide_type": "slide"
    }
   },
   "source": [
    "## Questões\n",
    "\n",
    "Descreva e analise os principais fatos estilizados da\n",
    "economia do Entre-Guerras na Europa. Qual é o quadro\n",
    "geral predominante?\n",
    "\n",
    "Compare as duas interpretações gerais vistas antes sobre\n",
    "as causas da hiperinflação alemã. Qual lhe parece mais\n",
    "plausível? Por que?\n",
    "\n",
    "Dê exemplos de países com estratégias diferentes de\n",
    "retorno ao Padrão Ouro. Quais foram os resultados\n",
    "dessas estratégias?"
   ]
  }
 ],
 "metadata": {
  "celltoolbar": "Slideshow",
  "kernelspec": {
   "display_name": "Python 3 (ipykernel)",
   "language": "python",
   "name": "python3"
  },
  "language_info": {
   "codemirror_mode": {
    "name": "ipython",
    "version": 3
   },
   "file_extension": ".py",
   "mimetype": "text/x-python",
   "name": "python",
   "nbconvert_exporter": "python",
   "pygments_lexer": "ipython3",
   "version": "3.8.20"
  },
  "toc": {
   "base_numbering": 1,
   "nav_menu": {},
   "number_sections": false,
   "sideBar": true,
   "skip_h1_title": false,
   "title_cell": "Table of Contents",
   "title_sidebar": "Contents",
   "toc_cell": false,
   "toc_position": {},
   "toc_section_display": true,
   "toc_window_display": false
  }
 },
 "nbformat": 4,
 "nbformat_minor": 4
}
