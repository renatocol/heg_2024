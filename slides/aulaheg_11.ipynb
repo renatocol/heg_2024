{
 "cells": [
  {
   "cell_type": "markdown",
   "metadata": {
    "nbpresent": {
     "id": "452305db-662c-4b4e-aa92-79d92fa4544d"
    },
    "slideshow": {
     "slide_type": "slide"
    }
   },
   "source": [
    "## <center>História Econômica Geral - FEA-USP</center>\n",
    "\n",
    "### <center>Aula 11 - Padrão Ouro</center>\n",
    "\n",
    "#### <center>Renato Perim Colistete</center>\n",
    "\n",
    "\n",
    "#### <center>2024</center>"
   ]
  },
  {
   "cell_type": "markdown",
   "metadata": {
    "nbpresent": {
     "id": "1fc7160f-beb4-4997-9c3f-0553e0592605"
    },
    "slideshow": {
     "slide_type": "slide"
    }
   },
   "source": [
    "## Objetivos\n",
    "\n",
    "O objetivo desta aula é descrever o regime monetário internacional baseado no Padrão Ouro até o início da I Guerra Mundial.\n",
    "\n",
    "Começamos com um comentário sobre a história e as características do Padrão Ouro, seguido de uma apresentação da lógica de funcionamento do Padrão Ouro.\n",
    "\n",
    "Depois, avaliaremos a adoção das “regras do jogo” e a implentação histórica do Padrão Ouro no período pré-1914."
   ]
  },
  {
   "cell_type": "markdown",
   "metadata": {
    "nbpresent": {
     "id": "1acbc207-c8bb-4376-a328-421bbf9520c4"
    },
    "slideshow": {
     "slide_type": "slide"
    }
   },
   "source": [
    "## Origens\n",
    "\n",
    "Inicialmente sob um padrão bimetálico (prata e ouro), a\n",
    "Inglaterra introduziu o ouro como padrão monetário em\n",
    "1774."
   ]
  },
  {
   "cell_type": "markdown",
   "metadata": {
    "nbpresent": {
     "id": "f3dfbdf9-fe1d-4356-9ad0-df395911e6f3"
    },
    "slideshow": {
     "slide_type": "fragment"
    }
   },
   "source": [
    "A prata continuou sendo cunhada até 1798 e o ouro foi\n",
    "adotado oficialmente em 1816, após anos de regime\n",
    "monetário efetivo."
   ]
  },
  {
   "cell_type": "markdown",
   "metadata": {
    "slideshow": {
     "slide_type": "fragment"
    }
   },
   "source": [
    "A década de 1870 marcou a conversão de vários países\n",
    "ao padrão monetário baseado no ouro."
   ]
  },
  {
   "cell_type": "markdown",
   "metadata": {
    "nbpresent": {
     "id": "13c81a42-221c-45fd-bde2-343bbcc74678"
    },
    "slideshow": {
     "slide_type": "slide"
    }
   },
   "source": [
    "## Difusão\n",
    "\n",
    "A Inglaterra em 1870 já caminhava para tornar-se a “oficina do mundo”\n",
    "e a adoção de um padrão monetário comum facilitava\n",
    "as transações comerciais e financeiras entre países."
   ]
  },
  {
   "cell_type": "markdown",
   "metadata": {
    "nbpresent": {
     "id": "69b2baa0-ed18-483e-8653-50f0e5c1d94f"
    },
    "slideshow": {
     "slide_type": "fragment"
    }
   },
   "source": [
    "O próximo país importante a adotar o ouro (em 1871) foi\n",
    "a Alemanha unificada, que mantinha estreitas relações\n",
    "comerciais e financeiras com a Inglaterra."
   ]
  },
  {
   "cell_type": "markdown",
   "metadata": {
    "nbpresent": {
     "id": "1674bcc2-8448-4b20-8203-e741d2f6048b"
    },
    "slideshow": {
     "slide_type": "fragment"
    }
   },
   "source": [
    "Os parceiros comerciais da Alemanha seguiram o\n",
    "exemplo: Dinamarca (1872), Suécia (1873), Noruega\n",
    "(1875), Holanda (1875), Bélgica (1878). Ver figura."
   ]
  },
  {
   "cell_type": "markdown",
   "metadata": {
    "slideshow": {
     "slide_type": "subslide"
    }
   },
   "source": [
    "### <center>Padrão Ouro no mundo</center>\n",
    "\n",
    "<center><img src=\"gold.png\" width=1100></center>"
   ]
  },
  {
   "cell_type": "markdown",
   "metadata": {
    "nbpresent": {
     "id": "8b4f0472-cccb-4d13-abbd-187d93bc9309"
    },
    "slideshow": {
     "slide_type": "slide"
    }
   },
   "source": [
    "## Sistemas\n",
    "\n",
    "Daí em diante, a maioria dos países adotou o ouro como padrão monetário ou atrelou suas moedas à libra esterlina\n",
    "(*pegged exchange rate*)."
   ]
  },
  {
   "cell_type": "markdown",
   "metadata": {
    "slideshow": {
     "slide_type": "fragment"
    }
   },
   "source": [
    "Ou seja, cada moeda era conversível em ouro a uma taxa específica (p.ex., US$ 20,67 por onça de ouro); e, assim, as moedas dos países eram conversíveis entre si a uma *taxa de câmbio fixa*."
   ]
  },
  {
   "cell_type": "markdown",
   "metadata": {
    "nbpresent": {
     "id": "794d2206-833d-419a-b3b9-b12875162c7e"
    },
    "slideshow": {
     "slide_type": "fragment"
    }
   },
   "source": [
    "Exemplos: França (1878), EUA (1834, 1900 oficialmente),\n",
    "Itália (1884), Japão (1897), Brasil (1906-14)."
   ]
  },
  {
   "cell_type": "markdown",
   "metadata": {
    "slideshow": {
     "slide_type": "subslide"
    }
   },
   "source": [
    "Teoricamente, há dois sistemas possíveis do Padrão Ouro: a)\n",
    "“puro”, em que a moeda circulante é o ouro propriamente; b)\n",
    "“misto”, em que circulam ouro e papel-moeda, com livre\n",
    "conversibilidade."
   ]
  },
  {
   "cell_type": "markdown",
   "metadata": {
    "slideshow": {
     "slide_type": "slide"
    }
   },
   "source": [
    "## Oferta monetária\n",
    "\n",
    "Na prática, nenhum país adotou um regime puro. A\n",
    "presença efetiva do ouro na oferta monetária mundial\n",
    "tendeu a declinar durante todo o período."
   ]
  },
  {
   "cell_type": "markdown",
   "metadata": {
    "slideshow": {
     "slide_type": "fragment"
    }
   },
   "source": [
    "Em 1885, apenas 17% da oferta monetária dos maiores\n",
    "países eram em ouro-metal; 10% em 1913 e\n",
    "praticamente 0% em 1928."
   ]
  },
  {
   "cell_type": "markdown",
   "metadata": {
    "slideshow": {
     "slide_type": "fragment"
    }
   },
   "source": [
    "Ou seja, o ouro passou cada vez mais a fazer parte\n",
    "somente das reservas dos países (Tesouro e Bancos\n",
    "Centrais especialmente)."
   ]
  },
  {
   "cell_type": "markdown",
   "metadata": {
    "editable": true,
    "nbpresent": {
     "id": "383dda45-dccb-4fde-a663-f4b4f94a501e"
    },
    "slideshow": {
     "slide_type": "slide"
    },
    "tags": []
   },
   "source": [
    "## Lógica do sistema\n",
    "\n",
    "Como o sistema moentário internacional baseado no Padrão Ouro foi capaz de manter-se relativamente estável por tanto tempo, até a I Guerra Mundial?"
   ]
  },
  {
   "cell_type": "markdown",
   "metadata": {
    "editable": true,
    "slideshow": {
     "slide_type": "fragment"
    },
    "tags": []
   },
   "source": [
    "Para responder essa questão, temos de compreender\n",
    "inicialmente o funcionamento teórico do Padrão Ouro.\n",
    "Qual foi a lógica de operação do sistema?"
   ]
  },
  {
   "cell_type": "markdown",
   "metadata": {
    "slideshow": {
     "slide_type": "fragment"
    }
   },
   "source": [
    "A mais influente explicação da operação do Padrão Ouro é o chamado *price-specie flow mechanism*, originalmente\n",
    "[elaborado por David Hume](https://mediawiki.middlebury.edu/wiki/IPE/Price-specie-flow_Mechanism) em 1752 – um mecanismo de ajuste automático do sistema monetário internacional."
   ]
  },
  {
   "cell_type": "markdown",
   "metadata": {
    "slideshow": {
     "slide_type": "slide"
    }
   },
   "source": [
    "## Hipóteses\n",
    "\n",
    "Hipóteses básicas do modelo de Hume:"
   ]
  },
  {
   "cell_type": "markdown",
   "metadata": {
    "slideshow": {
     "slide_type": "fragment"
    }
   },
   "source": [
    "- circulação de ouro apenas;"
   ]
  },
  {
   "cell_type": "markdown",
   "metadata": {
    "slideshow": {
     "slide_type": "fragment"
    }
   },
   "source": [
    "- bancos têm papel irrelevante;"
   ]
  },
  {
   "cell_type": "markdown",
   "metadata": {
    "slideshow": {
     "slide_type": "fragment"
    }
   },
   "source": [
    "- teoria quantitativa da moeda (definir): $MV = PT$, $M$ => $P$"
   ]
  },
  {
   "cell_type": "markdown",
   "metadata": {
    "slideshow": {
     "slide_type": "subslide"
    }
   },
   "source": [
    "- taxas de câmbio fixas (notar: fundamento do Padrão Ouro);"
   ]
  },
  {
   "cell_type": "markdown",
   "metadata": {
    "slideshow": {
     "slide_type": "fragment"
    }
   },
   "source": [
    "- livre comércio, mas não há mobilidade e transferências de capital."
   ]
  },
  {
   "cell_type": "markdown",
   "metadata": {
    "slideshow": {
     "slide_type": "fragment"
    }
   },
   "source": [
    "Assim, em um determinado país, exportadores\n",
    "receberiam em ouro e o trocariam por moeda local, enquanto\n",
    "importadores enviariam ouro para o exterior ao realizarem\n",
    "suas compras."
   ]
  },
  {
   "cell_type": "markdown",
   "metadata": {
    "slideshow": {
     "slide_type": "slide"
    }
   },
   "source": [
    "## Desequilíbrio e ajuste\n",
    "\n",
    "Por exemplo, considerando 2 países, A e B: se o país A incorresse em déficit na balança comercial $(X < M)$, então haveria:"
   ]
  },
  {
   "cell_type": "markdown",
   "metadata": {
    "slideshow": {
     "slide_type": "fragment"
    }
   },
   "source": [
    "i) no país A, saída de ouro $=>$ com menos ouro (moeda) em circulação,\n",
    "diminuiria demanda por bens e preços domésticos cairiam;"
   ]
  },
  {
   "cell_type": "markdown",
   "metadata": {
    "slideshow": {
     "slide_type": "fragment"
    }
   },
   "source": [
    "ii) paralelamente, o país B (superavitário) receberia ouro $=>$ aumentaria demanda por bens e os preços subiriam."
   ]
  },
  {
   "cell_type": "markdown",
   "metadata": {
    "slideshow": {
     "slide_type": "slide"
    }
   },
   "source": [
    "## Efeito dos preços relativos\n",
    "\n",
    "Qual o efeito da mudança nos preços relativos (entre os países A e B)? "
   ]
  },
  {
   "cell_type": "markdown",
   "metadata": {
    "slideshow": {
     "slide_type": "fragment"
    }
   },
   "source": [
    "No país A (deficitário) haveria redução das $M$ e estímulo às $X$; no país B (superavitário), aumento de $M$ e queda de $X$ (por que?). "
   ]
  },
  {
   "cell_type": "markdown",
   "metadata": {
    "slideshow": {
     "slide_type": "fragment"
    }
   },
   "source": [
    "Em outras palavras, o desequilíbrio nos dois países seria corrigido *automaticamente* em função da mudança dos preços relativos e seu efeito sobre a balança comercial – exportações e importações."
   ]
  },
  {
   "cell_type": "markdown",
   "metadata": {
    "slideshow": {
     "slide_type": "slide"
    }
   },
   "source": [
    "## Modelo ampliado e as \"regras do jogo\"\n",
    "\n",
    "O modelo simples pode ser ampliado para incluir\n",
    "transferências de capital entre países, papel-moeda,\n",
    "banco central e taxas de juros."
   ]
  },
  {
   "cell_type": "markdown",
   "metadata": {
    "slideshow": {
     "slide_type": "fragment"
    }
   },
   "source": [
    "A lógica do ajuste seria a mesma, só que agora assume-se que a autoridade monetária seguiria as chamadas “**regras do jogo**” do Padrão Ouro."
   ]
  },
  {
   "cell_type": "markdown",
   "metadata": {
    "slideshow": {
     "slide_type": "fragment"
    }
   },
   "source": [
    "Sob as **regras do jogo**, a autoridade monetária de um país deveria\n",
    "*reforçar* os efeitos dos fluxos de ouro sobre a oferta\n",
    "monetária – em vez de *esterilizar* tais efeitos (ver\n",
    "conceitos). Lembrar: sempre com taxas de câmbio fixas."
   ]
  },
  {
   "cell_type": "markdown",
   "metadata": {
    "slideshow": {
     "slide_type": "slide"
    }
   },
   "source": [
    "## Regras do jogo\n",
    "\n",
    "Mecanismo: *quando houvesse saída de ouro*, a Autoridade Monetária deveria *reduzir* os ativos domésticos (moeda)\n",
    "(equivalente a trocar haveres não monetários por haveres monetários do público, isto é, vender títulos no mercado).\n"
   ]
  },
  {
   "cell_type": "markdown",
   "metadata": {
    "slideshow": {
     "slide_type": "fragment"
    }
   },
   "source": [
    "*Com entrada de ouro*, e aumento dos ativos estrangeiros, a Autoridade Monetária deveria *aumentar* os ativos domésticos (moeda) (equivalente a trocar haveres monetários por haveres não monetários do público, isto é, comprar títulos no mercado)."
   ]
  },
  {
   "cell_type": "markdown",
   "metadata": {
    "slideshow": {
     "slide_type": "subslide"
    }
   },
   "source": [
    "Uma ação oposta da AM nos dois casos, não-simétrica, constituiria *esterilização* – p. ex. reduzindo ativos domésticos quando houvesse aumento da entrada de ouro."
   ]
  },
  {
   "cell_type": "markdown",
   "metadata": {
    "slideshow": {
     "slide_type": "slide"
    }
   },
   "source": [
    "## Modelo ampliado: como funciona?\n",
    "\n",
    "Um exemplo: se *um país incorresse em déficit* no balanço\n",
    "de pagamentos, então haveria:"
   ]
  },
  {
   "cell_type": "markdown",
   "metadata": {
    "slideshow": {
     "slide_type": "fragment"
    }
   },
   "source": [
    "i) saída de ouro $=$ com menos ouro (moeda) em\n",
    "circulação, preços domésticos cairiam;"
   ]
  },
  {
   "cell_type": "markdown",
   "metadata": {
    "slideshow": {
     "slide_type": "fragment"
    }
   },
   "source": [
    "ii) pelas **regras do jogo** do Padrão Ouro, a *AM aumentaria a taxa de\n",
    "redesconto/venderia títulos*, reforçando a redução da\n",
    "oferta monetária;"
   ]
  },
  {
   "cell_type": "markdown",
   "metadata": {
    "slideshow": {
     "slide_type": "slide"
    }
   },
   "source": [
    "## Modelo ampliado\n",
    "\n",
    "iii) paralelamente, o *país superavitário* receberia ouro e\n",
    "haveria aumento de preços resultante da maior circulação monetária;"
   ]
  },
  {
   "cell_type": "markdown",
   "metadata": {
    "slideshow": {
     "slide_type": "fragment"
    }
   },
   "source": [
    "iv) no *país superavitário*, pelas **regras do jogo** a AM\n",
    "diminuiria taxa de redesconto/compraria títulos,\n",
    "reforçando o aumento da oferta monetária;"
   ]
  },
  {
   "cell_type": "markdown",
   "metadata": {
    "slideshow": {
     "slide_type": "fragment"
    }
   },
   "source": [
    "v) no *país deficitário* haveria redução das $M$ e estímulo às\n",
    "$X$; e no *país superavitário*, aumento de $M$ e queda de $X$."
   ]
  },
  {
   "cell_type": "markdown",
   "metadata": {
    "editable": true,
    "slideshow": {
     "slide_type": "slide"
    },
    "tags": []
   },
   "source": [
    "## Modelo ampliado\n",
    "\n",
    "vi) o ajuste operaria também via conta de capitais. No *país deficitário*: por meio de aumento da taxa de juros, atraindo capital e reduzindo investimento ($I$), consumo ($C$) e importações $M$;"
   ]
  },
  {
   "cell_type": "markdown",
   "metadata": {
    "editable": true,
    "slideshow": {
     "slide_type": "fragment"
    },
    "tags": []
   },
   "source": [
    "vii) No *país superavitário*: o ajuste seria por meio de redução da taxa de juros, provocando saída de capital e\n",
    "estimulando I, C e M."
   ]
  },
  {
   "cell_type": "markdown",
   "metadata": {
    "editable": true,
    "slideshow": {
     "slide_type": "fragment"
    },
    "tags": []
   },
   "source": [
    "Temos no modelo ampliado, portanto, o mesmo resultado visto no modelo simples de Hume, ou seja, o desequilíbrio externo seria corrigido automaticamente."
   ]
  },
  {
   "cell_type": "markdown",
   "metadata": {
    "editable": true,
    "nbpresent": {
     "id": "13c81a42-221c-45fd-bde2-343bbcc74678"
    },
    "slideshow": {
     "slide_type": "slide"
    },
    "tags": []
   },
   "source": [
    "## Regras do jogo\n",
    "\n",
    "Vamos avaliar agora as predições do modelo em relação ao observado na história. Será que o comportamento efetivo dos bancos centrais entre 1870-1914 seguiu o previsto pelas **regras do jogo** do Padrão Ouro?"
   ]
  },
  {
   "cell_type": "markdown",
   "metadata": {
    "editable": true,
    "nbpresent": {
     "id": "69b2baa0-ed18-483e-8653-50f0e5c1d94f"
    },
    "slideshow": {
     "slide_type": "fragment"
    },
    "tags": []
   },
   "source": [
    "Isto é, as Autoridades Monetárias dos países de fato mantiveram a simetria entre fluxos de ouro (e capital) e ativos domésticos, de acordo com o previsto pelo modelo?"
   ]
  },
  {
   "cell_type": "markdown",
   "metadata": {
    "editable": true,
    "nbpresent": {
     "id": "1674bcc2-8448-4b20-8203-e741d2f6048b"
    },
    "slideshow": {
     "slide_type": "fragment"
    },
    "tags": []
   },
   "source": [
    "Em 1944, [Ragnar Nurkse](https://en.wikipedia.org/wiki/Ragnar_Nurkse) analisou os anos do Entre-Guerras e *não constatou* tal simetria; o mesmo resultado foi observado com relação ao Padrão Ouro clássico. Veja o teste a seguir."
   ]
  },
  {
   "cell_type": "markdown",
   "metadata": {
    "editable": true,
    "slideshow": {
     "slide_type": "slide"
    },
    "tags": []
   },
   "source": [
    "#### <center>Variações anuais em ativos internacionais e domésticos da AM (% mesma direção)</center>\n",
    "\n",
    "<center><img src=\"nurkse.png\" width=1200></center>"
   ]
  },
  {
   "cell_type": "markdown",
   "metadata": {
    "editable": true,
    "nbpresent": {
     "id": "8b4f0472-cccb-4d13-abbd-187d93bc9309"
    },
    "slideshow": {
     "slide_type": "slide"
    },
    "tags": []
   },
   "source": [
    "## Esterilização\n",
    "\n",
    "Na tabela anterior vemos que a simetria entre ativos\n",
    "internacionais e domésticos *não* foi dominante nos dois\n",
    "períodos, ou seja, as políticas de *esterilização*\n",
    "predominaram."
   ]
  },
  {
   "cell_type": "markdown",
   "metadata": {
    "editable": true,
    "nbpresent": {
     "id": "794d2206-833d-419a-b3b9-b12875162c7e"
    },
    "slideshow": {
     "slide_type": "fragment"
    },
    "tags": []
   },
   "source": [
    "A Grã-Bretanha foi a que mais seguiu as regras do jogo,\n",
    "mas mesmo assim somente em cerca de 50% dos casos\n",
    "no período clássico."
   ]
  },
  {
   "cell_type": "markdown",
   "metadata": {
    "slideshow": {
     "slide_type": "fragment"
    }
   },
   "source": [
    "Outros Bancos Centrais demonstraram uma adesão ainda menor às\n",
    "regras do jogo, como por exemplo no caso da França\n",
    "(26%)."
   ]
  },
  {
   "cell_type": "markdown",
   "metadata": {
    "slideshow": {
     "slide_type": "slide"
    }
   },
   "source": [
    "## Causas da assimetria\n",
    "\n",
    "Os dados anteriores sugerem que outros fatores além da\n",
    "situação do balanço de pagamentos influenciaram as\n",
    "políticas dos bancos centrais dos países."
   ]
  },
  {
   "cell_type": "markdown",
   "metadata": {
    "slideshow": {
     "slide_type": "fragment"
    }
   },
   "source": [
    "Possíveis fatores imediatos:"
   ]
  },
  {
   "cell_type": "markdown",
   "metadata": {
    "slideshow": {
     "slide_type": "fragment"
    }
   },
   "source": [
    "i) alguns bancos centrais eram privados (Inglaterra e\n",
    "França, p.ex.), de forma que afetariam ou perderiam\n",
    "clientes se elevassem suas taxas de juros como previsto\n",
    "na teoria;"
   ]
  },
  {
   "cell_type": "markdown",
   "metadata": {
    "slideshow": {
     "slide_type": "fragment"
    }
   },
   "source": [
    "ii) aumentos nas taxas de juros teriam impacto sobre o nível de\n",
    "atividade econômica e o serviço das dívidas públicas."
   ]
  },
  {
   "cell_type": "markdown",
   "metadata": {
    "editable": true,
    "nbpresent": {
     "id": "1a43feb9-1cad-4162-a6ad-b16662fbb6a4"
    },
    "slideshow": {
     "slide_type": "slide"
    },
    "tags": []
   },
   "source": [
    "## Bases da estabilidade\n",
    "\n",
    "Se as \"regras de jogo\" não foram dominantes na prática dos Bancos Centrais, então como o sistema monetário internacional sob o Padrão Ouro foi capaz de manter-se relativamente estável até a I Guerra Mundial?"
   ]
  },
  {
   "cell_type": "markdown",
   "metadata": {
    "editable": true,
    "slideshow": {
     "slide_type": "fragment"
    },
    "tags": []
   },
   "source": [
    "Para Eichengreen (2000), a condição básica da estabilidade foi \n"
   ]
  },
  {
   "cell_type": "markdown",
   "metadata": {
    "editable": true,
    "slideshow": {
     "slide_type": "fragment"
    },
    "tags": []
   },
   "source": [
    "\n",
    ">“a prioridade atribuída pelos governos à manutenção da conversibilidade da moeda em ouro”."
   ]
  },
  {
   "cell_type": "markdown",
   "metadata": {
    "editable": true,
    "slideshow": {
     "slide_type": "subslide"
    },
    "tags": []
   },
   "source": [
    "A defesa das reservas em ouro e do regime de câmbio\n",
    "fixo foi definida como estratégia central da política\n",
    "econômica. "
   ]
  },
  {
   "cell_type": "markdown",
   "metadata": {
    "slideshow": {
     "slide_type": "fragment"
    }
   },
   "source": [
    "Esse compromisso garantiu a credibilidade e\n",
    "a sustentação do Padrão Ouro pelos bancos centrais."
   ]
  },
  {
   "cell_type": "markdown",
   "metadata": {
    "slideshow": {
     "slide_type": "slide"
    }
   },
   "source": [
    "## Requisitos\n",
    "\n",
    "Por sua vez, para que o compromisso por parte dos governos pudesse ser mantido, *três* condições foram necessárias:"
   ]
  },
  {
   "cell_type": "markdown",
   "metadata": {
    "nbpresent": {
     "id": "8dde182b-545e-464d-86aa-93633eb83d31"
    },
    "slideshow": {
     "slide_type": "fragment"
    }
   },
   "source": [
    "i) isolamento dos bancos centrais de pressões sociais;"
   ]
  },
  {
   "cell_type": "markdown",
   "metadata": {
    "slideshow": {
     "slide_type": "fragment"
    }
   },
   "source": [
    "ii) baixo grau de organização e influência das\n",
    "organizações trabalhistas (sindicatos e partidos);"
   ]
  },
  {
   "cell_type": "markdown",
   "metadata": {
    "slideshow": {
     "slide_type": "fragment"
    }
   },
   "source": [
    "iii) ausência de teorias que estabelecessem uma relação\n",
    "direta entre defesa da conversibilidade e nível de\n",
    "atividade/emprego."
   ]
  },
  {
   "cell_type": "markdown",
   "metadata": {
    "slideshow": {
     "slide_type": "slide"
    }
   },
   "source": [
    "## Coordenação\n",
    "\n",
    "A coordenação entre bancos centrais foi a forma básica\n",
    "com que se expressou o compromisso com o Padrão\n",
    "Ouro."
   ]
  },
  {
   "cell_type": "markdown",
   "metadata": {
    "slideshow": {
     "slide_type": "fragment"
    }
   },
   "source": [
    "O Banco da Inglaterra atuou como “maestro da orquestra internacional”, por meio da política de taxa de juros e da coordenação da ação das autoridades monetárias\n",
    "como emprestadores de última instância."
   ]
  },
  {
   "cell_type": "markdown",
   "metadata": {
    "slideshow": {
     "slide_type": "fragment"
    }
   },
   "source": [
    "A cooperação entre bancos centrais foi vital, p.ex., na\n",
    "especulação contra a libra que se seguiu à crise do\n",
    "[Baring Bank](https://en.wikipedia.org/wiki/Baring_crisis) em 1890."
   ]
  },
  {
   "cell_type": "markdown",
   "metadata": {
    "slideshow": {
     "slide_type": "slide"
    }
   },
   "source": [
    "## Hegemonia inglesa\n",
    "\n",
    "Outro aspecto central para a estabilidade do Padrão Ouro\n",
    "foi o poder econômico da Inglaterra no período, apesar da\n",
    "emergência de novos competidores internacionais."
   ]
  },
  {
   "cell_type": "markdown",
   "metadata": {
    "slideshow": {
     "slide_type": "fragment"
    }
   },
   "source": [
    "As exportações de capital (saída de ouro) da Inglaterra eram\n",
    "compensadas pelas exportações de mercadorias (entrada de ouro), que\n",
    "atuavam assim como um mecanismo estabilizador do\n",
    "balanço de pagamentos."
   ]
  },
  {
   "cell_type": "markdown",
   "metadata": {
    "slideshow": {
     "slide_type": "fragment"
    }
   },
   "source": [
    "A estabilidade do balanço de pagamentos foi crucial para\n",
    "a atuação da Inglaterra enquanto país hegemônico no\n",
    "período clássico do Padrão Ouro."
   ]
  },
  {
   "cell_type": "markdown",
   "metadata": {
    "slideshow": {
     "slide_type": "slide"
    }
   },
   "source": [
    "## Meta dos bancos centrais\n",
    "\n",
    "Por que o isolamento dos bancos centrais de pressões\n",
    "sociais teria sido essencial para a estabilidade do\n",
    "sistema?"
   ]
  },
  {
   "cell_type": "markdown",
   "metadata": {
    "slideshow": {
     "slide_type": "fragment"
    }
   },
   "source": [
    "Os objetivos macroeconômicos básicos dos governos\n",
    "pré-1914 foram"
   ]
  },
  {
   "cell_type": "markdown",
   "metadata": {
    "slideshow": {
     "slide_type": "fragment"
    }
   },
   "source": [
    "a) no *plano externo*: manutenção da conversibilidade em\n",
    "ouro e da taxa de câmbio fixa;"
   ]
  },
  {
   "cell_type": "markdown",
   "metadata": {
    "slideshow": {
     "slide_type": "fragment"
    }
   },
   "source": [
    "b) no *plano doméstico*: orçamento equilibrado, baixas taxas de inflação. Por que baixas taxa de inflação eram essenciais?"
   ]
  },
  {
   "cell_type": "markdown",
   "metadata": {
    "editable": true,
    "slideshow": {
     "slide_type": "slide"
    },
    "tags": []
   },
   "source": [
    "## Apêndice: taxa de câmbio real\n",
    "\n",
    "Taxa de câmbio real, $e$ = $\\frac{EP^*}{P}$"
   ]
  },
  {
   "cell_type": "markdown",
   "metadata": {
    "editable": true,
    "slideshow": {
     "slide_type": "fragment"
    },
    "tags": []
   },
   "source": [
    "Onde:"
   ]
  },
  {
   "cell_type": "markdown",
   "metadata": {
    "slideshow": {
     "slide_type": "fragment"
    }
   },
   "source": [
    "- $E$ = taxa de câmbio nominal ou o preço da moeda estrangeira em termos da moeda local;"
   ]
  },
  {
   "cell_type": "markdown",
   "metadata": {
    "slideshow": {
     "slide_type": "fragment"
    }
   },
   "source": [
    "- $P^*$ = nível de preços no exterior (país \"estrangeiro\");"
   ]
  },
  {
   "cell_type": "markdown",
   "metadata": {
    "slideshow": {
     "slide_type": "fragment"
    }
   },
   "source": [
    "- $P$ = nível de preços domésticos (país \"local\")."
   ]
  },
  {
   "cell_type": "markdown",
   "metadata": {
    "slideshow": {
     "slide_type": "subslide"
    }
   },
   "source": [
    "- $EP^*$, portanto, corresponde ao preço dos bens estrangeiros em moeda local."
   ]
  },
  {
   "cell_type": "markdown",
   "metadata": {
    "slideshow": {
     "slide_type": "fragment"
    }
   },
   "source": [
    "- E a razão entre $P$ e $P^*$ define os preços relativos dos países."
   ]
  },
  {
   "cell_type": "markdown",
   "metadata": {
    "slideshow": {
     "slide_type": "subslide"
    }
   },
   "source": [
    "Exemplo: se a taxa de câmbio nominal Real/dólar for $E$ = R<span>$</span>4 e uma cesta de bens nos dois países (local e estrangeiro) que usam essas moedas custar\n",
    "\n",
    "$P^*$ = US<span>$</span>20 \n",
    "\n",
    "$P$ = R<span>$</span>80"
   ]
  },
  {
   "cell_type": "markdown",
   "metadata": {
    "slideshow": {
     "slide_type": "fragment"
    }
   },
   "source": [
    "A taxa de câmbio real, $e$, do país local será = $\\frac{4 * 20}{80}$ = $1$"
   ]
  },
  {
   "cell_type": "markdown",
   "metadata": {
    "editable": true,
    "slideshow": {
     "slide_type": "subslide"
    },
    "tags": []
   },
   "source": [
    "E se os preços do país local subissem 10% ($P$ = R<span>$</span>88)? "
   ]
  },
  {
   "cell_type": "markdown",
   "metadata": {
    "editable": true,
    "slideshow": {
     "slide_type": "fragment"
    },
    "tags": []
   },
   "source": [
    "Mantidos os mesmos $E$ e $P^*$, a nova taxa de câmbio real será = $\\frac{4 * 20}{88}$ = $0,91$."
   ]
  },
  {
   "cell_type": "markdown",
   "metadata": {
    "editable": true,
    "slideshow": {
     "slide_type": "fragment"
    },
    "tags": []
   },
   "source": [
    "Menor, portanto, do que a taxa de câmbio real anterior. Em outras palavras, a moeda doméstica sofreu *apreciação real* em relação à moeda estrangeira."
   ]
  },
  {
   "cell_type": "markdown",
   "metadata": {
    "editable": true,
    "slideshow": {
     "slide_type": "subslide"
    },
    "tags": []
   },
   "source": [
    "Qual o efeito esperado sobre as exportações da apreciação real da moeda local? Assume-se que o saldo líquido das exportações ($X - M$) seja uma função positiva da taxa de câmbio real. "
   ]
  },
  {
   "cell_type": "markdown",
   "metadata": {
    "editable": true,
    "slideshow": {
     "slide_type": "fragment"
    },
    "tags": []
   },
   "source": [
    "No exemplo, mantida a renda constante (além da taxa de câmbio nominal fixa), a elevação dos preços domésticos produziria apreciação da moeda local (queda da taxa de câmbio real) relativamente à moeda estrangeira e *redução* das exportações do país local (pois produtos do país local ficaram mais caros para país estrangeiro)."
   ]
  },
  {
   "cell_type": "markdown",
   "metadata": {
    "editable": true,
    "slideshow": {
     "slide_type": "slide"
    },
    "tags": []
   },
   "source": [
    "As importações, por sua vez, *aumentariam* em resposta à apreciação real da moeda (pois produtos do país estrangeiro ficaram mais baratos para país local)."
   ]
  },
  {
   "cell_type": "markdown",
   "metadata": {
    "editable": true,
    "slideshow": {
     "slide_type": "fragment"
    },
    "tags": []
   },
   "source": [
    "O efeito seria desequilíbrio externo, com necessidade de ajuste nas importações (redução) e exportações (aumento) - quais instrumentos disponíveis para esse ajuste?"
   ]
  },
  {
   "cell_type": "markdown",
   "metadata": {
    "editable": true,
    "slideshow": {
     "slide_type": "slide"
    },
    "tags": []
   },
   "source": [
    "## Questões\n",
    "\n",
    "Suponha que a economia mundial seja formada pelos países A e B, sob o regime do Padrão Ouro. O país A sofre com um déficit comercial. O que aconteceria em A e B diante desse desequilíbrio, segundo o modelo simples de David Hume? Agora inclua na pergunta anterior os mercados de capitais doméstico e internacional. Como seria o ajuste dos países A e B diante do desequilíbrio?\n",
    "\n",
    "Explique o que são as “regras do jogo” do regime monetário sob o Padrão Ouro. Sob tais regras, qual seria o comportamento dos bancos centrais dos países A e B na pergunta anterior?\n",
    "\n",
    "Compare o funcionamento teórico das regras do jogo e os dados da política macro dos países sob o Padrão Ouro (ver tabela). Como se comportaram as variáveis monetárias?\n",
    "\n",
    "O que significa dizer que os bancos centrais elegeram como prioridade o equilíbrio externo em detrimento do equilíbrio interno? Dê exemplos e avalie suas consequências para o balanço do pagamentos e o nível de atividade econômica."
   ]
  }
 ],
 "metadata": {
  "celltoolbar": "Slideshow",
  "kernelspec": {
   "display_name": "Python 3 (ipykernel)",
   "language": "python",
   "name": "python3"
  },
  "language_info": {
   "codemirror_mode": {
    "name": "ipython",
    "version": 3
   },
   "file_extension": ".py",
   "mimetype": "text/x-python",
   "name": "python",
   "nbconvert_exporter": "python",
   "pygments_lexer": "ipython3",
   "version": "3.8.20"
  },
  "toc": {
   "base_numbering": 1,
   "nav_menu": {},
   "number_sections": false,
   "sideBar": true,
   "skip_h1_title": false,
   "title_cell": "Table of Contents",
   "title_sidebar": "Contents",
   "toc_cell": false,
   "toc_position": {},
   "toc_section_display": true,
   "toc_window_display": false
  }
 },
 "nbformat": 4,
 "nbformat_minor": 4
}
