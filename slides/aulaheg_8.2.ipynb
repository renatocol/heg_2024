{
 "cells": [
  {
   "cell_type": "markdown",
   "metadata": {
    "editable": true,
    "nbpresent": {
     "id": "452305db-662c-4b4e-aa92-79d92fa4544d"
    },
    "slideshow": {
     "slide_type": "slide"
    },
    "tags": []
   },
   "source": [
    "## <center>História Econômica Geral - FEA-USP</center>\n",
    "\n",
    "### <center>Aula 8 - Indústria e Tecnologia: Por que Inglaterra? (parte 2)</center>\n",
    "\n",
    "#### <center>Renato Perim Colistete</center>\n",
    "\n",
    "\n",
    "#### <center>2024</center>"
   ]
  },
  {
   "cell_type": "markdown",
   "metadata": {
    "editable": true,
    "nbpresent": {
     "id": "1fc7160f-beb4-4997-9c3f-0553e0592605"
    },
    "slideshow": {
     "slide_type": "slide"
    },
    "tags": []
   },
   "source": [
    "## Objetivos\n",
    "\n",
    "Para encerrar o tópico sobre a Revolução Industrial,\n",
    "voltaremos à pergunta: por que Inglaterra?\n",
    "\n",
    "Vamos retornar à classificação dos principais fatores\n",
    "responsáveis pelo desenvolvimento tecnológico vistos pelo ângulo\n",
    "da oferta e demanda.\n",
    "\n",
    "E depois veremos uma resposta à pergunta anterior\n",
    "baseada na demanda, via preços dos fatores e da energia."
   ]
  },
  {
   "cell_type": "markdown",
   "metadata": {
    "nbpresent": {
     "id": "1acbc207-c8bb-4376-a328-421bbf9520c4"
    },
    "slideshow": {
     "slide_type": "slide"
    }
   },
   "source": [
    "## Oferta e demanda\n",
    "\n",
    "Como vimos antes, entre as abordagens que enfatizam a tecnologia como determinante da Revolução Industrial, podemos dividir as interpretações em dois tipos: as que enfatizam a oferta de inovações e as que privilegiam a demanda de inovações."
   ]
  },
  {
   "cell_type": "markdown",
   "metadata": {
    "editable": true,
    "nbpresent": {
     "id": "f3dfbdf9-fe1d-4356-9ad0-df395911e6f3"
    },
    "slideshow": {
     "slide_type": "fragment"
    },
    "tags": []
   },
   "source": [
    "Pelo lado da oferta, os autores argumentam que o elevado nível de alfabetização, a cultura científica e a atividade inventiva determinaram a primazia da Inglaterra. Vimos um exemplo com a hipótese da importância de cultura científica e habilidades (*skills*) de Joel Moky e Margaret Jacob em aula anterior."
   ]
  },
  {
   "cell_type": "markdown",
   "metadata": {
    "editable": true,
    "slideshow": {
     "slide_type": "fragment"
    },
    "tags": []
   },
   "source": [
    "Já pelo lado da demanda, uma outra hipótese sustenta que os preços dos fatores (trabalho e capital) e dos insumos (carvão) foram os fatores mais decisivos para explicar a excepcionalidade da Inglaterra. Vejamos este argumento a seguir, proposto por Robert Allen."
   ]
  },
  {
   "cell_type": "markdown",
   "metadata": {
    "editable": true,
    "nbpresent": {
     "id": "13c81a42-221c-45fd-bde2-343bbcc74678"
    },
    "slideshow": {
     "slide_type": "slide"
    },
    "tags": []
   },
   "source": [
    "## Preços relativos\n",
    "\n",
    "Como os preços dos fatores afetaram a demanda por tecnologia? A tese central é que, na Inglaterra:"
   ]
  },
  {
   "cell_type": "markdown",
   "metadata": {
    "editable": true,
    "nbpresent": {
     "id": "69b2baa0-ed18-483e-8653-50f0e5c1d94f"
    },
    "slideshow": {
     "slide_type": "fragment"
    },
    "tags": []
   },
   "source": [
    "a) os altos salários e b) os baixos preços do carvão mineral, combinados, teriam constituído um grande incentivo à *substituição de trabalho por capital e ao amplo uso dessa fonte de energia*."
   ]
  },
  {
   "cell_type": "markdown",
   "metadata": {
    "editable": true,
    "nbpresent": {
     "id": "1674bcc2-8448-4b20-8203-e741d2f6048b"
    },
    "slideshow": {
     "slide_type": "fragment"
    },
    "tags": []
   },
   "source": [
    "O resultado apareceu na forma de soluções tecnológicas intensivas em capital e energia, gerando impacto direto sobre inovações e produtividade. Vejamos melhor a seguir."
   ]
  },
  {
   "cell_type": "markdown",
   "metadata": {
    "editable": true,
    "nbpresent": {
     "id": "8b4f0472-cccb-4d13-abbd-187d93bc9309"
    },
    "slideshow": {
     "slide_type": "slide"
    },
    "tags": []
   },
   "source": [
    "## Capital humano\n",
    "\n",
    "Notar que este argumento presume também um efeito pelo lado da oferta via capital humano "
   ]
  },
  {
   "cell_type": "markdown",
   "metadata": {
    "editable": true,
    "nbpresent": {
     "id": "794d2206-833d-419a-b3b9-b12875162c7e"
    },
    "slideshow": {
     "slide_type": "fragment"
    },
    "tags": []
   },
   "source": [
    "A atividade inventiva e a capacidade de realizar inovações incrementais e radicais foram viabilizadas por níveis elevados de alfabetização e habilidades mecânicas (*skills*) = capital humano."
   ]
  },
  {
   "cell_type": "markdown",
   "metadata": {
    "editable": true,
    "slideshow": {
     "slide_type": "fragment"
    },
    "tags": []
   },
   "source": [
    "Mesmo assim, segundo o argumento, esse fator *não* diferenciaria a Inglaterra de outros países avançados da Europa."
   ]
  },
  {
   "cell_type": "markdown",
   "metadata": {
    "editable": true,
    "slideshow": {
     "slide_type": "slide"
    },
    "tags": []
   },
   "source": [
    "## Demanda de trabalho qualificado\n",
    "\n",
    "Há outro mecanismo adicional e complementar: o preço mais elevado do trabalho levou a uma produção industrial mais intensiva em capital, o que era equivalente ao uso mais intensivo de tecnologia."
   ]
  },
  {
   "cell_type": "markdown",
   "metadata": {
    "editable": true,
    "slideshow": {
     "slide_type": "fragment"
    },
    "tags": []
   },
   "source": [
    "O maior emprego de tecnologia, por sua vez, aumentava a demanda por trabalho qualificado, em um efeito recíproco entre preço do trabalho <-> tecnologia <-> demanda de trabalho qualificado."
   ]
  },
  {
   "cell_type": "markdown",
   "metadata": {
    "editable": true,
    "slideshow": {
     "slide_type": "fragment"
    },
    "tags": []
   },
   "source": [
    "Em outras palavras, a trajetória tecnológica da industrialização britânica reforçava a demanda por trabalho qualificado, mesmo com este possuindo um preço relativamente elevado."
   ]
  },
  {
   "cell_type": "markdown",
   "metadata": {
    "nbpresent": {
     "id": "1a43feb9-1cad-4162-a6ad-b16662fbb6a4"
    },
    "slideshow": {
     "slide_type": "slide"
    }
   },
   "source": [
    "## Salário e capital\n",
    "\n",
    "Resumindo então: o *primeiro* efeito relevante pelo lado da demanda teria se dado via *salários*. A partir de meados do século XVII, os salários na Inglaterra cresceram relativamente mais do que o preço do capital. Uma causa central: urbanização e alta demanda por produção e trabalho agrícola."
   ]
  },
  {
   "cell_type": "markdown",
   "metadata": {
    "slideshow": {
     "slide_type": "fragment"
    }
   },
   "source": [
    "Conforme o trabalho se tornava relativamente mais escasso e caro do que o capital, houve incentivo para investir-se em processos produtivos intensivos em capital. Como medir?"
   ]
  },
  {
   "cell_type": "markdown",
   "metadata": {
    "slideshow": {
     "slide_type": "fragment"
    }
   },
   "source": [
    "Dados do preço do capital = média dos preços de ferro, metais não-ferrosos, tijolo e madeira multiplicada por uma taxa de juros mais a depreciação estimada. Dados de salário = trabalhadores da construção civil."
   ]
  },
  {
   "cell_type": "markdown",
   "metadata": {
    "slideshow": {
     "slide_type": "subslide"
    }
   },
   "source": [
    "#### <center>Razão salários/preço do capital</center>\n",
    "\n",
    "<center><img src=\"sal_pre.jpeg\" width=\"700\"></center>"
   ]
  },
  {
   "cell_type": "markdown",
   "metadata": {
    "editable": true,
    "nbpresent": {
     "id": "8dde182b-545e-464d-86aa-93633eb83d31"
    },
    "slideshow": {
     "slide_type": "slide"
    },
    "tags": []
   },
   "source": [
    "## Razão salário/preço de energia\n",
    "\n",
    "O *segundo* efeito pelo lado da demanda teria se dado via *preço de energia*. "
   ]
  },
  {
   "cell_type": "markdown",
   "metadata": {
    "editable": true,
    "slideshow": {
     "slide_type": "fragment"
    },
    "tags": []
   },
   "source": [
    "A abundância e o baixo preço do carvão mineral na Inglaterra favoreceram o seu uso intensivo, conforme o gráfico a seguir:"
   ]
  },
  {
   "cell_type": "markdown",
   "metadata": {
    "editable": true,
    "slideshow": {
     "slide_type": "subslide"
    },
    "tags": []
   },
   "source": [
    "#### <center>Razão salários/preço da energia</center>\n",
    "\n",
    "<center><img src=\"sal_ener.jpeg\" width=\"700\" ></center>"
   ]
  },
  {
   "cell_type": "markdown",
   "metadata": {
    "editable": true,
    "nbpresent": {
     "id": "383dda45-dccb-4fde-a663-f4b4f94a501e"
    },
    "slideshow": {
     "slide_type": "slide"
    },
    "tags": []
   },
   "source": [
    "## Efeito sobre produtividade\n",
    "\n",
    "Diante de um nível de salário elevado, outra alternativa (em vez de aumento da relação K/L) seria haver aumento da produtividade do trabalho pelo menos na mesma proporção, de modo que o aumento do custo de produção fosse nulo."
   ]
  },
  {
   "cell_type": "markdown",
   "metadata": {
    "editable": true,
    "slideshow": {
     "slide_type": "fragment"
    },
    "tags": []
   },
   "source": [
    "Para avaliar esse possível resultado, é necessário entender o conceito de *custo unitário do trabalho*."
   ]
  },
  {
   "cell_type": "markdown",
   "metadata": {
    "editable": true,
    "slideshow": {
     "slide_type": "fragment"
    },
    "tags": []
   },
   "source": [
    "Ver as definições a seguir."
   ]
  },
  {
   "cell_type": "markdown",
   "metadata": {
    "editable": true,
    "slideshow": {
     "slide_type": "slide"
    },
    "tags": []
   },
   "source": [
    "## Salário e produtividade\n",
    "\n",
    "Primeiro, definimos o salário relevante para as firmas - o salário-produto. (Por que? Qual a diferença em relação ao salário-consumo?)."
   ]
  },
  {
   "cell_type": "markdown",
   "metadata": {
    "editable": true,
    "slideshow": {
     "slide_type": "fragment"
    },
    "tags": []
   },
   "source": [
    "Representando o salário nominal como $= {w_n}$,"
   ]
  },
  {
   "cell_type": "markdown",
   "metadata": {
    "editable": true,
    "slideshow": {
     "slide_type": "fragment"
    },
    "tags": []
   },
   "source": [
    "o salário-produto ${w_r}$ é o salário nominal, ${w_n}$, deflacionado por um índice de preço ao produtor, ${P}$, isto é:"
   ]
  },
  {
   "cell_type": "markdown",
   "metadata": {
    "editable": true,
    "slideshow": {
     "slide_type": "fragment"
    },
    "tags": []
   },
   "source": [
    "salário-produto$, w_r = \\frac{w_n}{P}$"
   ]
  },
  {
   "cell_type": "markdown",
   "metadata": {
    "editable": true,
    "slideshow": {
     "slide_type": "slide"
    },
    "tags": []
   },
   "source": [
    "## Produtividade do trabalho\n",
    "\n",
    "Também precisamos definir a produtividade do trabalho, ${lp}$, que é dada pelo produto, ${O}$, dividido pelo trabalho, ${L}$, sendo ${L}$ medido por horas de trabalho ou número de trabalhadores."
   ]
  },
  {
   "cell_type": "markdown",
   "metadata": {
    "editable": true,
    "slideshow": {
     "slide_type": "fragment"
    },
    "tags": []
   },
   "source": [
    "Ou seja, produtividade do trabalho$, lp = \\frac{O}{L}$"
   ]
  },
  {
   "cell_type": "markdown",
   "metadata": {
    "editable": true,
    "slideshow": {
     "slide_type": "slide"
    },
    "tags": []
   },
   "source": [
    "## Custo unitário do trabalho\n",
    "\n",
    "Por fim, com a razão entre salário-produto e produtividade do trabalho obtém-se o conceito de **custo unitário do trabalho** (*unit labor cost* ou **ulc**):"
   ]
  },
  {
   "cell_type": "markdown",
   "metadata": {
    "editable": true,
    "slideshow": {
     "slide_type": "fragment"
    },
    "tags": []
   },
   "source": [
    "custo unitário do trabalho$, ulc = \\frac{w_r}{lp}$"
   ]
  },
  {
   "cell_type": "markdown",
   "metadata": {
    "editable": true,
    "slideshow": {
     "slide_type": "fragment"
    },
    "tags": []
   },
   "source": [
    "Ver resultados como ilustração: taxa de crescimento de a) ${w_r} =$ 5% e ${lp} =$ 3%; b) ${w_r} =$ 7% e ${lp} =$ 10%."
   ]
  },
  {
   "cell_type": "markdown",
   "metadata": {
    "editable": true,
    "slideshow": {
     "slide_type": "slide"
    },
    "tags": []
   },
   "source": [
    "## Capital e Trabalho\n",
    "\n",
    "Mas, como dissemos, no caso do argumento de Allen, assume-se que esse efeito – mesmo que tenha ocorrido – não foi suficiente para impedir o aumento da intensidade de K."
   ]
  },
  {
   "cell_type": "markdown",
   "metadata": {
    "editable": true,
    "slideshow": {
     "slide_type": "fragment"
    },
    "tags": []
   },
   "source": [
    "Assim, dados os preços dos fatores (K e L), houve incentivo para substituição de trabalho por capital (aumento da relação K/L), elevando da mesma forma a razão K/produto."
   ]
  },
  {
   "cell_type": "markdown",
   "metadata": {
    "editable": true,
    "slideshow": {
     "slide_type": "fragment"
    },
    "tags": []
   },
   "source": [
    "O aumento de produtividade (produto/K e produto/L) foi resultado das inovações tecnológicas radicais e incrementais que marcaram a Revolução Industrial britânica."
   ]
  },
  {
   "cell_type": "markdown",
   "metadata": {
    "editable": true,
    "slideshow": {
     "slide_type": "subslide"
    },
    "tags": []
   },
   "source": [
    "Resumindo: a *dotação particular de fatores* (K, L e carvão) da Inglaterra e os *preços relativos* resultantes da oferta desses fatores teriam levado a uma trajetória de crescimento intensiva em tecnologia e produtividade, constituindo a *causa* determinante da Revolução Industrial Britânica."
   ]
  },
  {
   "cell_type": "markdown",
   "metadata": {
    "editable": true,
    "slideshow": {
     "slide_type": "slide"
    },
    "tags": []
   },
   "source": [
    "### Questões\n",
    "\n",
    "Compare as abordagens que enfatizam oferta ou demanda\n",
    "para explicar o salto tecnológico na Inglaterra durante a\n",
    "Revolução Industrial (utilize também a aula anterior).\n",
    "\n",
    "Demonstre como a interação entre preços dos fatores e\n",
    "energia gerou incentivos para o desenvolvimento\n",
    "tecnológico. Seria um resultado inevitável? (compare com\n",
    "uma situação sem aumento da intensidade do K)\n",
    "\n",
    "De que forma a busca de soluções tecnológicas em uma\n",
    "economia de alto salários pode ter resultado em um\n",
    "aumento sustentado da produtividade?"
   ]
  }
 ],
 "metadata": {
  "celltoolbar": "Slideshow",
  "kernelspec": {
   "display_name": "Python 3 (ipykernel)",
   "language": "python",
   "name": "python3"
  },
  "language_info": {
   "codemirror_mode": {
    "name": "ipython",
    "version": 3
   },
   "file_extension": ".py",
   "mimetype": "text/x-python",
   "name": "python",
   "nbconvert_exporter": "python",
   "pygments_lexer": "ipython3",
   "version": "3.8.19"
  },
  "toc": {
   "base_numbering": 1,
   "nav_menu": {},
   "number_sections": false,
   "sideBar": true,
   "skip_h1_title": false,
   "title_cell": "Table of Contents",
   "title_sidebar": "Contents",
   "toc_cell": false,
   "toc_position": {},
   "toc_section_display": true,
   "toc_window_display": false
  }
 },
 "nbformat": 4,
 "nbformat_minor": 4
}
