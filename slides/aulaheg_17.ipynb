{
 "cells": [
  {
   "cell_type": "markdown",
   "metadata": {
    "editable": true,
    "nbpresent": {
     "id": "452305db-662c-4b4e-aa92-79d92fa4544d"
    },
    "slideshow": {
     "slide_type": "slide"
    },
    "tags": []
   },
   "source": [
    "## <center>História Econômica Geral - FEA-USP</center>\n",
    "\n",
    "### <center>Aula 17 - A Economia Política da Recuperação: Estados Unidos</center>\n",
    "\n",
    "#### <center>Renato Perim Colistete</center>\n",
    "\n",
    "\n",
    "#### <center>2024</center>"
   ]
  },
  {
   "cell_type": "markdown",
   "metadata": {
    "editable": true,
    "nbpresent": {
     "id": "1fc7160f-beb4-4997-9c3f-0553e0592605"
    },
    "slideshow": {
     "slide_type": "slide"
    },
    "tags": []
   },
   "source": [
    "## Objetivos\n",
    "\n",
    "Nesta aula analisaremos o programa lançado pelo presidente dos EUA, Franklin Delano Roosevelt, em março de 1933: o New Deal. O objetivo é descrever as principais medidas do New Deal. \n",
    "\n",
    "Começamos tratando das políticas para o sistema bancário, agricultura e indústria, além de obras públicas.\n",
    "\n",
    "Em seguida, abordamos as instituições do mercado de trabalho e bem-estar social. Ao final, avaliamos os resultados."
   ]
  },
  {
   "cell_type": "markdown",
   "metadata": {
    "editable": true,
    "nbpresent": {
     "id": "1acbc207-c8bb-4376-a328-421bbf9520c4"
    },
    "slideshow": {
     "slide_type": "slide"
    },
    "tags": []
   },
   "source": [
    "## Início\n",
    "\n",
    "A posse de Roosevelt ocorreu em 4/3/1933. Já em 6 de março foi decretado feriado bancário, prolongado até 15/3. Em 9 de março, o novo governo enviou ao Congresso o Emergency Banking Act, aprovado no mesmo dia."
   ]
  },
  {
   "cell_type": "markdown",
   "metadata": {
    "editable": true,
    "nbpresent": {
     "id": "f3dfbdf9-fe1d-4356-9ad0-df395911e6f3"
    },
    "slideshow": {
     "slide_type": "fragment"
    },
    "tags": []
   },
   "source": [
    "Início dos primeiros “100 dias”, de intensa produção de medidas emergenciais."
   ]
  },
  {
   "cell_type": "markdown",
   "metadata": {
    "editable": true,
    "slideshow": {
     "slide_type": "fragment"
    },
    "tags": []
   },
   "source": [
    "As medidas foram tentativas e não seguiram um plano coerente, uma característica por todo o New Deal. Já de início, elas envolveram participação direta dos estados, em particular."
   ]
  },
  {
   "cell_type": "markdown",
   "metadata": {
    "editable": true,
    "nbpresent": {
     "id": "13c81a42-221c-45fd-bde2-343bbcc74678"
    },
    "slideshow": {
     "slide_type": "slide"
    },
    "tags": []
   },
   "source": [
    "## Bancos\n",
    "\n",
    "Pontos principais do *Emergency Banking Act*:"
   ]
  },
  {
   "cell_type": "markdown",
   "metadata": {
    "editable": true,
    "nbpresent": {
     "id": "69b2baa0-ed18-483e-8653-50f0e5c1d94f"
    },
    "slideshow": {
     "slide_type": "fragment"
    },
    "tags": []
   },
   "source": [
    "a) Reformulação da *Reconstruction Finance Corporation* (Hoover) – além de oferta de crédito ao setor bancário, compra de ações de bancos e empréstimo para várias atividades: agricultura, exportação, governos, habitação, entre outros;"
   ]
  },
  {
   "cell_type": "markdown",
   "metadata": {
    "editable": true,
    "slideshow": {
     "slide_type": "fragment"
    },
    "tags": []
   },
   "source": [
    "b) plano para reabertura dos bancos em dificuldades e que ainda se mostrassem viáveis (mais de 4.000 bancos quebraram em 1933);"
   ]
  },
  {
   "cell_type": "markdown",
   "metadata": {
    "editable": true,
    "nbpresent": {
     "id": "1674bcc2-8448-4b20-8203-e741d2f6048b"
    },
    "slideshow": {
     "slide_type": "subslide"
    },
    "tags": []
   },
   "source": [
    "c) centralização de todas as reservas em ouro (ver a seguir)."
   ]
  },
  {
   "cell_type": "markdown",
   "metadata": {
    "editable": true,
    "nbpresent": {
     "id": "8b4f0472-cccb-4d13-abbd-187d93bc9309"
    },
    "slideshow": {
     "slide_type": "slide"
    },
    "tags": []
   },
   "source": [
    "## Abandono do Padrão Ouro\n",
    "\n",
    "O *Emergency Banking Act* e outras medidas posteriores levaram à suspensão da conversibilidade do dólar e ao abandono do Padrão Ouro."
   ]
  },
  {
   "cell_type": "markdown",
   "metadata": {
    "editable": true,
    "nbpresent": {
     "id": "794d2206-833d-419a-b3b9-b12875162c7e"
    },
    "slideshow": {
     "slide_type": "fragment"
    },
    "tags": []
   },
   "source": [
    "Já no dia 10/3/1933 as transações com ouro e moedas estrangeiras foram proibidas, exceto com autorização do Tesouro."
   ]
  },
  {
   "cell_type": "markdown",
   "metadata": {
    "editable": true,
    "slideshow": {
     "slide_type": "fragment"
    },
    "tags": []
   },
   "source": [
    "Em seguida, o dólar flutuou livremente até alcançar um novo nível estável (em 1934)."
   ]
  },
  {
   "cell_type": "markdown",
   "metadata": {
    "editable": true,
    "slideshow": {
     "slide_type": "slide"
    },
    "tags": []
   },
   "source": [
    "## Desemprego\n",
    "\n",
    "Em 31/3/1933 foi lançado o *Civilian Conservation Corps Reforestation Act*, para alívio do desemprego para jovens de famílias desempregadas."
   ]
  },
  {
   "cell_type": "markdown",
   "metadata": {
    "editable": true,
    "slideshow": {
     "slide_type": "fragment"
    },
    "tags": []
   },
   "source": [
    "Apenas homens incluídos, com idade de 18 a 25 anos, por 6 meses renováveis até 2 anos, com salário mensal. Trabalho supervisionado por militares em acampamentos (mais de 4.000) por todo o país."
   ]
  },
  {
   "cell_type": "markdown",
   "metadata": {
    "editable": true,
    "slideshow": {
     "slide_type": "fragment"
    },
    "tags": []
   },
   "source": [
    "O trabalho nesse programa incluía reflorestamento, construção de estradas, parques, entre outros. Até 1941, mais de 2 milhões de trabalhadores desempregados foram recrutados."
   ]
  },
  {
   "cell_type": "markdown",
   "metadata": {
    "editable": true,
    "nbpresent": {
     "id": "1a43feb9-1cad-4162-a6ad-b16662fbb6a4"
    },
    "slideshow": {
     "slide_type": "slide"
    },
    "tags": []
   },
   "source": [
    "## Estados e agricultura\n",
    "\n",
    "*Federal Emergency Relief Administration* (FERA) criada por lei em 12/5/1933, voltada à assistência aos estados para auxílio aos desempregados."
   ]
  },
  {
   "cell_type": "markdown",
   "metadata": {
    "editable": true,
    "slideshow": {
     "slide_type": "fragment"
    },
    "tags": []
   },
   "source": [
    "Para o setor agrícola, foi criada a *Agricultural Adjustment Act/Administration* (AAA), em 12/5/1933. "
   ]
  },
  {
   "cell_type": "markdown",
   "metadata": {
    "editable": true,
    "slideshow": {
     "slide_type": "fragment"
    },
    "tags": []
   },
   "source": [
    "Essa agência determinou a limitação ou redução da área plantada/estoque de produtos agropecuários, fixou preços \n",
    "mínimos e refinanciou hipotecas nos estados."
   ]
  },
  {
   "cell_type": "markdown",
   "metadata": {
    "editable": true,
    "slideshow": {
     "slide_type": "slide"
    },
    "tags": []
   },
   "source": [
    "## Bancos e indústria\n",
    "\n",
    "O *Glass-Steagall Act* (16/6/1933) criou o *Federal Deposit Insurance Corporation* (FDIC), garantindo depósitos bancários até US$ 5.000 (valores da época)."
   ]
  },
  {
   "cell_type": "markdown",
   "metadata": {
    "editable": true,
    "nbpresent": {
     "id": "8dde182b-545e-464d-86aa-93633eb83d31"
    },
    "slideshow": {
     "slide_type": "fragment"
    },
    "tags": []
   },
   "source": [
    "Uma outra lei, *National Industrial Recovery Act* (NIRA) de 16/6/1933, criou um novo órgão, a *National Recovery Administration* (NRA)."
   ]
  },
  {
   "cell_type": "markdown",
   "metadata": {
    "editable": true,
    "slideshow": {
     "slide_type": "fragment"
    },
    "tags": []
   },
   "source": [
    "A NRA destinou-se a promover a recuperação da produção industrial e reduzir o desemprego, tentando conter a espiral deflacionária resultante de concorrência acirrada das empresas."
   ]
  },
  {
   "cell_type": "markdown",
   "metadata": {
    "editable": true,
    "slideshow": {
     "slide_type": "slide"
    },
    "tags": []
   },
   "source": [
    "## Diagnóstico\n",
    "\n",
    "O diagnóstico da NRA era que havia excesso de oferta e concorrência destrutiva das empresas. Evidência: queda de 37% dos preços dos alimentos entre 1929-33."
   ]
  },
  {
   "cell_type": "markdown",
   "metadata": {
    "editable": true,
    "slideshow": {
     "slide_type": "fragment"
    },
    "tags": []
   },
   "source": [
    "A legislação do NIRA permitiu, excepcionalmente, a suspensão das leis antitruste em indústrias que adotassem um “código de concorrência justa”."
   ]
  },
  {
   "cell_type": "markdown",
   "metadata": {
    "editable": true,
    "slideshow": {
     "slide_type": "fragment"
    },
    "tags": []
   },
   "source": [
    "O arranjo previa que as empresas que aderissem garantiriam direitos básicos aos trabalhadores em troca de poderem fixar um piso mínimo de preços entre elas."
   ]
  },
  {
   "cell_type": "markdown",
   "metadata": {
    "editable": true,
    "slideshow": {
     "slide_type": "slide"
    },
    "tags": []
   },
   "source": [
    "## Preços e salários\n",
    "\n",
    "Entre os direitos básicos dos trabalhadores previstos no programa, figuravam: salário mínimo, jornada semanal de 35 a 45 horas de trabalho, fim do trabalho infantil."
   ]
  },
  {
   "cell_type": "markdown",
   "metadata": {
    "editable": true,
    "slideshow": {
     "slide_type": "fragment"
    },
    "tags": []
   },
   "source": [
    "Ou seja, a meta era coordenar as ações de empresas e trabalhadores como forma de conter a espiral baixista de preços e salários que havia iniciado com a crise de 1929."
   ]
  },
  {
   "cell_type": "markdown",
   "metadata": {
    "editable": true,
    "slideshow": {
     "slide_type": "fragment"
    },
    "tags": []
   },
   "source": [
    "Em 1 ano, a maior parte das indústrias, compreendendo 23 milhões de trabalhadores, havia adotado “códigos de concorrência justa”; em janeiro de 1934, os acordos cobriam 90% da força de trabalho industrial."
   ]
  },
  {
   "cell_type": "markdown",
   "metadata": {
    "editable": true,
    "slideshow": {
     "slide_type": "slide"
    },
    "tags": []
   },
   "source": [
    "## Resultados\n",
    "\n",
    "Os resultados imediatos: preços pararam de cair e reverteram a tendência; salários passaram a crescer (mais do que preços, em alguns casos). Produção industrial também reverteu tendência de queda."
   ]
  },
  {
   "cell_type": "markdown",
   "metadata": {
    "editable": true,
    "slideshow": {
     "slide_type": "fragment"
    },
    "tags": []
   },
   "source": [
    "Porém, em maio de 1935, a NRA foi declarada inconstitucional pela Suprema Corte, por dar ao executivo poderes que caberiam ao legislativo."
   ]
  },
  {
   "cell_type": "markdown",
   "metadata": {
    "editable": true,
    "slideshow": {
     "slide_type": "fragment"
    },
    "tags": []
   },
   "source": [
    "O *National Industrial Recovery Act* (mas não a *National Recovery Administration*) foi sucedido por uma nova legislação em seguida (ver adiante)."
   ]
  },
  {
   "cell_type": "markdown",
   "metadata": {
    "editable": true,
    "slideshow": {
     "slide_type": "slide"
    },
    "tags": []
   },
   "source": [
    "## Mais obras públicas\n",
    "\n",
    "*Civil Works Administration* (CWA), criada em novembro de 1933: contratou desempregados para manutenção e construção de rodovias, prédios e parques públicos."
   ]
  },
  {
   "cell_type": "markdown",
   "metadata": {
    "editable": true,
    "slideshow": {
     "slide_type": "fragment"
    },
    "tags": []
   },
   "source": [
    "Encerrada em março de 1934, a CWA foi substituída por legislação similar logo em seguida. "
   ]
  },
  {
   "cell_type": "markdown",
   "metadata": {
    "editable": true,
    "slideshow": {
     "slide_type": "fragment"
    },
    "tags": []
   },
   "source": [
    "Em 1935, havia mais de 2,5 milhões de pessoas no programa."
   ]
  },
  {
   "cell_type": "markdown",
   "metadata": {
    "editable": true,
    "slideshow": {
     "slide_type": "slide"
    },
    "tags": []
   },
   "source": [
    "## Mais auxílio à agricultura\n",
    "\n",
    "Nova lei, *Federal Farm Bankruptcy Act*, junho de 1934, cujo objetivo era socorrer agricultores insolventes."
   ]
  },
  {
   "cell_type": "markdown",
   "metadata": {
    "editable": true,
    "slideshow": {
     "slide_type": "fragment"
    },
    "tags": []
   },
   "source": [
    "Produtores rurais falidos poderiam recomprar a propriedade de credores, a um preço inferior ao de mercado e com crédito público (federal), a ser amortizado em 6 anos à taxa de juros de 1%."
   ]
  },
  {
   "cell_type": "markdown",
   "metadata": {
    "editable": true,
    "slideshow": {
     "slide_type": "fragment"
    },
    "tags": []
   },
   "source": [
    "Essas medidas são ilustrativas do que é chamado de “Primeiro New Deal”, consideradas emergenciais. Vejamos agora a segunda fase."
   ]
  },
  {
   "cell_type": "markdown",
   "metadata": {
    "editable": true,
    "slideshow": {
     "slide_type": "slide"
    },
    "tags": []
   },
   "source": [
    "## Segundo New Deal\n",
    "\n",
    "A partir de 1935, o foco do governo Roosevelt voltou-se a reformas mais estruturais e duradouras. E pelo menos para alguns autores, foram reformas mais radicais e favoráveis aos trabalhadores."
   ]
  },
  {
   "cell_type": "markdown",
   "metadata": {
    "editable": true,
    "slideshow": {
     "slide_type": "fragment"
    },
    "tags": []
   },
   "source": [
    "O Partido Democrata obteve maioria significativa nas eleições para o Congresso em 1934, indicando a popularidade das medidas do New Deal."
   ]
  },
  {
   "cell_type": "markdown",
   "metadata": {
    "editable": true,
    "slideshow": {
     "slide_type": "fragment"
    },
    "tags": []
   },
   "source": [
    "Em 1/1/1935, Roosevelt apresentou ao Congresso uma proposta ampla de reformas, que passou a ser conhecida como “Segundo New Deal”."
   ]
  },
  {
   "cell_type": "markdown",
   "metadata": {
    "editable": true,
    "slideshow": {
     "slide_type": "subslide"
    },
    "tags": []
   },
   "source": [
    "## Legislação social\n",
    "\n",
    "Uma das medidas foi o *Social Security Act*, de agosto de 1935, que incluía:"
   ]
  },
  {
   "cell_type": "markdown",
   "metadata": {
    "editable": true,
    "slideshow": {
     "slide_type": "fragment"
    },
    "tags": []
   },
   "source": [
    "a) seguro-desemprego; b) pensões e aposentadorias financiadas por imposto sobre empregados e empregadores."
   ]
  },
  {
   "cell_type": "markdown",
   "metadata": {
    "editable": true,
    "slideshow": {
     "slide_type": "fragment"
    },
    "tags": []
   },
   "source": [
    "Uma outra importante medida foi a *Works Progress Administration* (WPA), criada pelo *Emergency Relief Appropriation Act* (abril 1935): amplo programa de combate ao desemprego por meio de obras e serviços públicos. "
   ]
  },
  {
   "cell_type": "markdown",
   "metadata": {
    "editable": true,
    "slideshow": {
     "slide_type": "slide"
    },
    "tags": []
   },
   "source": [
    "## Desemprego\n",
    "\n",
    "O programa da *Works Progress Administration* (WPA):"
   ]
  },
  {
   "cell_type": "markdown",
   "metadata": {
    "editable": true,
    "slideshow": {
     "slide_type": "fragment"
    },
    "tags": []
   },
   "source": [
    "- contemplava trabalhadores de áreas urbanas e rurais;"
   ]
  },
  {
   "cell_type": "markdown",
   "metadata": {
    "editable": true,
    "slideshow": {
     "slide_type": "fragment"
    },
    "tags": []
   },
   "source": [
    "- pagamento dependia da região e qualificação do\n",
    "trabalhador beneficiado;"
   ]
  },
  {
   "cell_type": "markdown",
   "metadata": {
    "editable": true,
    "slideshow": {
     "slide_type": "subslide"
    },
    "tags": []
   },
   "source": [
    "- diversos tipos de atividades foram apoiados, da construção de escolas, parques, pontes, rodovias a atividades artísticas, culturais e educacionais como pintura, escultura, teatro e arquivos históricos;"
   ]
  },
  {
   "cell_type": "markdown",
   "metadata": {
    "editable": true,
    "slideshow": {
     "slide_type": "fragment"
    },
    "tags": []
   },
   "source": [
    "- em março de 1936 havia 3,4 milhões de pessoas recebendo salários diretamente do governo federal. Total de projetos: 1,5 milhão; 8,5 milhões de pessoas até o encerramento (1943).\n"
   ]
  },
  {
   "cell_type": "markdown",
   "metadata": {
    "editable": true,
    "slideshow": {
     "slide_type": "slide"
    },
    "tags": []
   },
   "source": [
    "## Sindicatos\n",
    "\n",
    "Outra medida importante foi o *National Labor Relations Act*, de julho de 1935, editado logo após a suspensão do NIRA pela Suprema Corte:"
   ]
  },
  {
   "cell_type": "markdown",
   "metadata": {
    "editable": true,
    "slideshow": {
     "slide_type": "fragment"
    },
    "tags": []
   },
   "source": [
    "- reconheceu direito de associação em sindicatos, barganha coletiva e greve;"
   ]
  },
  {
   "cell_type": "markdown",
   "metadata": {
    "editable": true,
    "slideshow": {
     "slide_type": "fragment"
    },
    "tags": []
   },
   "source": [
    "- impôs sanções aos empregadores que obstruíssem esses direitos trabalhistas, p.ex. interferindo na organização sindical ou demitindo trabalhadores por participação em reivindicações."
   ]
  },
  {
   "cell_type": "markdown",
   "metadata": {
    "editable": true,
    "slideshow": {
     "slide_type": "slide"
    },
    "tags": []
   },
   "source": [
    "## New Deal e os sindicatos\n",
    "\n",
    "Também importante: *Fair Labor Standards Act* de junho de 1938, que estabeleceu salário mínimo, jornada de 44 horas semanais e proibição de emprego abaixo de 16 anos."
   ]
  },
  {
   "cell_type": "markdown",
   "metadata": {
    "editable": true,
    "slideshow": {
     "slide_type": "fragment"
    },
    "tags": []
   },
   "source": [
    "De uma maneira geral, o New Deal representou uma profunda mudança nas instituições do mercado de trabalho e no papel do Estado nos Estados Unidos, durante a Grande Depressão e depois."
   ]
  },
  {
   "cell_type": "markdown",
   "metadata": {
    "editable": true,
    "slideshow": {
     "slide_type": "fragment"
    },
    "tags": []
   },
   "source": [
    "As opiniões são divergentes quanto aos efeitos, mas pela primeira vez os sindicatos entraram de fato no horizonte da formulação da política econômica e social do país - tardiamente em relação à Europa ocidental."
   ]
  },
  {
   "cell_type": "markdown",
   "metadata": {
    "editable": true,
    "slideshow": {
     "slide_type": "slide"
    },
    "tags": []
   },
   "source": [
    "## Concluindo\n",
    "\n",
    "Os efeitos gerais sobre a Grande Depressão são disputados."
   ]
  },
  {
   "cell_type": "markdown",
   "metadata": {
    "editable": true,
    "slideshow": {
     "slide_type": "fragment"
    },
    "tags": []
   },
   "source": [
    "Há autores que argumentam que o New Deal retardou a recuperação econômica, ao impedir o ajuste dos salários (para baixo) e distorcer incentivos com a intervenção maciça do Estado (desestímulo ao trabalho, crowding out)."
   ]
  },
  {
   "cell_type": "markdown",
   "metadata": {
    "editable": true,
    "slideshow": {
     "slide_type": "fragment"
    },
    "tags": []
   },
   "source": [
    "Mas a visão predominante é que o New Deal constituiu um conjunto de políticas de grande amplitude, que atenuou o impacto da Grande Depressão, embora a dimensão desse impacto seja controversa."
   ]
  },
  {
   "cell_type": "markdown",
   "metadata": {
    "editable": true,
    "slideshow": {
     "slide_type": "subslide"
    },
    "tags": []
   },
   "source": [
    "Aparentemente, os déficits públicos realizados foram insuficientes para alcançar redução mais substancial nos níveis de desemprego, como vimos em outra aula."
   ]
  },
  {
   "cell_type": "markdown",
   "metadata": {
    "editable": true,
    "slideshow": {
     "slide_type": "fragment"
    },
    "tags": []
   },
   "source": [
    " Nesse aspecto, a política fiscal em si pode não ser considerada efetivamente keynesiana, no sentido clássico."
   ]
  },
  {
   "cell_type": "markdown",
   "metadata": {
    "editable": true,
    "slideshow": {
     "slide_type": "fragment"
    },
    "tags": []
   },
   "source": [
    "Além disso, é possível que a política monetária expansiva tenha tido papel tão ou mais importante sobre o produto e o emprego."
   ]
  },
  {
   "cell_type": "markdown",
   "metadata": {
    "editable": true,
    "slideshow": {
     "slide_type": "slide"
    },
    "tags": []
   },
   "source": [
    "### Questões\n",
    "\n",
    "Liste os programas de obras públicas e de criação de empregos do New Deal. Compare com os dados de déficit público e desemprego (aula passada) e avalie as suas possíveis relações com as políticas adotadas.\n",
    "\n",
    "Analise as medidas do New Deal (NIRA e NRA) para conter a concorrência predatória na indústria. Seu efeito foi positivo ou negativo para a recuperação? Por que?\n",
    "\n",
    "Apresente as principais medidas do chamado segundo New Deal. Em que medida a presença dos sindicatos muda a orientação econômica do governo Roosevelt?"
   ]
  }
 ],
 "metadata": {
  "celltoolbar": "Slideshow",
  "kernelspec": {
   "display_name": "Python 3 (ipykernel)",
   "language": "python",
   "name": "python3"
  },
  "language_info": {
   "codemirror_mode": {
    "name": "ipython",
    "version": 3
   },
   "file_extension": ".py",
   "mimetype": "text/x-python",
   "name": "python",
   "nbconvert_exporter": "python",
   "pygments_lexer": "ipython3",
   "version": "3.8.20"
  },
  "rise": {
   "autolaunch": true
  },
  "toc": {
   "base_numbering": 1,
   "nav_menu": {},
   "number_sections": false,
   "sideBar": true,
   "skip_h1_title": false,
   "title_cell": "Table of Contents",
   "title_sidebar": "Contents",
   "toc_cell": false,
   "toc_position": {},
   "toc_section_display": true,
   "toc_window_display": false
  }
 },
 "nbformat": 4,
 "nbformat_minor": 4
}
