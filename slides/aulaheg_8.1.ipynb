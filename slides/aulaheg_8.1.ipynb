{
 "cells": [
  {
   "cell_type": "markdown",
   "metadata": {
    "nbpresent": {
     "id": "452305db-662c-4b4e-aa92-79d92fa4544d"
    },
    "slideshow": {
     "slide_type": "slide"
    }
   },
   "source": [
    "## <center>História Econômica Geral - FEA-USP</center>\n",
    "\n",
    "### <center>Aula 8 - Indústria e Tecnologia: Por que Inglaterra? (parte 1)</center>\n",
    "\n",
    "#### <center>Renato Perim Colistete</center>\n",
    "\n",
    "\n",
    "#### <center>2024</center>"
   ]
  },
  {
   "cell_type": "markdown",
   "metadata": {
    "nbpresent": {
     "id": "1fc7160f-beb4-4997-9c3f-0553e0592605"
    },
    "slideshow": {
     "slide_type": "slide"
    }
   },
   "source": [
    "## Objetivos\n",
    "\n",
    "Hoje vamos rever inicialmente alguns conceitos básicos para a análise econômica da tecnologia.\n",
    "\n",
    "Em seguida, apresentaremos alguns exemplos de inovações nas indústrias metalúrgica e têxtil durante a Revolução Industrial.\n",
    "\n",
    "Por fim, são discutidas interpretações sobre as causas do surto de inovações da Revolução Industrial."
   ]
  },
  {
   "cell_type": "markdown",
   "metadata": {
    "nbpresent": {
     "id": "1acbc207-c8bb-4376-a328-421bbf9520c4"
    },
    "slideshow": {
     "slide_type": "slide"
    }
   },
   "source": [
    "## Aprendizado\n",
    "\n",
    "Vamos começar com os conceitos. Primeiro, *learning by\n",
    "doing* ([Kenneth Arrow](https://en.wikipedia.org/wiki/Kenneth_Arrow)):"
   ]
  },
  {
   "cell_type": "markdown",
   "metadata": {
    "nbpresent": {
     "id": "f3dfbdf9-fe1d-4356-9ad0-df395911e6f3"
    },
    "slideshow": {
     "slide_type": "fragment"
    }
   },
   "source": [
    "- conhecimento e aprendizagem resultantes da experiência prática acumulada na produção;"
   ]
  },
  {
   "cell_type": "markdown",
   "metadata": {
    "nbpresent": {
     "id": "bb419a40-14ab-48cd-8328-1c62b7f7bd0a"
    },
    "slideshow": {
     "slide_type": "fragment"
    }
   },
   "source": [
    "- refere-se geralmente ao conhecimento adquirido por\n",
    "engenheiros, técnicos e trabalhadores qualificados;"
   ]
  },
  {
   "cell_type": "markdown",
   "metadata": {
    "slideshow": {
     "slide_type": "fragment"
    }
   },
   "source": [
    "- unidades básicas de análise são a oficina (*workshop*) e\n",
    "o chão de fábrica (*shopfloor*)."
   ]
  },
  {
   "cell_type": "markdown",
   "metadata": {
    "nbpresent": {
     "id": "13c81a42-221c-45fd-bde2-343bbcc74678"
    },
    "slideshow": {
     "slide_type": "slide"
    }
   },
   "source": [
    "## Aprendizado\n",
    "\n",
    "*Learning by using* ([Nathan Rosenberg](https://en.wikipedia.org/wiki/Nathan_Rosenberg)):"
   ]
  },
  {
   "cell_type": "markdown",
   "metadata": {
    "nbpresent": {
     "id": "69b2baa0-ed18-483e-8653-50f0e5c1d94f"
    },
    "slideshow": {
     "slide_type": "fragment"
    }
   },
   "source": [
    "- conhecimento e aprendizagem resultantes de cooperação estreita entre produtores e consumidores/clientes;"
   ]
  },
  {
   "cell_type": "markdown",
   "metadata": {
    "nbpresent": {
     "id": "1674bcc2-8448-4b20-8203-e741d2f6048b"
    },
    "slideshow": {
     "slide_type": "fragment"
    }
   },
   "source": [
    "- também refere-se ao conhecimento de engenheiros,\n",
    "técnicos e trabalhadores qualificados;"
   ]
  },
  {
   "cell_type": "markdown",
   "metadata": {
    "slideshow": {
     "slide_type": "fragment"
    }
   },
   "source": [
    "- geralmente requer interação com *learning by doing*."
   ]
  },
  {
   "cell_type": "markdown",
   "metadata": {
    "nbpresent": {
     "id": "8b4f0472-cccb-4d13-abbd-187d93bc9309"
    },
    "slideshow": {
     "slide_type": "slide"
    }
   },
   "source": [
    "## Tipos\n",
    "\n",
    "Outra noção importante é que a aprendizagem\n",
    "tecnológica pode ser:"
   ]
  },
  {
   "cell_type": "markdown",
   "metadata": {
    "nbpresent": {
     "id": "794d2206-833d-419a-b3b9-b12875162c7e"
    },
    "slideshow": {
     "slide_type": "fragment"
    }
   },
   "source": [
    "- formal: educação primária, técnica, universitária;\n",
    "aprendizagem industrial;"
   ]
  },
  {
   "cell_type": "markdown",
   "metadata": {
    "slideshow": {
     "slide_type": "fragment"
    }
   },
   "source": [
    "- informal: obtida por meio de experiência acumulada no trabalho ou via transferência informal de habilidades (ofício, mestre/aprendiz, imigrantes)."
   ]
  },
  {
   "cell_type": "markdown",
   "metadata": {
    "nbpresent": {
     "id": "1a43feb9-1cad-4162-a6ad-b16662fbb6a4"
    },
    "slideshow": {
     "slide_type": "slide"
    }
   },
   "source": [
    "## Inovações na metalurgia\n",
    "\n",
    "Já vimos anteriormente os conceitos de micro e\n",
    "macroinovações."
   ]
  },
  {
   "cell_type": "markdown",
   "metadata": {
    "slideshow": {
     "slide_type": "fragment"
    }
   },
   "source": [
    " Combinadas, elas foram responsáveis por transformações profundas nos métodos de produção e organização durante a Revolução Industrial."
   ]
  },
  {
   "cell_type": "markdown",
   "metadata": {
    "slideshow": {
     "slide_type": "fragment"
    }
   },
   "source": [
    "Alguns exemplos a seguir."
   ]
  },
  {
   "cell_type": "markdown",
   "metadata": {
    "slideshow": {
     "slide_type": "subslide"
    }
   },
   "source": [
    "a) **na metalurgia**:"
   ]
  },
  {
   "cell_type": "markdown",
   "metadata": {
    "slideshow": {
     "slide_type": "fragment"
    }
   },
   "source": [
    "§ transformação de *ferro gusa em ferro forjado* (*puddling\n",
    "process*): [Henry Cort](http://en.wikipedia.org/wiki/Henry_Cort), em 1784, desenvolveu novo\n",
    "processo combinando fornos e laminação, permitindo\n",
    "produzir ferro forjado a baixo custo."
   ]
  },
  {
   "cell_type": "markdown",
   "metadata": {
    "slideshow": {
     "slide_type": "fragment"
    }
   },
   "source": [
    "§ *coque*: resíduo do aquecimento de carvão mineral,\n",
    "utilizado na produção de ferro forjado, obtido pela\n",
    "primeira vez por [Abraham Darby](http://en.wikipedia.org/wiki/Abraham_Darby_I) em 1709. Redução em\n",
    "2/3 do custo a partir de 1829;"
   ]
  },
  {
   "cell_type": "markdown",
   "metadata": {
    "slideshow": {
     "slide_type": "fragment"
    }
   },
   "source": [
    "§ *aço*: com propriedades especiais em termos de\n",
    "resistência, flexibilidade e durabilidade, passou a ser\n",
    "produzido em larga escala a partir de 1740. Crescentemente\n",
    "utilizado em artefatos militares e mecânicos."
   ]
  },
  {
   "cell_type": "markdown",
   "metadata": {
    "slideshow": {
     "slide_type": "subslide"
    }
   },
   "source": [
    "b) **na têxtil**:"
   ]
  },
  {
   "cell_type": "markdown",
   "metadata": {
    "slideshow": {
     "slide_type": "fragment"
    }
   },
   "source": [
    "§ máquina de fiar movida à água de [Richard Arkwright](http://www.bbc.co.uk/history/historic_figures/arkwright_richard.shtml):\n",
    "desenvolvida por volta de 1770/1;\n"
   ]
  },
  {
   "cell_type": "markdown",
   "metadata": {
    "slideshow": {
     "slide_type": "fragment"
    }
   },
   "source": [
    "§ máquina de fiar Jenny (*spinning jenny*) de [James\n",
    "Hargreaves](http://en.wikipedia.org/wiki/James_Hargreaves), 1764: emprego de vários fusos,\n",
    "contemporânea à de Arkwright;\n"
   ]
  },
  {
   "cell_type": "markdown",
   "metadata": {
    "slideshow": {
     "slide_type": "fragment"
    }
   },
   "source": [
    "§ máquina de fiar “*mule*” de [Samuel Crompton](http://en.wikipedia.org/wiki/Samuel_Crompton), 1779:\n",
    "produzia fios mais finos e resistentes;"
   ]
  },
  {
   "cell_type": "markdown",
   "metadata": {
    "slideshow": {
     "slide_type": "subslide"
    }
   },
   "source": [
    "§ [máquina de fiar automática](http://en.wikipedia.org/wiki/Spinning_mule#/media/File:Baines_1835-Roberts%27_Self_Acting_Mule.png) (*self-acting mule*) de [Richard\n",
    "Roberts](https://en.wikipedia.org/wiki/Richard_Roberts_(engineer)), 1825 e 1830 (patentes): automatização com\n",
    "vapor do movimento do carro de Crompton;\n"
   ]
  },
  {
   "cell_type": "markdown",
   "metadata": {
    "nbpresent": {
     "id": "b7fa99c1-6023-4201-855d-d27ade6b5d84"
    },
    "slideshow": {
     "slide_type": "fragment"
    }
   },
   "source": [
    "§ além de aumento da produtividade, a máquina\n",
    "automática de Roberts tornou redundante o fiandeiro\n",
    "especializado. Mas difusão foi relativamente lenta devido\n",
    "ao alto custo."
   ]
  },
  {
   "cell_type": "markdown",
   "metadata": {
    "slideshow": {
     "slide_type": "fragment"
    }
   },
   "source": [
    "Comparações de produtividade: fiação de 100 libras-peso de algodão exigia: fiação manual = 50.000 h; máq. de Arkwright = 300 h; máquina automática = 135 h."
   ]
  },
  {
   "cell_type": "markdown",
   "metadata": {
    "nbpresent": {
     "id": "8dde182b-545e-464d-86aa-93633eb83d31"
    },
    "slideshow": {
     "slide_type": "slide"
    }
   },
   "source": [
    "## Ilustrações\n",
    "\n",
    "Veja estes exemplos interativos de inovações da Revolução\n",
    "Industrial:"
   ]
  },
  {
   "cell_type": "markdown",
   "metadata": {
    "nbpresent": {
     "id": "383dda45-dccb-4fde-a663-f4b4f94a501e"
    },
    "slideshow": {
     "slide_type": "fragment"
    }
   },
   "source": [
    "- [A locomotiva a vapor, *the Rocket*](http://www.bbc.co.uk/history/interactive/animations/rocket/index_embed.shtml) (1829), de G.\n",
    "Stephenson"
   ]
  },
  {
   "cell_type": "markdown",
   "metadata": {
    "slideshow": {
     "slide_type": "fragment"
    }
   },
   "source": [
    "- [Alto forno (*blast furnace*)](http://www.bbc.co.uk/history/british/victorians/launch_ani_blast_furnace.shtml), de Abraham Darby\n"
   ]
  },
  {
   "cell_type": "markdown",
   "metadata": {
    "slideshow": {
     "slide_type": "fragment"
    }
   },
   "source": [
    "- [Máquina de fiar](http://www.bbc.co.uk/history/interactive/animations/spinning_mill/index_embed.shtml)"
   ]
  },
  {
   "cell_type": "markdown",
   "metadata": {
    "slideshow": {
     "slide_type": "fragment"
    }
   },
   "source": [
    "E tome suas decisões como um empresário em uma cidade\n",
    "da Inglaterra durante a Revolução Industrial:\n",
    "[Cottonopolis](http://www.bbc.co.uk/history/interactive/games/victorian_millionaire/index_embed.shtml)"
   ]
  },
  {
   "cell_type": "markdown",
   "metadata": {
    "slideshow": {
     "slide_type": "slide"
    }
   },
   "source": [
    "## Abordagens\n",
    "\n",
    "Entre as abordagens que se concentram na tecnologia como determinante da Revolução Industrial, podemos dividir as interpretações em dois tipos: as que enfatizam a *demanda de inovações* e as que privilegiam a *oferta de inovações*."
   ]
  },
  {
   "cell_type": "markdown",
   "metadata": {
    "slideshow": {
     "slide_type": "fragment"
    }
   },
   "source": [
    "As explicações pelo lado da *demanda* destacam o aumento do rendimento das inovações como um incentivo para mais inovações."
   ]
  },
  {
   "cell_type": "markdown",
   "metadata": {
    "slideshow": {
     "slide_type": "fragment"
    }
   },
   "source": [
    "Um exemplo é a teoria de North e Thomas, já vista antes no curso: mudanças institucionais de longo prazo teriam elevado os rendimentos de empresas e indivíduos engajados em inovações, desencadeando um processo sustentado de aumento de investimentos e produtividade."
   ]
  },
  {
   "cell_type": "markdown",
   "metadata": {
    "slideshow": {
     "slide_type": "slide"
    }
   },
   "source": [
    "## Oferta\n",
    "\n",
    "Entre os que enfatizam a oferta de inovações, a atenção recai sobre o aumento do número de inventores e patentes, escolaridade, publicações em geral e científicas em particular."
   ]
  },
  {
   "cell_type": "markdown",
   "metadata": {
    "slideshow": {
     "slide_type": "subslide"
    }
   },
   "source": [
    "#### <center>Alfabetização</center>\n",
    "\n",
    "<center><img src=\"educ.jpeg\", width=1000></center>\n"
   ]
  },
  {
   "cell_type": "markdown",
   "metadata": {
    "slideshow": {
     "slide_type": "slide"
    }
   },
   "source": [
    "## Cultura científica\n",
    "\n",
    "Uma variante desse último argumento concentra-se na difusão da cultura científica. (Joel Mokyr, Margaret Jacob)"
   ]
  },
  {
   "cell_type": "markdown",
   "metadata": {
    "slideshow": {
     "slide_type": "fragment"
    }
   },
   "source": [
    "Escócia e Inglaterra estavam na fronteira do conhecimento científico aplicado,\n",
    "representado pela mecânica newtoniana popularizada em livros-textos. Essa cultura\n",
    "científica era restrita em termos geográficos."
   ]
  },
  {
   "cell_type": "markdown",
   "metadata": {
    "slideshow": {
     "slide_type": "fragment"
    }
   },
   "source": [
    "Inglaterra e Escócia tinham em abundância: amplo aprendizado informal, comunidade intelectual e filosófica relativamente igualitária, sociedades científicas e educacionais\n",
    "em geral."
   ]
  },
  {
   "cell_type": "markdown",
   "metadata": {
    "slideshow": {
     "slide_type": "slide"
    }
   },
   "source": [
    "## Sociedades científicas\n",
    "\n",
    "As sociedades científicas foram essenciais para a difusão de idéias e exploração de\n",
    "novas possibilidades tecnológicas. Ex: [Lunar Society (Birmingham)](https://en.wikipedia.org/wiki/Lunar_Society_of_Birmingham)."
   ]
  },
  {
   "cell_type": "markdown",
   "metadata": {
    "slideshow": {
     "slide_type": "fragment"
    }
   },
   "source": [
    "O principal objetivo dessas sociedades era a difusão do conhecimento de princípios e\n",
    "aplicações da mecânica por meio de aulas, discussões e apresentações públicas."
   ]
  },
  {
   "cell_type": "markdown",
   "metadata": {
    "slideshow": {
     "slide_type": "fragment"
    }
   },
   "source": [
    "Membros: proprietários de terra, negociantes, financistas, mecânicos qualificados."
   ]
  },
  {
   "cell_type": "markdown",
   "metadata": {
    "slideshow": {
     "slide_type": "slide"
    }
   },
   "source": [
    "## Origens\n",
    "\n",
    "Quais foram as origens dos inventores e inovadores da Revolução Industrial? Origem variada: dissidentes religiosos (*dissenters*), aristocratas, artesãos, “filósofos da natureza”. (Jacob, 1997)"
   ]
  },
  {
   "cell_type": "markdown",
   "metadata": {
    "slideshow": {
     "slide_type": "fragment"
    }
   },
   "source": [
    "Aparentemente o grupo predominante foi o de dissidentes religiosos (Quakers e\n",
    "presbiterianos em especial)."
   ]
  },
  {
   "cell_type": "markdown",
   "metadata": {
    "slideshow": {
     "slide_type": "fragment"
    }
   },
   "source": [
    "Razões para a importância dos dissidentes: atitudes não-conformistas, racionalismo,\n",
    "exclusão das universidades tradicionais e carreiras públicas."
   ]
  },
  {
   "cell_type": "markdown",
   "metadata": {
    "slideshow": {
     "slide_type": "slide"
    }
   },
   "source": [
    "## Questões\n",
    "\n",
    "Apresente os conceitos econômicos utilizados para a análise da inovação e difusão da\n",
    "tecnologia. Utilize esses conceitos para descrever exemplos de inovações da Revolução\n",
    "Industrial vistos em aula."
   ]
  },
  {
   "cell_type": "markdown",
   "metadata": {
    "slideshow": {
     "slide_type": "fragment"
    }
   },
   "source": [
    "Avalie as interpretações que enfatizam a oferta e demanda de inovações na Revolução\n",
    "Industrial. Alguma delas pode ser considerada mais plausível na sua opinião? Por que?"
   ]
  },
  {
   "cell_type": "markdown",
   "metadata": {
    "slideshow": {
     "slide_type": "fragment"
    }
   },
   "source": [
    "Uma hipótese da dianteira da Inglaterra na Revolução Industrial enfatiza a escolaridade e a difusão da cultura científica. Quais são, na sua opinião, os prós e contras dessa abordagem?"
   ]
  }
 ],
 "metadata": {
  "celltoolbar": "Slideshow",
  "kernelspec": {
   "display_name": "Python 3 (ipykernel)",
   "language": "python",
   "name": "python3"
  },
  "language_info": {
   "codemirror_mode": {
    "name": "ipython",
    "version": 3
   },
   "file_extension": ".py",
   "mimetype": "text/x-python",
   "name": "python",
   "nbconvert_exporter": "python",
   "pygments_lexer": "ipython3",
   "version": "3.8.19"
  },
  "toc": {
   "base_numbering": 1,
   "nav_menu": {},
   "number_sections": false,
   "sideBar": true,
   "skip_h1_title": false,
   "title_cell": "Table of Contents",
   "title_sidebar": "Contents",
   "toc_cell": false,
   "toc_position": {},
   "toc_section_display": true,
   "toc_window_display": false
  }
 },
 "nbformat": 4,
 "nbformat_minor": 4
}
