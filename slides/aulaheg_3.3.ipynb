{
 "cells": [
  {
   "cell_type": "markdown",
   "metadata": {
    "editable": true,
    "nbpresent": {
     "id": "452305db-662c-4b4e-aa92-79d92fa4544d"
    },
    "slideshow": {
     "slide_type": "slide"
    },
    "tags": []
   },
   "source": [
    "## <center>História Econômica Geral I - FEA-USP</center>\n",
    "\n",
    "### <center>Aula 3 - Teorias e Interpretações (parte 3)</center>\n",
    "\n",
    "#### <center>Renato Perim Colistete</center>\n",
    "\n",
    "\n",
    "#### <center>2024</center>"
   ]
  },
  {
   "cell_type": "markdown",
   "metadata": {
    "editable": true,
    "nbpresent": {
     "id": "1fc7160f-beb4-4997-9c3f-0553e0592605"
    },
    "slideshow": {
     "slide_type": "slide"
    },
    "tags": []
   },
   "source": [
    " ## Objetivos\n",
    "\n",
    "Hoje apresentaremos a interpretação de Robert Brenner sobre a natureza da economia pré-industrial e as\n",
    "bases da transição para o capitalismo.\n",
    "\n",
    "Tal como a teoria institucionalista de North, a abordagem de Brenner parte do modelo malthusiano, mas rejeita suas\n",
    "conclusões acerca das forças principais que explicariam o funcionamento da economia pré-industrial e, sobretudo, sua\n",
    "transformação.\n",
    "\n",
    "Na interpretação de Brenner, o papel central é ocupado pelas *classes sociais*."
   ]
  },
  {
   "cell_type": "markdown",
   "metadata": {
    "nbpresent": {
     "id": "1acbc207-c8bb-4376-a328-421bbf9520c4"
    },
    "slideshow": {
     "slide_type": "slide"
    }
   },
   "source": [
    "## Classes\n",
    "\n",
    "A interpretação de [Brenner](https://en.wikipedia.org/wiki/Robert_Brenner) baseia-se na obra de [Marx](https://plato.stanford.edu/entries/marx/) e também no trabalho de [Maurice Dobb](https://en.wikipedia.org/wiki/Maurice_Dobb), *A Evolução do Capitalismo* (1946)."
   ]
  },
  {
   "cell_type": "markdown",
   "metadata": {
    "nbpresent": {
     "id": "f3dfbdf9-fe1d-4356-9ad0-df395911e6f3"
    },
    "slideshow": {
     "slide_type": "fragment"
    }
   },
   "source": [
    "Brenner destaca o papel das relações e dos conflitos entre as classes sociais da economia pré-industrial para explicar os diferentes caminhos seguidos pelo desenvolvimento econômico em regiões da Europa."
   ]
  },
  {
   "cell_type": "markdown",
   "metadata": {
    "nbpresent": {
     "id": "bb419a40-14ab-48cd-8328-1c62b7f7bd0a"
    },
    "slideshow": {
     "slide_type": "fragment"
    }
   },
   "source": [
    "Em particular, segundo o autor, crescimento populacional e comércio *não* seriam suficientes para explicar a história das transformações da\n",
    "economia pré-industrial."
   ]
  },
  {
   "cell_type": "markdown",
   "metadata": {
    "nbpresent": {
     "id": "bb88ba62-49af-4a08-a1fb-e61b66f85d5a"
    },
    "slideshow": {
     "slide_type": "slide"
    }
   },
   "source": [
    "## Conceitos\n",
    "\n",
    "Vamos rever os conceitos básicos utilizados por Brenner. Uma categoria central é a de *modo de produção*. Dobb a define (a partir de Marx) como:"
   ]
  },
  {
   "cell_type": "markdown",
   "metadata": {
    "nbpresent": {
     "id": "c4116e36-3ce7-4491-96e4-03190f4a3b72"
    },
    "slideshow": {
     "slide_type": "fragment"
    }
   },
   "source": [
    "a) o “estado da técnica” (ou das “forças produtivas”),"
   ]
  },
  {
   "cell_type": "markdown",
   "metadata": {
    "nbpresent": {
     "id": "ab6926e6-5a84-4224-ae15-863218da085c"
    },
    "slideshow": {
     "slide_type": "fragment"
    }
   },
   "source": [
    "b) bem como “a forma pela qual os meios de produção são\n",
    "apropriados”"
   ]
  },
  {
   "cell_type": "markdown",
   "metadata": {
    "nbpresent": {
     "id": "0ae94572-28d8-4197-852b-27e8d514c057"
    },
    "slideshow": {
     "slide_type": "fragment"
    }
   },
   "source": [
    "c) e “as relações sociais entre homens \\[e mulheres] que\n",
    "resultam de suas conexões com o processo produtivo” (Dobb,\n",
    "*Evolução*, cap. 1, seção 2)."
   ]
  },
  {
   "cell_type": "markdown",
   "metadata": {
    "nbpresent": {
     "id": "13c81a42-221c-45fd-bde2-343bbcc74678"
    },
    "slideshow": {
     "slide_type": "slide"
    }
   },
   "source": [
    "## Sistemas econômicos\n",
    "\n",
    "Segundo Dobb, cada período histórico seria caracterizado por uma\n",
    "classe (ou coalizão de classes) política e socialmente dominante,\n",
    "com um modo de produção correspondente – ver definição anterior."
   ]
  },
  {
   "cell_type": "markdown",
   "metadata": {
    "nbpresent": {
     "id": "69b2baa0-ed18-483e-8653-50f0e5c1d94f"
    },
    "slideshow": {
     "slide_type": "fragment"
    }
   },
   "source": [
    "Os diferentes sistemas econômicos (feudalismo, capitalismo)\n",
    "seriam, assim, “sistemas de classes, cada um possuindo sua forma\n",
    "particular de extração da renda por suas classes dominantes”."
   ]
  },
  {
   "cell_type": "markdown",
   "metadata": {
    "nbpresent": {
     "id": "1674bcc2-8448-4b20-8203-e741d2f6048b"
    },
    "slideshow": {
     "slide_type": "fragment"
    }
   },
   "source": [
    "Qual a origem da renda apropriada pelas classes dominantes? O\n",
    "trabalho excedente, isto é, o trabalho além do necessário para o\n",
    "consumo ou reprodução do produtor direto, produtor de fato."
   ]
  },
  {
   "cell_type": "markdown",
   "metadata": {
    "nbpresent": {
     "id": "8b4f0472-cccb-4d13-abbd-187d93bc9309"
    },
    "slideshow": {
     "slide_type": "slide"
    }
   },
   "source": [
    "## Tecnologia e classes\n",
    "\n",
    "As formas com que o trabalho excedente é extraído e\n",
    "apropriado variam com os sistemas econômicos."
   ]
  },
  {
   "cell_type": "markdown",
   "metadata": {
    "nbpresent": {
     "id": "794d2206-833d-419a-b3b9-b12875162c7e"
    },
    "slideshow": {
     "slide_type": "fragment"
    }
   },
   "source": [
    "Essas formas, por sua vez, são “associadas ao uso de vários\n",
    "métodos e instrumentos de produção, com diferentes níveis de\n",
    "produtividade”."
   ]
  },
  {
   "cell_type": "markdown",
   "metadata": {
    "nbpresent": {
     "id": "c5cb9041-13bb-4f74-a70c-dbb306763b20"
    },
    "slideshow": {
     "slide_type": "fragment"
    }
   },
   "source": [
    "As transformações a) nas técnicas de produção e\n",
    "produtividade, e b) nas relações dos grupos sociais com o\n",
    "processo produtivo, levam à emergência de novos grupos\n",
    "sociais e à transformação do sistema econômico com novas\n",
    "classes dominantes."
   ]
  },
  {
   "cell_type": "markdown",
   "metadata": {
    "editable": true,
    "slideshow": {
     "slide_type": "slide"
    },
    "tags": []
   },
   "source": [
    "#### <center>Estrutura social feudal</center>\n",
    "\n",
    "<center><img src=\"feudal.png\", width=600></center>\n"
   ]
  },
  {
   "cell_type": "markdown",
   "metadata": {
    "editable": true,
    "slideshow": {
     "slide_type": "subslide"
    },
    "tags": []
   },
   "source": [
    "#### <center>Estrutura agrária feudal</center>\n",
    "\n",
    "<center><img src=\"feudal2.png\", width=500></center>\n"
   ]
  },
  {
   "cell_type": "markdown",
   "metadata": {
    "nbpresent": {
     "id": "cb99a5b9-10b5-4d5c-bb6c-23699c0c5b07"
    },
    "slideshow": {
     "slide_type": "slide"
    }
   },
   "source": [
    "## Peste Negra e escassez de trabalho\n",
    "\n",
    "Vejamos agora o argumento específico de Brenner sobre a\n",
    "economia pré-industrial. Segundo o autor, após a [Peste Negra](https://en.wikipedia.org/wiki/Black_Death)\n",
    "(décadas de 1340/50) os senhores de terra na Inglaterra\n",
    "tentaram controlar a mobilidade dos camponeses e impor taxas\n",
    "e arrendamentos mais elevados."
   ]
  },
  {
   "cell_type": "markdown",
   "metadata": {
    "nbpresent": {
     "id": "43701764-6778-49fa-883b-9c1b678f6d67"
    },
    "slideshow": {
     "slide_type": "fragment"
    }
   },
   "source": [
    "Não obstante, os camponeses reagiram - por meio de protestos, fugas e revoltas - à imposição de maiores controles feudais sobre sua mobilidade e rendimentos."
   ]
  },
  {
   "cell_type": "markdown",
   "metadata": {
    "nbpresent": {
     "id": "1f3a2dee-722b-4a1b-a236-69b92463b751"
    },
    "slideshow": {
     "slide_type": "fragment"
    }
   },
   "source": [
    "A disputa entre senhores e camponeses levou, *por um lado*, ao fim dos serviços para os senhores feudais (corveia) e à maior independência dos camponeses."
   ]
  },
  {
   "cell_type": "markdown",
   "metadata": {
    "nbpresent": {
     "id": "1a43feb9-1cad-4162-a6ad-b16662fbb6a4"
    },
    "slideshow": {
     "slide_type": "slide"
    }
   },
   "source": [
    "## Reações\n",
    "\n",
    "*Por outro lado*, o colapso demográfico que se seguiu à Peste Negra permitiu aos senhores apropriarem-se de boa parte das terras ociosas."
   ]
  },
  {
   "cell_type": "markdown",
   "metadata": {
    "nbpresent": {
     "id": "b7fa99c1-6023-4201-855d-d27ade6b5d84"
    },
    "slideshow": {
     "slide_type": "fragment"
    }
   },
   "source": [
    "Além disso, os senhores de terra persistiram na cobrança de\n",
    "multas nos casos de vendas e heranças, o que causou insatisfação crescente e revolta entre os camponeses."
   ]
  },
  {
   "cell_type": "markdown",
   "metadata": {
    "nbpresent": {
     "id": "854f9e46-f876-4c95-b11f-ee637364d8cf"
    },
    "slideshow": {
     "slide_type": "fragment"
    }
   },
   "source": [
    "Mesmo a onda de revoltas camponesas no século XVI,\n",
    "contudo, não foi capaz de submeter os senhores de terra. Pelo\n",
    "contrário, ao final do século XVII eles controlavam cerca de\n",
    "70/75% da terra cultivável na Inglaterra."
   ]
  },
  {
   "cell_type": "markdown",
   "metadata": {
    "nbpresent": {
     "id": "8dde182b-545e-464d-86aa-93633eb83d31"
    },
    "slideshow": {
     "slide_type": "slide"
    }
   },
   "source": [
    "## Efeitos\n",
    "\n",
    "Em outras palavras, segundo Brenner, os camponeses não foram capazes de assegurar a propriedade da terra: *tornaram-se trabalhadores livres do controle feudal, mas sem terras* (novamente: na Inglaterra)."
   ]
  },
  {
   "cell_type": "markdown",
   "metadata": {
    "nbpresent": {
     "id": "383dda45-dccb-4fde-a663-f4b4f94a501e"
    },
    "slideshow": {
     "slide_type": "fragment"
    }
   },
   "source": [
    "Os grandes proprietários de terra conseguiram incorporar, consolidar\n",
    "e cercar as terras comuns (*commons*), arrendando suas terras a\n",
    "agricultores capitalistas."
   ]
  },
  {
   "cell_type": "markdown",
   "metadata": {
    "nbpresent": {
     "id": "5318412e-57bb-45fa-8b89-662b2f0a33ab"
    },
    "slideshow": {
     "slide_type": "fragment"
    }
   },
   "source": [
    "Daí surgiu a mudança social decisiva, segundo Brenner: uma nova estrutura social baseada no <font color='green'>grande proprietário de terra – arrendatário capitalista – trabalhador\n",
    "assalariado</font>. (lembrar conceitos)"
   ]
  },
  {
   "cell_type": "markdown",
   "metadata": {
    "nbpresent": {
     "id": "1418d2ed-9be3-4415-b01b-b8f72fe19696"
    },
    "slideshow": {
     "slide_type": "slide"
    }
   },
   "source": [
    "## Nova estrutura social\n",
    "\n",
    "Qual o resultado dessa nova estrutura social? Segundo\n",
    "Brenner, ela foi “a chave para o inédito e bem-sucedido\n",
    "desenvolvimento econômico da Inglaterra”."
   ]
  },
  {
   "cell_type": "markdown",
   "metadata": {
    "slideshow": {
     "slide_type": "fragment"
    }
   },
   "source": [
    "Ou seja, houve mudanças nas relações entre as classes e nas formas de extração do excedente, com uso de novos métodos de produção e maiores níveis de produtividade. Este último aspecto - produtividade - é central para Brenner."
   ]
  },
  {
   "cell_type": "markdown",
   "metadata": {
    "nbpresent": {
     "id": "45c198ca-6d9a-44e0-8575-f1afc643e980"
    },
    "slideshow": {
     "slide_type": "fragment"
    }
   },
   "source": [
    "O mecanismo básico: os arrendatários introduziram novos métodos e aperfeiçoamentos agrícolas com vistas a aumentar a produtividade e elevar lucros."
   ]
  },
  {
   "cell_type": "markdown",
   "metadata": {
    "editable": true,
    "slideshow": {
     "slide_type": "subslide"
    },
    "tags": []
   },
   "source": [
    "E na França? O resultado foi distinto, segundo Brenner: apoio do Rei fortaleceu os camponeses, que conseguiram se libertar das obrigações feudais *e* tornarem-se pequenos proprietários (e na Rússia?)."
   ]
  },
  {
   "cell_type": "markdown",
   "metadata": {
    "editable": true,
    "nbpresent": {
     "id": "68f6860d-634a-4bda-97e4-4e6930ceb7b5"
    },
    "slideshow": {
     "slide_type": "slide"
    },
    "tags": []
   },
   "source": [
    "## Resultados\n",
    "\n",
    "Já ao final do século XVII, de acordo com Brenner, os resultados dessa estrutura social na Inglaterra se fizeram sentir por meio da estabilidade de preços agrícolas mesmo diante do aumento da população."
   ]
  },
  {
   "cell_type": "markdown",
   "metadata": {
    "editable": true,
    "nbpresent": {
     "id": "cc83d49d-1337-48f7-a9d8-772260a8f5ee"
    },
    "slideshow": {
     "slide_type": "fragment"
    },
    "tags": []
   },
   "source": [
    "Para Brenner, a maior produtividade agrícola trazida com as novas relações sociais na agricultura foi o elemento-chave que viabilizou o aumento sustentado da oferta de bens, evitando a “armadilha malthusiana”. Em resumo:"
   ]
  },
  {
   "cell_type": "markdown",
   "metadata": {
    "nbpresent": {
     "id": "83f6464a-0444-4c80-8e47-c5513282ff49"
    },
    "slideshow": {
     "slide_type": "fragment"
    }
   },
   "source": [
    "<center><font color='red'>Colapso demográfico - reforço do controle sobre trabalho - conflitos geram novas relações sociais - propriedade privada da terra e trabalho assalariado dominam -  busca de lucro induz mudança tecnológica nas terras cercadas - crescimento sustentado da produtividade</font></center>"
   ]
  },
  {
   "cell_type": "markdown",
   "metadata": {
    "nbpresent": {
     "id": "ab2df823-deba-4f5d-9781-181bc6255bd8"
    },
    "slideshow": {
     "slide_type": "slide"
    }
   },
   "source": [
    "## Novo sistema\n",
    "\n",
    "Paralelamente, como resultado das novas relações de produção e da emergência do trabalho assalariado, o\n",
    "aumento e a diversificação da demanda incentivaram o\n",
    "consumo de bens manufaturados."
   ]
  },
  {
   "cell_type": "markdown",
   "metadata": {
    "nbpresent": {
     "id": "63e3d11e-f051-47af-a20d-c5681425064d"
    },
    "slideshow": {
     "slide_type": "fragment"
    }
   },
   "source": [
    "Desta forma, a Inglaterra teria passado\n",
    "ao largo da crise econômica do século XVII que afetou o\n",
    "restante da Europa e deu início às transformações que\n",
    "culminariam na Revolução Industrial."
   ]
  },
  {
   "cell_type": "markdown",
   "metadata": {
    "nbpresent": {
     "id": "0c6ab1b8-69a6-4627-8abe-8a7936ec2cae"
    },
    "slideshow": {
     "slide_type": "slide"
    }
   },
   "source": [
    "## Questões\n",
    "\n",
    "Como tecnologia (“estado da técnica”) e classes sociais se\n",
    "relacionam no conceito de “modo de produção”? E qual o\n",
    "seu efeito sobre a produtividade nos diferentes sistemas\n",
    "econômicos?\n",
    "\n",
    "\n",
    "\n",
    "Qual é o papel do choque populacional da Peste Negra na\n",
    "interpretação de Robert Brenner?\n",
    "\n",
    "\n",
    "\n",
    "Explique de que forma as relações e conflitos de classe\n",
    "entram como categorias centrais na análise de Brenner\n",
    "sobre as transformações da economia pré-industrial."
   ]
  }
 ],
 "metadata": {
  "celltoolbar": "Slideshow",
  "kernelspec": {
   "display_name": "Python 3 (ipykernel)",
   "language": "python",
   "name": "python3"
  },
  "language_info": {
   "codemirror_mode": {
    "name": "ipython",
    "version": 3
   },
   "file_extension": ".py",
   "mimetype": "text/x-python",
   "name": "python",
   "nbconvert_exporter": "python",
   "pygments_lexer": "ipython3",
   "version": "3.8.19"
  },
  "toc": {
   "base_numbering": "1",
   "nav_menu": {},
   "number_sections": false,
   "sideBar": true,
   "skip_h1_title": false,
   "title_cell": "Table of Contents",
   "title_sidebar": "Contents",
   "toc_cell": false,
   "toc_position": {
    "height": "calc(100% - 180px)",
    "left": "10px",
    "top": "150px",
    "width": "384px"
   },
   "toc_section_display": true,
   "toc_window_display": false
  }
 },
 "nbformat": 4,
 "nbformat_minor": 4
}
